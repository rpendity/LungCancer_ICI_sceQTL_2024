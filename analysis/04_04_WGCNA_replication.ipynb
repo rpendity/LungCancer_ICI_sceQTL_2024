{
 "cells": [
  {
   "cell_type": "code",
   "execution_count": null,
   "metadata": {
    "vscode": {
     "languageId": "r"
    }
   },
   "outputs": [],
   "source": [
    "vlib = c(\"tidyverse\", \"ggpubr\", \"patchwork\", \"tidyseurat\", \"future.apply\",\n",
    "   \"arrow\", \"pheatmap\", \"ggrastr\",  \"Seurat\", \"hdWGCNA\", \"ggsci\")\n",
    "lapply(vlib, require, character.only = TRUE, quietly = TRUE) |> suppressMessages()\n",
    "\n",
    "base_dir = \".\"\n",
    "setwd(base_dir)\n",
    "\n",
    "saveRDS.gz <- function(object, file, threads=4) {\n",
    "  con <- pipe(paste0(\"pigz -p\", threads, \" > \", file), \"wb\")\n",
    "  saveRDS(object, file = con)\n",
    "  close(con)\n",
    "}\n",
    "readRDS.gz <- function(file, threads = parallel::detectCores()) {\n",
    "  con <- pipe(paste0(\"pigz -d -c -p\", threads, \" \", file))\n",
    "  object <- readRDS(file = con)\n",
    "  close(con)\n",
    "  return(object)\n",
    "}"
   ]
  },
  {
   "cell_type": "code",
   "execution_count": null,
   "metadata": {
    "vscode": {
     "languageId": "r"
    }
   },
   "outputs": [],
   "source": [
    "seurat_obj.ref = readRDS.gz(\"seuratobj.wgcna.RDS\")"
   ]
  },
  {
   "cell_type": "code",
   "execution_count": null,
   "metadata": {
    "vscode": {
     "languageId": "r"
    }
   },
   "outputs": [],
   "source": [
    "seurat_obj.ref <- SetDatExpr(\n",
    "  seurat_obj.ref,\n",
    "  group_name = \"CD8\",\n",
    "  group.by = \"anno_l1\"\n",
    ")"
   ]
  },
  {
   "cell_type": "markdown",
   "metadata": {},
   "source": [
    "## AIDA dataset"
   ]
  },
  {
   "cell_type": "code",
   "execution_count": null,
   "metadata": {
    "vscode": {
     "languageId": "r"
    }
   },
   "outputs": [],
   "source": [
    "seurat_obj.aida = readRDS.gz(\"seuratobj.aida.RDS\")\n",
    "DefaultAssay(seurat_obj.aida) = \"RNA\""
   ]
  },
  {
   "cell_type": "code",
   "execution_count": null,
   "metadata": {
    "vscode": {
     "languageId": "r"
    }
   },
   "outputs": [],
   "source": [
    "seurat_obj.aida <- ProjectModules(\n",
    "  seurat_obj = seurat_obj.aida,\n",
    "  seurat_ref = seurat_obj.ref,\n",
    "  # vars.to.regress = c(), # optionally regress covariates when running ScaleData\n",
    "  group.by.vars = \"ID\", # column in seurat_query to run harmony on\n",
    "  wgcna_name_proj=\"wgcna_repl_cd8\", # name of the new hdWGCNA experiment in the query dataset\n",
    "  wgcna_name = \"wgcna\" # name of the hdWGCNA experiment in the ref dataset\n",
    ")\n",
    "\n",
    "seurat_obj.aida <- SetDatExpr(\n",
    "  seurat_obj.aida,\n",
    "  group_name = \"CD8 T\",\n",
    "  group.by = \"predicted.celltype.l1\"\n",
    ")\n",
    "\n",
    "seurat_obj.aida <- ModulePreservation(\n",
    "  seurat_obj.aida,\n",
    "  seurat_ref = seurat_obj.ref,\n",
    "  name=\"wgcna_repl_cd8\",\n",
    "  verbose=3,\n",
    "  n_permutations=250 # n_permutations=20 used for the tutorial\n",
    ")"
   ]
  },
  {
   "cell_type": "code",
   "execution_count": null,
   "metadata": {
    "vscode": {
     "languageId": "r"
    }
   },
   "outputs": [],
   "source": [
    "mod_pres <- GetModulePreservation(seurat_obj.aida, \"wgcna_repl_cd8\")$Z # z-scored\n",
    "mod_pres = mod_pres %>% select(-8) %>% rownames_to_column(\"color\") %>% write_delim(\"assets/wgcna/replication_modpres.txt.gz\", delim = \"\\t\")\n",
    "obs_df <- GetModulePreservation(seurat_obj.aida, \"wgcna_repl_cd8\")$obs # observed\n",
    "obs_df %>% select(-8) %>% rownames_to_column(\"color\") %>% write_delim(\"assets/wgcna/replication_obsdf.txt.gz\", delim = \"\\t\")"
   ]
  },
  {
   "cell_type": "code",
   "execution_count": null,
   "metadata": {
    "vscode": {
     "languageId": "r"
    }
   },
   "outputs": [],
   "source": [
    "mod_pres = read_delim(\"assets/wgcna/replication_modpres.txt.gz\", delim = \"\\t\")"
   ]
  },
  {
   "cell_type": "markdown",
   "metadata": {},
   "source": [
    "## supplementary figure F6a"
   ]
  },
  {
   "cell_type": "code",
   "execution_count": null,
   "metadata": {
    "vscode": {
     "languageId": "r"
    }
   },
   "outputs": [],
   "source": [
    "options(repr.plot.width = 8, repr.plot.height = 5, repr.plot.res = 200)\n",
    "pmod_pres = mod_pres %>%\n",
    "  dplyr::select(1,2, Zsummary.pres, Zsummary.qual) %>%\n",
    "  pivot_longer(col = 3:ncol(.)) %>%\n",
    "  ggplot(aes(x = moduleSize, y = value, fill = color)) +\n",
    "    geom_rect(aes(xmin=-Inf, xmax=Inf, ymin=-Inf, ymax=2), fill = \"grey50\", alpha = 0.4)+\n",
    "    geom_rect(aes(xmin=-Inf, xmax=Inf, ymin=2, ymax=10), fill = \"grey80\", alpha = 0.4)+\n",
    "    geom_hline(yintercept = 0)+\n",
    "    geom_point(shape = 21,size = 3)+\n",
    "    scale_fill_identity()+\n",
    "    geom_text_repel(aes(label = color))+\n",
    "    theme_pubr(legend = \"right\")+\n",
    "    facet_wrap(~name, scale = \"free\") +\n",
    "    theme(axis.line = element_blank(),\n",
    "          axis.text = element_text(size = 14),\n",
    "          axis.title = element_text(size = 15),\n",
    "          panel.border = element_rect(fill = NA),\n",
    "          strip.background = element_rect(fill= NA),\n",
    "          strip.text = element_text(size = 13)\n",
    "          )\n",
    "pmod_pres\n",
    "pmod_pres %>% ggsave(\n",
    "  \"figure_prep/supplementary/sf6_modpres.pdf\",\n",
    "  ., height = 5, width = 8, dpi = 300\n",
    ")"
   ]
  },
  {
   "cell_type": "markdown",
   "metadata": {},
   "source": [
    "## TME dataset"
   ]
  },
  {
   "cell_type": "code",
   "execution_count": null,
   "metadata": {
    "vscode": {
     "languageId": "r"
    }
   },
   "outputs": [],
   "source": [
    "seurat_obj.tme = readRDS.gz(\"seuratobj.tme.RDS\")\n",
    "DefaultAssay(seurat_obj.tme) = \"RNA\""
   ]
  },
  {
   "cell_type": "code",
   "execution_count": null,
   "metadata": {
    "vscode": {
     "languageId": "r"
    }
   },
   "outputs": [],
   "source": [
    "seurat_obj.tme <- ProjectModules(\n",
    "  seurat_obj = seurat_obj.tme,\n",
    "  seurat_ref = seurat_obj.ref,\n",
    "  # vars.to.regress = c(), # optionally regress covariates when running ScaleData\n",
    "  group.by.vars = \"ID\", # column in seurat_query to run harmony on\n",
    "  wgcna_name_proj=\"projection\", # name of the new hdWGCNA experiment in the query dataset\n",
    "  wgcna_name = \"wgcna\" # name of the hdWGCNA experiment in the ref dataset\n",
    ")\n",
    "\n",
    "seurat_obj.tme <- SetDatExpr(\n",
    "  seurat_obj.tme,\n",
    "  group_name = \"CD8_T\",\n",
    "  group.by = \"anno_l1\"\n",
    ")"
   ]
  },
  {
   "cell_type": "code",
   "execution_count": null,
   "metadata": {
    "vscode": {
     "languageId": "r"
    }
   },
   "outputs": [],
   "source": [
    "seurat_obj.tme <- ModulePreservation(\n",
    "  seurat_obj.tme,\n",
    "  seurat_ref = seurat_obj.ref,\n",
    "  name=\"wgcna_preservation\",\n",
    "  verbose=3,\n",
    "  n_permutations=250 # n_permutations=20 used for the tutorial\n",
    ")"
   ]
  },
  {
   "cell_type": "code",
   "execution_count": null,
   "metadata": {
    "vscode": {
     "languageId": "r"
    }
   },
   "outputs": [],
   "source": [
    "mod_pres <- GetModulePreservation(seurat_obj.tme, \"wgcna_preservation\")$Z # z-scored\n",
    "mod_pres = mod_pres %>% select(-8) %>% rownames_to_column(\"color\") %>% write_delim(\"assets/tme_analysis/replication_modpres.txt.gz\", delim = \"\\t\")\n",
    "obs_df <- GetModulePreservation(seurat_obj.tme, \"wgcna_preservation\")$obs # observed\n",
    "obs_df %>% select(-8) %>% rownames_to_column(\"color\") %>% write_delim(\"assets/tme_analysis/replication_obsdf.txt.gz\", delim = \"\\t\")"
   ]
  },
  {
   "cell_type": "code",
   "execution_count": null,
   "metadata": {
    "vscode": {
     "languageId": "r"
    }
   },
   "outputs": [],
   "source": []
  },
  {
   "cell_type": "code",
   "execution_count": null,
   "metadata": {
    "vscode": {
     "languageId": "r"
    }
   },
   "outputs": [],
   "source": [
    "options(repr.plot.width = 8, repr.plot.height = 5, repr.plot.res = 200)\n",
    "pmod_pres = mod_pres %>%\n",
    "  dplyr::select(1,2, Zsummary.pres, Zsummary.qual) %>%\n",
    "  pivot_longer(col = 3:ncol(.)) %>%\n",
    "  ggplot(aes(x = moduleSize, y = value, fill = color)) +\n",
    "    geom_rect(aes(xmin=-Inf, xmax=Inf, ymin=-Inf, ymax=2), fill = \"grey50\", alpha = 0.4)+\n",
    "    geom_rect(aes(xmin=-Inf, xmax=Inf, ymin=2, ymax=10), fill = \"grey80\", alpha = 0.4)+\n",
    "    geom_hline(yintercept = 0)+\n",
    "    geom_point(shape = 21,size = 3)+\n",
    "    scale_fill_identity()+\n",
    "    geom_text_repel(aes(label = color))+\n",
    "    theme_pubr(legend = \"right\")+\n",
    "    facet_wrap(~name, scale = \"free\") +\n",
    "    theme(axis.line = element_blank(),\n",
    "          axis.text = element_text(size = 14),\n",
    "          axis.title = element_text(size = 15),\n",
    "          panel.border = element_rect(fill = NA),\n",
    "          strip.background = element_rect(fill= NA),\n",
    "          strip.text = element_text(size = 13)\n",
    "          )\n",
    "pmod_pres\n",
    "pmod_pres %>% ggsave(\n",
    "  \"figure_prep/supplementary/sf9_tme_modpres.pdf\",\n",
    "  ., height = 5, width = 8, dpi = 300\n",
    ")"
   ]
  }
 ],
 "metadata": {
  "language_info": {
   "name": "python"
  }
 },
 "nbformat": 4,
 "nbformat_minor": 2
}
