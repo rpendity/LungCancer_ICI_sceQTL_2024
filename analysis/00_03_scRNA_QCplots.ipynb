{
 "cells": [
  {
   "cell_type": "code",
   "execution_count": null,
   "metadata": {
    "vscode": {
     "languageId": "r"
    }
   },
   "outputs": [],
   "source": [
    "vlib = c(\"tidyverse\", \"ggpubr\", \"patchwork\", \"tidyseurat\", \"ggrastr\",\n",
    "         \"Seurat\", \"ggsci\")\n",
    "lapply(vlib, require, character.only = TRUE, quietly = TRUE) |> suppressMessages()\n",
    "\n",
    "base.dir = \".\"\n",
    "setwd(base.dir)\n",
    "\n",
    "saveRDS.gz <- function(object, file, threads=4) {\n",
    "  con <- pipe(paste0(\"pigz -p\", threads, \" > \", file), \"wb\")\n",
    "  saveRDS(object, file = con)\n",
    "  close(con)\n",
    "}\n",
    "readRDS.gz <- function(file, threads = parallel::detectCores()) {\n",
    "  con <- pipe(paste0(\"pigz -d -c -p\", threads, \" \", file))\n",
    "  object <- readRDS(file = con)\n",
    "  close(con)\n",
    "  return(object)\n",
    "}"
   ]
  },
  {
   "cell_type": "markdown",
   "metadata": {},
   "source": [
    "## R preprocessing steps"
   ]
  },
  {
   "cell_type": "code",
   "execution_count": null,
   "metadata": {
    "vscode": {
     "languageId": "r"
    }
   },
   "outputs": [],
   "source": [
    "chr_barcode = \"barcode_information.txt.gz\"\n",
    "seurat_count = Read10X(data.dir = \"seurat_count\")\n",
    "seurat_obj = CreateSeuratObject(counts = seurat_count)\n",
    "df_md = fread(chr_barcode) %>%\n",
    "  mutate(cell = paste(file, cell_barcode, sep = \"_\"),\n",
    "         sample_time = paste(sample, time, sep = \"-\")) %>%\n",
    "  filter(cell %in% rownames(seurat_obj@meta.data)) %>%\n",
    "  select(cell, sample, time, sample_time, file)\n",
    "df_md_update = seurat_obj@meta.data %>%\n",
    "  rownames_to_column(\"cell\") %>%\n",
    "  left_join(df_md) %>%\n",
    "  column_to_rownames(\"cell\")\n",
    "\n",
    "list_seurat_obj = SplitObject(seurat_obj, split.by = \"sample_time\")\n",
    "\n",
    "seurat_obj@meta.data$sample_time %>% unique()\n",
    "\n",
    "# sctransform all samples\n",
    "list_seurat_obj <- lapply(X = list_seurat_obj, \n",
    "                          FUN = SCTransform, \n",
    "                          method = \"glmGamPoi\", \n",
    "                          return.only.var.genes = FALSE)\n",
    "\n",
    "# select integration features and integrate\n",
    "features <- SelectIntegrationFeatures(object.list = list_seurat_obj, nfeatures = 3000)\n",
    "seurat_obj_Harmony_SCT <- merge(x = list_seurat_obj[[1]], y = list_seurat_obj[2:length(list_seurat_obj)], merge.data=TRUE)\n",
    "VariableFeatures(seurat_obj_Harmony_SCT) <- features\n",
    "seurat_obj_Harmony_SCT = seurat_obj_Harmony_SCT %>%\n",
    "  RunPCA( verbose = FALSE) \n",
    "seurat_obj_Harmony_SCT = seurat_obj_Harmony_SCT %>%\n",
    "  RunHarmony(assay.use=\"SCT\", group.by.vars = \"sample_time\") %>%\n",
    "  RunUMAP(reduction = \"harmony\", dims = 1:30) %>%\n",
    "  FindNeighbors(reduction = \"harmony\", dims = 1:30) %>% \n",
    "  FindClusters()\n",
    "\n",
    "#import_umap\n",
    "\n",
    "df_umap = read_delim(\"umap.tsv\")\n",
    "colnames(df_umap) = c(\"Barcode\", \"pyUMAP_1\", \"pyUMAP_2\")\n",
    "df_leiden = read_delim(\"leiden_res1.tsv\")\n",
    "colnames(df_leiden) = c(\"Barcode\", \"leiden\")\n",
    "\n",
    "df_md_update = seurat_obj_Harmony_SCT@meta.data %>%\n",
    "  rownames_to_column(\"Barcode\") %>%\n",
    "  left_join(df_leiden) %>%\n",
    "  column_to_rownames(\"Barcode\")\n",
    "\n",
    "seurat_obj_Harmony_SCT@meta.data = df_md_update\n",
    "\n",
    "DimPlot(seurat_obj_Harmony_SCT, group.by = \"leiden\", pt.size = 0)\n",
    "\n",
    "\n",
    "mtx_pyUMAP = df_umap %>% column_to_rownames(\"Barcode\") %>% as.matrix()\n",
    "\n",
    "seurat_obj_Harmony_SCT[[\"pyUMAP\"]] = CreateDimReducObject(\n",
    "  embeddings = mtx_pyUMAP, key = \"pyUMAP_\", global = T, assay = \"SCT\")\n",
    "\n",
    "\n",
    "DimPlot(seurat_obj_Harmony_SCT, reduction = \"pyUMAP\", group.by = \"leiden\", pt.size = 0)\n",
    "seurat_obj_Harmony_SCT %>% saveRDS(\"231019_PBMC_LC_split_harmony_integrated.RDS\")"
   ]
  },
  {
   "cell_type": "code",
   "execution_count": null,
   "metadata": {
    "vscode": {
     "languageId": "r"
    }
   },
   "outputs": [],
   "source": [
    "## azimuth pipeline is used for \n",
    "\n",
    "library(SeuratDisk)\n",
    "reference <- LoadH5Seurat(\"pbmc_multimodal.h5seurat\") # from azimuth reference\n",
    "DimPlot(object = reference, reduction = \"wnn.umap\", group.by = \"celltype.l2\", label = TRUE, label.size = 3, repel = TRUE,\n",
    "        pt.size = 0) + NoLegend()\n",
    "anchors <- FindTransferAnchors(\n",
    "  reference = reference,\n",
    "  query = seurat_obj_Harmony_SCT,\n",
    "  normalization.method = \"SCT\",\n",
    "  reference.reduction = \"spca\",\n",
    "  dims = 1:50\n",
    ")\n",
    "seurat_obj_projection <- MapQuery(\n",
    "  anchorset = anchors,\n",
    "  query = seurat_obj_Harmony_SCT,\n",
    "  reference = reference,\n",
    "  refdata = list(\n",
    "    celltype.l1 = \"celltype.l1\",\n",
    "    celltype.l2 = \"celltype.l2\",\n",
    "    predicted_ADT = \"ADT\"\n",
    "  ),\n",
    "  reference.reduction = \"spca\", \n",
    "  reduction.model = \"wnn.umap\"\n",
    ")\n",
    "rm(seurat_obj_Harmony_SCT); gc()\n",
    "saveRDS(seurat_obj_projection, file = \"231019_PBMC_LC_split_pyintegrated_azimuth.RDS\")"
   ]
  },
  {
   "cell_type": "markdown",
   "metadata": {},
   "source": [
    "## visualizations"
   ]
  },
  {
   "cell_type": "code",
   "execution_count": null,
   "metadata": {
    "vscode": {
     "languageId": "r"
    }
   },
   "outputs": [],
   "source": [
    "seurat_obj = readRDS.gz(\"231019_PBMC_LC_split_harmony_integrated.RDS\")"
   ]
  },
  {
   "cell_type": "code",
   "execution_count": null,
   "metadata": {
    "vscode": {
     "languageId": "r"
    }
   },
   "outputs": [],
   "source": [
    "c_color_anno_l1 = pal_flatui(alpha = 0.4)(8)\n",
    "c_colors = c(\"#9cc964\",\"#1077f3\", \"#5ba8f7\", \"#e83326\", \"#f98517\", \n",
    "             \"#fbaa5d\", \"#c85b00\", \"#ff7d67\", \"#d3ba59\", \"#eee8b6\",\n",
    "             \"#997600\", \"#c6a000\", \"#175182\",\"#48846c\", \"#ac0000\", \n",
    "             \"#ee74ee\", \"#970098\", \"#cc34cd\", \"#7018d3\", \"#9b54f3\", \n",
    "             \"#cab1e5\", \"#903900\", \"#0050ae\", \"#008c5c\",\"grey50\", \"#83ca9c\")"
   ]
  },
  {
   "cell_type": "markdown",
   "metadata": {},
   "source": [
    "## figure 1D-E"
   ]
  },
  {
   "cell_type": "code",
   "execution_count": null,
   "metadata": {
    "vscode": {
     "languageId": "r"
    }
   },
   "outputs": [],
   "source": [
    "dbl_xmin = -10\n",
    "dbl_ymin = -11\n",
    "p_anno_l1 = DimPlot(seurat_obj,\n",
    "  reduction = \"pyUMAP\",\n",
    "  group.by = \"anno_l1\",\n",
    "  cols = c_color_anno_l1,\n",
    "  raster.dpi = c(4096, 4096), pt.size = 4, alpha = 0.4\n",
    ") &\n",
    "  guides(color = guide_legend(\n",
    "    ncol = 1,\n",
    "    override.aes = list(shape = 15, size = 5)\n",
    "  )) &\n",
    "  annotate(\"segment\", x = dbl_xmin, y = dbl_ymin, xend = dbl_xmin, yend = dbl_ymin + 5,\n",
    "    arrow = arrow(length = unit(.25, \"cm\"), angle = 20, type = \"closed\")\n",
    "  ) &\n",
    "  annotate(\"segment\", x = dbl_xmin, y = dbl_ymin, xend = dbl_xmin + 5, yend = dbl_ymin,\n",
    "    arrow = arrow(length = unit(.25, \"cm\"), angle = 20, type = \"closed\")\n",
    "  ) &\n",
    "  ggtitle(\"anno_l1\") &\n",
    "  theme(\n",
    "    plot.title = element_text(size = 20, hjust = 0),\n",
    "    axis.title.x = element_text(hjust = 0.1, vjust = 0, size = 18),\n",
    "    axis.title.y = element_text(hjust = 0.1, vjust = 1, size = 18),\n",
    "    axis.ticks.x = element_blank(),\n",
    "    axis.ticks.y = element_blank(),\n",
    "    axis.line = element_blank(),\n",
    "    axis.text.x = element_blank(),\n",
    "    axis.text.y = element_blank(),\n",
    "    legend.text = element_text(size = 12),\n",
    "    legend.key.height = unit(0.25, \"null\"),\n",
    "    legend.key.width = unit(0.5, \"cm\"),\n",
    "    legend.position = \"right\"\n",
    "  ) &\n",
    "  xlab(\"UMAP_1\") &\n",
    "  ylab(\"UMAP_2\")\n",
    "\n",
    "options(repr.plot.width = 8, repr.plot.height = 7, repr.plot.res = 300)\n",
    "p_anno_l1 %>% ggsave(\"figure_prep/pDimPlot_annol1.pdf\", ., dpi = 300, height = 7, width = 8)"
   ]
  },
  {
   "cell_type": "code",
   "execution_count": null,
   "metadata": {
    "vscode": {
     "languageId": "r"
    }
   },
   "outputs": [],
   "source": [
    "\n",
    "pComp_annol1 = seurat_obj@meta.data %>%\n",
    "  mutate(time = factor(time, levels = c(\"base\", \"1st\")),\n",
    "         Response = factor(Response, levels = c(\"PR\", \"PD\"))) %>%\n",
    "  ggplot(aes(x = time, fill = anno_l1)) + \n",
    "    geom_bar(position  = \"fill\", alpha = 0.8) + \n",
    "    scale_fill_flatui() +\n",
    "    facet_wrap(~Response, scales = \"free_x\", )+\n",
    "    xlab(\"Before/After treatment\")+\n",
    "    ylab(\"Proportion\")+\n",
    "    theme_pubr(legend = \"right\") +\n",
    "  theme(\n",
    "    plot.title = element_text(size = 20, hjust = 0),\n",
    "    axis.title.x = element_text(hjust = 0.5, size = 18),\n",
    "    axis.title.y = element_text(hjust = 0.5, size = 18),\n",
    "    axis.text.x =  element_text(size = 16),\n",
    "    axis.text.y =  element_text(size = 16),\n",
    "    axis.line = element_blank(), \n",
    "    strip.background = element_rect(fill= NA),\n",
    "    strip.text = element_text(size = 16),\n",
    "    legend.text = element_text(size = 16),\n",
    "    legend.key.size = unit(2, 'mm'),\n",
    "    legend.position = \"right\",\n",
    "    panel.border = element_rect(linewidth = 1, color = \"black\", fill = NA)\n",
    "  )+ guides(colour = guide_legend(ncol = 1))\n",
    "\n",
    "pComp_annol1 %>% ggsave(\"figure_prep/pComp_annol1.pdf\", ., dpi = 300, height = 1800, width = 1500, units = \"px\")\n",
    "\n"
   ]
  },
  {
   "cell_type": "code",
   "execution_count": null,
   "metadata": {
    "vscode": {
     "languageId": "r"
    }
   },
   "outputs": [],
   "source": [
    "features= c(\"CD74\", \"HLA-DPB1\", 'CD79A',\n",
    "            'IL7R', 'MAL',\n",
    "            'CD8B', 'CD8A', \n",
    "            'NKG7', \n",
    "            'GZMK', 'KLRB1',\n",
    "            'TYROBP',\n",
    "            'CTSS',\n",
    "            \"PPBP\")\n",
    "\n",
    "pDotPlot = seurat_obj %>% DotPlot(features = features, group.by = \"anno_l1\")\n",
    "\n",
    "pDotPlot_updated = pDotPlot$data %>% \n",
    "  mutate(id = ifelse(id == \"Other_T\", \"Other T\", as.character(id))) %>%\n",
    "  rename(`Average Expression` = avg.exp.scaled, \n",
    "         `% Expressed` = pct.exp) %>%\n",
    "  mutate(id = factor(id, levels = c(\"B\", \"CD4\", \"CD8\", \"Other T\", \"NK\", \"Mono\", \"DC\", \"Other\"))) %>%\n",
    "  ggplot(aes(x = id, y = features.plot, color = `Average Expression`, size = `% Expressed`)) + geom_point() +\n",
    "  theme_pubr(x.text.angle = 90) + \n",
    "  scale_color_gradient2(low = \"#624848\", mid = \"#cad8e6\", high = \"#13395d\")+\n",
    "  xlab('Annotated clusters') + ylab('Marker genes') +\n",
    "  theme(axis.line = element_blank(), \n",
    "        axis.text.x = element_text(hjust = 1, vjust = 0.5),\n",
    "        strip.background = element_rect(fill= NA),\n",
    "        strip.text = element_text(size = 16),\n",
    "        legend.text = element_text(size = 12),\n",
    "        legend.key.size = unit(5, 'mm'),\n",
    "        legend.ticks = element_blank(),\n",
    "        legend.position = \"bottom\",\n",
    "        panel.background = element_blank(),\n",
    "        panel.border = element_rect(linewidth = 1, color = \"black\", fill = NA),\n",
    "        panel.grid.major  = element_line(color = 'grey95'))\n",
    "\n",
    "pDotPlot_updated %>% ggsave(\"figure_prep/pDotPlot_markers_annol1.pdf\", ., dpi = 300, height = 1800, width = 1000, units = \"px\")"
   ]
  },
  {
   "cell_type": "markdown",
   "metadata": {},
   "source": [
    "## supplementary figure 1A"
   ]
  },
  {
   "cell_type": "code",
   "execution_count": null,
   "metadata": {
    "vscode": {
     "languageId": "r"
    }
   },
   "outputs": [],
   "source": [
    "dbl_xmin = -10\n",
    "dbl_ymin = -11\n",
    "p_anno_l2 = DimPlot(seurat_obj,\n",
    "                      reduction = \"pyUMAP\",\n",
    "                      group.by = \"anno_l2\",\n",
    "                      #group.by = \"anno_c1\",\n",
    "                      #cols = pal_flatui(alpha = 0.4)(8),\n",
    "                      cols = c(c_colors, pal_simpsons()(3)),\n",
    "                      #cols = pal_igv(alpha = 0.4)(29),\n",
    "                      raster.dpi = c(4096, 4096), pt.size = 4, alpha = 0.4,\n",
    "                      #label = TRUE\n",
    "                      ) &\n",
    "  guides(color = guide_legend(\n",
    "    ncol = 1,\n",
    "    override.aes = list(shape = 15, size = 5)\n",
    "  )) &\n",
    "  annotate(\"segment\", x = dbl_xmin, y = dbl_ymin, xend = dbl_xmin, yend = dbl_ymin + 5,\n",
    "    arrow = arrow(length = unit(.25, \"cm\"), angle = 20, type = \"closed\")\n",
    "  ) &\n",
    "  annotate(\"segment\", x = dbl_xmin, y = dbl_ymin, xend = dbl_xmin + 5, yend = dbl_ymin,\n",
    "    arrow = arrow(length = unit(.25, \"cm\"), angle = 20, type = \"closed\")\n",
    "  ) &\n",
    "  ggtitle(\"anno_l2\") &\n",
    "  theme(\n",
    "    plot.title = element_text(size = 20, hjust = 0),\n",
    "    axis.title.x = element_text(hjust = 0.1, vjust = 0, size = 18),\n",
    "    axis.title.y = element_text(hjust = 0.1, vjust = 1, size = 18),\n",
    "    axis.ticks.x = element_blank(),\n",
    "    axis.ticks.y = element_blank(),\n",
    "    axis.line = element_blank(),\n",
    "    axis.text.x = element_blank(),\n",
    "    axis.text.y = element_blank(),\n",
    "    legend.text = element_text(size = 12),\n",
    "    legend.key.height = unit(1, \"null\"),\n",
    "    legend.key.width = unit(0.5, \"cm\"),\n",
    "    legend.position = \"right\"\n",
    "  ) &\n",
    "  xlab(\"UMAP_1\") &\n",
    "  ylab(\"UMAP_2\")\n",
    "\n",
    "options(repr.plot.width = 8, repr.plot.height = 7, repr.plot.res = 300)\n",
    "p_anno_l2 %>% ggsave(\"figure_prep/pDimPlot_annol2.pdf\", ., dpi = 300, height = 7, width = 8)"
   ]
  },
  {
   "cell_type": "markdown",
   "metadata": {},
   "source": [
    "## supplementary figure 1B"
   ]
  },
  {
   "cell_type": "code",
   "execution_count": null,
   "metadata": {
    "vscode": {
     "languageId": "r"
    }
   },
   "outputs": [],
   "source": [
    "pComp_annol2 = seurat_obj@meta.data %>%\n",
    "  mutate(time = factor(time, levels = c(\"base\", \"1st\")),\n",
    "         Response = factor(Response, levels = c(\"Responder\", \"Non-responder\"))) %>%\n",
    "  ggplot(aes(x = time, fill = anno_l2)) + \n",
    "  geom_bar(position  = \"fill\", alpha = 0.8) + \n",
    "  scale_fill_manual(values = c(c_colors, pal_simpsons()(3)))+\n",
    "  facet_wrap(~Response, scales = \"free_x\", )+\n",
    "  xlab(\"Before/After treatment\")+\n",
    "  ylab(\"Proportion\")+\n",
    "  theme_pubr(legend = \"right\") +\n",
    "  theme(\n",
    "    plot.title = element_text(size = 20, hjust = 0),\n",
    "    axis.title.x = element_text(hjust = 0.5, size = 18),\n",
    "    axis.title.y = element_text(hjust = 0.5, size = 18),\n",
    "    axis.text.x =  element_text(size = 16),\n",
    "    axis.text.y =  element_text(size = 16),\n",
    "    axis.line = element_blank(), \n",
    "    strip.background = element_rect(fill= NA),\n",
    "    strip.text = element_text(size = 16),\n",
    "    legend.text = element_text(size = 12),\n",
    "    legend.key.size = unit(2, 'mm'),\n",
    "    legend.position = \"right\",\n",
    "    panel.border = element_rect(linewidth = 1, color = \"black\", fill = NA)\n",
    "  )+ guides(fill= guide_legend(ncol = 1))\n",
    "pComp_annol2  %>% ggsave(\"figure_prep/pComp_annol2.png\", ., dpi = 300, height = 1800, width = 1500, units = \"px\")\n"
   ]
  },
  {
   "cell_type": "markdown",
   "metadata": {},
   "source": [
    "## supplementary figure 1C"
   ]
  },
  {
   "cell_type": "code",
   "execution_count": null,
   "metadata": {
    "vscode": {
     "languageId": "r"
    }
   },
   "outputs": [],
   "source": [
    "c_clusters = c(\"Naive_B\",\n",
    "  \"AFF3_B\",\n",
    "  \"Memory_B\",\n",
    "  \"Plasmablast\",\n",
    "  \"CD4_Naive\",\n",
    "  \"CD4_CTL\",\n",
    "  \"CD4_TEM\",\n",
    "  \"CD4_TCM\",\n",
    "  \"CD8_Naive\",\n",
    "  \"CD8_TCM\",\n",
    "  \"CD8_TEM\",\n",
    "  \"Treg\",\n",
    "  \"MAIT\",\n",
    "  \"gdT\",\n",
    "  \"NKT\",\n",
    "  \"dnT\",\n",
    "  \"Proliferating_T\",\n",
    "  \"Mito-enriched\",\n",
    "  \"Stress-related\",\n",
    "  \"NK_CD56Dim\",\n",
    "  \"NK_CD56High\",\n",
    "  \"NK_Other\",\n",
    "  \"cDC\",\n",
    "  \"pDC\",\n",
    "  \"CD14_Mono\",\n",
    "  \"CD16_Mono\",\n",
    "  \"Erythrocyte\",\n",
    "  \"Platelet\",\n",
    "  \"doublet\"\n",
    ")\n",
    "\n",
    "\n",
    "c_markers = c(\"MS4A1\", \"BANK1\", \"ITM2C\", # B\n",
    "           \"MZB1\", # Plasmablast\n",
    "           \"CD4\", \"GZMH\", # CD4 CTL\n",
    "           \"IL7R\", # CD4 Naive\n",
    "           \"AQP3\", # CD4 TCM\n",
    "           \"CCL5\",  # CD4 TEM\n",
    "           \"CD8B\",  \"CD3D\", # CD8 Naive, #CD8 Proliferating\n",
    "           \"NELL2\", # CD8 TCM\n",
    "           \"MKI67\", # Proliferating\n",
    "           \"KLRB1\", \"GZMK\", # MAIT\n",
    "           \"FOXP3\",  # Treg\n",
    "           \"NUCB2\", \"FXYD2\", # dnT\n",
    "           \"TRGV9\", \"KLRD1\", #gdT\n",
    "           \"XCL1\", \"KLRC1\", # NK_high\n",
    "           \"NKG7\", \"GZMB\", \"SPON2\", # NK_low\n",
    "           \"CLSPN\", \"TRDC\", # NK_Prolifer\n",
    "           \"S100A8\", \"S100A9\", \"LYZ\", # CD14 Mono\n",
    "           \"LST1\", \"FCGR3A\", \"MS4A7\", # CD16 Mono\n",
    "           \"FCER1A\", \"CLEC10A\", # DC\n",
    "           \"AHSP\", \"HBM\", # Eryth\n",
    "           \"MT-CO3\", \"JUNB\", #HSPC\n",
    "           \"PPBP\", \"TUBB1\" # Platelet\n",
    ")\n",
    "seurat_obj = seurat_obj %>%\n",
    "  mutate(anno_l2_factor = factor(anno_l2, levels = rev(c_clusters)))\n",
    "\n",
    "options(repr.plot.width = 13, repr.plot.height = 10, repr.plot.res = 100)\n",
    "DotPlot(seurat_obj, group.by = \"anno_l2_factor\", c_markers) &\n",
    "  theme(axis.text.x = element_text(angle = 90, vjust = 0.5, hjust = 1))\n",
    "\n",
    "ggsave(\"figure_prep/pDotPlot_markers_annol2.pdf\", width = 13, height = 10)"
   ]
  }
 ],
 "metadata": {
  "language_info": {
   "name": "python"
  }
 },
 "nbformat": 4,
 "nbformat_minor": 2
}
