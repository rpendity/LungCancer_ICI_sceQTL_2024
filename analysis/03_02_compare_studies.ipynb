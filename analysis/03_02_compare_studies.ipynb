{
 "cells": [
  {
   "cell_type": "code",
   "execution_count": null,
   "metadata": {
    "vscode": {
     "languageId": "r"
    }
   },
   "outputs": [],
   "source": [
    "# use R with following packages.\n",
    "vlib = c(\"tidyverse\", \"arrow\", \"mashr\", \"ashr\", \"enrichR\", \"ggpubr\")\n",
    "lapply(vlib, require, character.only = TRUE, quietly = TRUE) |> suppressMessages()\n",
    "\n",
    "\n",
    "base_dir = \".\"\n",
    "setwd(base_dir)\n",
    "\n",
    "df_meta = read_delim(\"assets/file_meta.txt\",\n",
    "                     col_names = c(\"levels\", \"time\", \"cluster_name\")) %>%\n",
    "  mutate(prefix_file = paste0(levels, \"_\", time, \"_\", cluster_name))"
   ]
  },
  {
   "cell_type": "code",
   "execution_count": null,
   "metadata": {
    "vscode": {
     "languageId": "r"
    }
   },
   "outputs": [],
   "source": [
    "df_gtex_wholeblood = read_delim(\"assets/compare_studies/gtex/whole_blood_significant.txt.gz\")\n",
    "df_map_cis = read_delim(\"02_mashr/joined_all_results.txt.gz\")"
   ]
  }
 ],
 "metadata": {
  "language_info": {
   "name": "python"
  }
 },
 "nbformat": 4,
 "nbformat_minor": 2
}
