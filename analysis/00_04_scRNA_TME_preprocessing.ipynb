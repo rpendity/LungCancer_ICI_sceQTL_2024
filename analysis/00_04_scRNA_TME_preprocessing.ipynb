{
 "cells": [
  {
   "cell_type": "code",
   "execution_count": null,
   "metadata": {
    "vscode": {
     "languageId": "r"
    }
   },
   "outputs": [],
   "source": [
    "vlib = c(\"tidyverse\", \"ggpubr\", \"patchwork\", \"tidyseurat\", \"future.apply\",\n",
    "   \"arrow\", \"pheatmap\", \"ggrastr\",  \"Seurat\", \"hdWGCNA\", \"ggsci\")\n",
    "lapply(vlib, require, character.only = TRUE, quietly = TRUE) |> suppressMessages()\n",
    "\n",
    "base_dir = \".\"\n",
    "\n",
    "setwd(base_dir)\n",
    "\n",
    "saveRDS.gz <- function(object, file, threads=4) {\n",
    "  con <- pipe(paste0(\"pigz -p\", threads, \" > \", file), \"wb\")\n",
    "  saveRDS(object, file = con)\n",
    "  close(con)\n",
    "}\n",
    "readRDS.gz <- function(file, threads = parallel::detectCores()) {\n",
    "  con <- pipe(paste0(\"pigz -d -c -p\", threads, \" \", file))\n",
    "  object <- readRDS(file = con)\n",
    "  close(con)\n",
    "  return(object)\n",
    "}"
   ]
  },
  {
   "cell_type": "code",
   "execution_count": null,
   "metadata": {
    "vscode": {
     "languageId": "r"
    }
   },
   "outputs": [],
   "source": [
    "df_si = read_delim(\"tme_analysis/241027_sampleInfo.txt\")\n",
    "df_immunecell = read_delim(\"tme_analysis/putative_immune_cells.txt.gz\")\n",
    "int_filter_MinnFRNA = 200\n",
    "int_filter_MaxnFRNA = 6000\n",
    "int_filter_MaxpMT = 20\n",
    "\n",
    "\n",
    "create_object = function(dir_10x, chr_project_name, df_si) {    \n",
    "    seuratobj = Read10X(dir_10x) %>% CreateSeuratObject(counts = ., project = chr_project_name, min.cells = 3, min.features = 200)\n",
    "    temp_meta = seuratobj@meta.data %>% \n",
    "        mutate(ID = as.character(orig.ident)) %>%\n",
    "        rownames_to_column(var=\"barcode\") %>%\n",
    "        left_join(., df_si, by = (\"ID\")) %>%\n",
    "        column_to_rownames(\"barcode\")\n",
    "    seuratobj@meta.data = temp_meta\n",
    "    seuratobj[[\"percent.mt\"]] <- PercentageFeatureSet(seuratobj, pattern = \"^MT-\")\n",
    "    return(seuratobj)\n",
    "} \n",
    "for(i in seq_along(df_si$ID)) {\n",
    "    each_seurat_obj = create_object(paste0(\"tme_analysis/\", df_si$ID[i], \"/filtered_feature_bc_matrix\"), df_si$ID[i], df_si)\n",
    "    list_seurat_obj[[i]] = each_seurat_obj\n",
    "}\n",
    "for(i in seq_along(df_si$ID)) {\n",
    "    list_seurat_obj[[i]] =  list_seurat_obj[[i]] %>%\n",
    "      filter(nFeature_RNA > int_filter_MinnFRNA & \n",
    "             nFeature_RNA < int_filter_MaxnFRNA & \n",
    "             percent.mt < int_filter_MaxpMT)\n",
    "}\n",
    "seurat_obj = merge(x = list_seurat_obj[[1]], y = list_seurat_obj[2:length(list_seurat_obj)], merge.data=TRUE)\n",
    "seurat_obj = JoinLayers(seurat_obj)\n",
    "seurat_obj = subset(seurat_obj, cells = df_immunecell$CellID)\n",
    "seurat_obj = SCTransform(seurat_obj)\n",
    "seurat_obj[[\"SCT\"]] <- split(seurat_obj[[\"SCT\"]], f = seurat_obj$ID)\n",
    "DefaultAssay(seurat_obj) = \"SCT\"\n",
    "seurat_obj = NormalizeData(seurat_obj)\n",
    "seurat_obj = FindVariableFeatures(seurat_obj)\n",
    "seurat_obj = ScaleData(seurat_obj)\n",
    "seurat_obj = RunPCA(seurat_obj)\n",
    "seurat_obj = IntegrateLayers(\n",
    "  object = seurat_obj, method = HarmonyIntegration,\n",
    "  orig.reduction = \"pca\", new.reduction = \"harmony\",\n",
    "  verbose = TRUE\n",
    ")\n",
    "seurat_obj = FindNeighbors(seurat_obj, reduction = \"harmony\", dims = 1:30)\n",
    "c_resolution = c(0.3, 0.5, 0.7, 1.0)\n",
    "seurat_obj = FindClusters(seurat_obj, resolution = c_resolution, cluster.name = paste0(\"harmony_clusters\", c_resolution))\n",
    "seurat_obj = RunUMAP(seurat_obj, reduction = \"harmony\", dims = 1:30, reduction.name = \"umap.harmony\")\n",
    "seurat_obj = JoinLayers(seurat_obj)\n",
    "DefaultAssay(seurat_obj) = \"RNA\"\n",
    "seurat_obj = seurat_obj %>%\n",
    "    NormalizeData() %>%\n",
    "    ScaleData()\n",
    "\n",
    "df_azimuth = read_delim(\"tme_analysis/azimuth_clusters.txt.gz\") %>%\n",
    "  select(CellID, orig.ident, predicted.ann_level_1:predicted.ann_finest_level, mapping.score)\n",
    "new_md = seurat_obj@meta.data %>%\n",
    "  rownames_to_column(\"CellID\") %>%\n",
    "  left_join(df_azimuth) %>%\n",
    "  column_to_rownames(\"CellID\")\n",
    "seurat_obj@meta.data = new_md\n",
    "\n",
    "# CD4 : 0,4,16,6,17,9,18,3\n",
    "seurat_obj.cd4 = seurat_obj %>% filter(harmony_clusters1 %in% c(0, 4, 16, 6, 17, 9, 3))\n",
    "# CD8 : 18, 10, 1, 2, 13, 15, 11, 7, 8 \n",
    "seurat_obj.cd8 = seurat_obj %>% filter(harmony_clusters1 %in% c(18, 10, 1, 2, 13, 15, 11, 7, 8))\n",
    "# Others : (5, 14: NK), (12: Proliferating T), (19: lymphatic EC)\n",
    "seurat_obj.others = seurat_obj %>% filter(harmony_clusters1 %in% c(5,14,12,19))\n",
    "ref.CD4 <- readRDS.gz(\"tme_analysis/sketched_CD4T_human_ref_v2.rds\") %>% FindVariableFeatures()\n",
    "ref.CD8 <- readRDS.gz(\"tme_analysis/sketched_CD8T_human_ref_v1.rds\") %>% FindVariableFeatures()\n",
    "anchors.CD4 <- FindTransferAnchors(reference = ref.CD4, query = seurat_obj.cd4, dims = 1:15,\n",
    "    reference.reduction = \"pca\", normalization.method = \"LogNormalize\")\n",
    "anchors.CD8 <- FindTransferAnchors(reference = ref.CD8, query = seurat_obj.cd8, dims = 1:15,\n",
    "    reference.reduction = \"pca\", normalization.method = \"LogNormalize\")\n",
    "df_id_only.CD8 = predictions.CD8 %>% select(predicted.id)\n",
    "df_id_only.CD4 = predictions.CD4 %>% select(predicted.id)\n",
    "df_id_only = rbind(df_id_only.CD4, df_id_only.CD8) %>% dplyr::rename(anno_l2 = predicted.id)\n",
    "\n",
    "anno_l1 = data.frame(\n",
    "    harmony_clusters1 = as.character(c(0, 4, 16, 6, 17, 9, 3, 18, 10, 1, 2, 13, 15, 11, 7, 8, 5, 14, 19, 12)),\n",
    "    anno_l1 = c(rep(\"CD4\", 7), rep(\"CD8\", 9), rep(\"NK\", 2), \"Other\", \"Other\")\n",
    ")\n",
    "\n",
    "anno_l2 = data.frame(\n",
    "    harmony_clusters1 = as.character(c(5, 14, 19, 12)),\n",
    "    anno_l2 = c(\"NK_1\", \"NK_2\", \"Lymphatic EC\", \"Proliferating_T\")\n",
    ")\n",
    "\n",
    "df_anno_l1 = seurat_obj@meta.data %>%\n",
    "  rownames_to_column(\"cellID\") %>%\n",
    "  select(cellID, harmony_clusters1) %>%\n",
    "  left_join(anno_l1) %>% \n",
    "  dplyr::select(-harmony_clusters1)\n",
    "\n",
    "df_id_only_others = seurat_obj@meta.data %>%\n",
    "  rownames_to_column(\"cellID\") %>%\n",
    "  dplyr::filter(harmony_clusters1 %in% c(5,14,19,12)) %>%\n",
    "  dplyr::select(harmony_clusters1, cellID) %>%\n",
    "  left_join(anno_l2) %>%\n",
    "  dplyr::select(-harmony_clusters1) %>%\n",
    "  column_to_rownames(\"cellID\")\n",
    "\n",
    "\n",
    "df_id_only = rbind(df_id_only_others, df_id_only) %>%\n",
    "  rownames_to_column(\"cellID\") %>%\n",
    "  left_join(df_anno_l1) %>%\n",
    "  column_to_rownames(\"cellID\")\n",
    "\n",
    "df_id_only %>% rownames_to_column(\"cellID\") %>% write_delim(\"cluster_anno_supervised.txt.gz\")\n",
    "\n",
    "seurat_obj <- AddMetaData(seurat_obj, metadata = df_id_only)"
   ]
  },
  {
   "cell_type": "markdown",
   "metadata": {},
   "source": [
    "## figure 6A"
   ]
  },
  {
   "cell_type": "code",
   "execution_count": null,
   "metadata": {
    "vscode": {
     "languageId": "r"
    }
   },
   "outputs": [],
   "source": [
    "options(repr.plot.width = 7, repr.plot.height = 5, repr.plot.res = 200)\n",
    "pDimPlot_l2 = DimPlot(seurat_obj, group.by = \"anno_l2\", \n",
    "   cols = pal_igv(alpha = 0.3)(30), label = TRUE, raster = TRUE,\n",
    "   repel = TRUE, pt.size = 7, raster.dpi = c(2048, 2048)) & \n",
    "  theme(legend.position = \"right\")\n",
    "\n",
    "pDimPlot_l2$data$anno_l2 = factor(pDimPlot_l2$data$anno_l2, \n",
    "  levels = c(\n",
    "    paste0(\"CD4.\", c(\"CTL_EOMES\", \"CTL_Exh\", \"CTL_GNLY\", \"NaiveLike\", \"Memory\", \"Tfh\", \"Th17\", \"Treg\")),\n",
    "    paste0(\"CD8.\", c(\"NaiveLike\", \"CM\", \"EM\", \"TEMRA\", \"TPEX\", \"TEX\", \"MAIT\")),\n",
    "    \"NK_1\", \"NK_2\", \"Proliferating_T\", \"Lymphatic EC\"\n",
    "  )\n",
    ")\n",
    "\n",
    "pDimPlot_l2 \n",
    "ggsave(\"tme_analysis/figure_prep/pDimPlot.pdf\", width = 7, height = 5)"
   ]
  },
  {
   "cell_type": "markdown",
   "metadata": {},
   "source": [
    "### figure 6B"
   ]
  },
  {
   "cell_type": "code",
   "execution_count": null,
   "metadata": {
    "vscode": {
     "languageId": "r"
    }
   },
   "outputs": [],
   "source": [
    "c_genes = c(\"GZMB\", \"PLEK\", \"CTSC\", \"APOBEC3G\", \n",
    "\"GSDMB\", \"IL18R1\", \"CTSW\",\n",
    "\"TBX21\", \"EOMES\", \"IL2RB\"\n",
    ")\n"
   ]
  },
  {
   "cell_type": "code",
   "execution_count": null,
   "metadata": {
    "vscode": {
     "languageId": "r"
    }
   },
   "outputs": [],
   "source": [
    "pDEG_dotPlot = seurat_obj.tme.cd8 %>%\n",
    "  DotPlot(\n",
    "    features = c_genes, \n",
    "    group.by = \"anno_l2\",\n",
    "    split.by = \"Binary_response\",\n",
    "    cols = c(\"#3939a4\", \"#3939a4\", \"lightgrey\")\n",
    "    )\n",
    "options(repr.plot.width = 7, repr.plot.height = 6, repr.plot.res = 200)\n",
    "pDEG_dotPlot & theme(axis.text.x = element_text(angle = 90, vjust = 0.5, hjust = 1))\n",
    "ggsave(\"tme_analysis/figure_prep/pDot_selected_genes.pdf\", width = 7, height = 6)"
   ]
  },
  {
   "cell_type": "markdown",
   "metadata": {},
   "source": [
    "### figure 6C"
   ]
  },
  {
   "cell_type": "code",
   "execution_count": null,
   "metadata": {
    "vscode": {
     "languageId": "r"
    }
   },
   "outputs": [],
   "source": [
    "theme_2 = theme(axis.text.x = element_blank(), axis.title.x = element_blank(), axis.title.y = element_blank())\n",
    "theme_3 = theme(axis.title.x = element_blank(), axis.title.y = element_blank())"
   ]
  },
  {
   "cell_type": "code",
   "execution_count": null,
   "metadata": {
    "vscode": {
     "languageId": "r"
    }
   },
   "outputs": [],
   "source": [
    "p1 = VlnPlot(seurat_obj.tme.cd8,\n",
    "  assay = \"RNA\",\n",
    "  features = c_genes,\n",
    "  group.by = \"Binary_response\",\n",
    "  pt.size = 0,\n",
    "  ncol = 5,\n",
    "  combine = FALSE\n",
    ")\n",
    "\n",
    "library(presto)\n",
    "df_deg = wilcoxauc(seurat_obj.tme.cd8, seurat_assay = \"RNA\", group_by = \"Binary_response\" )\n",
    "p.values = df_deg %>%\n",
    "  filter(feature %in% c_genes) %>%\n",
    "  mutate(feature = factor(feature, levels = c(c_genes))) %>%\n",
    "  filter(group == \"Non-responder\") %>% \n",
    "  arrange(feature) %>% pull(padj) %>% format(., digits = 3)\n",
    "\n",
    "for (i in 1:10) {\n",
    "    p1[[i]]$data$ident = factor(as.character(p1[[i]]$data$ident), levels= c(\"Responder\", \"Non-responder\"))\n",
    "    p1[[i]]$layers[[1]]$aes_params$size = 0\n",
    "}"
   ]
  },
  {
   "cell_type": "code",
   "execution_count": null,
   "metadata": {
    "vscode": {
     "languageId": "r"
    }
   },
   "outputs": [],
   "source": [
    "library(patchwork)\n",
    "phigh = (\n",
    "    (p1[[1]] + \n",
    "       theme(axis.text.x = element_blank(), axis.title.x = element_blank(), legend.position = \"none\") +\n",
    "       scale_fill_manual(values = c(\"#afafaf\", \"#a3260f\")) +\n",
    "       scale_color_manual(values = c(\"#FFFFFFFF\", \"#FFFFFFFF\")) +\n",
    "       annotate(\"text\", x = 1.5, y = max(p1[[1]]$data[,1])*0.9, label = p.values[1])\n",
    "    ) +\n",
    "    (p1[[2]] +\n",
    "       theme_2+\n",
    "       scale_fill_manual(values = c(\"#afafaf\", \"#a3260f\")) +\n",
    "       scale_color_manual(values = c(\"#FFFFFFFF\", \"#FFFFFFFF\")) +\n",
    "       annotate(\"text\", x = 1.5, y = max(p1[[2]]$data[,1])*0.9, label = p.values[2])\n",
    "    )+\n",
    "    (p1[[3]] +\n",
    "       theme_2+\n",
    "       scale_fill_manual(values = c(\"#afafaf\", \"#a3260f\")) +\n",
    "       scale_color_manual(values = c(\"#FFFFFFFF\", \"#FFFFFFFF\")) +\n",
    "       annotate(\"text\", x = 1.5, y = max(p1[[3]]$data[,1])*0.9, label = p.values[3])\n",
    "    )+\n",
    "    (p1[[4]] +\n",
    "       theme_2+\n",
    "       scale_fill_manual(values = c(\"#afafaf\", \"#a3260f\")) +\n",
    "       scale_color_manual(values = c(\"#FFFFFFFF\", \"#FFFFFFFF\")) +\n",
    "       annotate(\"text\", x = 1.5, y = max(p1[[4]]$data[,1])*0.9, label = p.values[4])\n",
    "    )+\n",
    "    (p1[[5]]+\n",
    "       theme_2+\n",
    "       scale_fill_manual(values = c(\"#afafaf\", \"#a3260f\")) +\n",
    "       scale_color_manual(values = c(\"#FFFFFFFF\", \"#FFFFFFFF\")) +\n",
    "       annotate(\"text\", x = 1.5, y = max(p1[[5]]$data[,1])*0.9, label = p.values[5])\n",
    "    )\n",
    ")\n",
    "plow = (\n",
    "    (p1[[6]] + \n",
    "      theme(axis.title.x = element_blank())+\n",
    "       scale_fill_manual(values = c(\"#afafaf\", \"#a3260f\")) +\n",
    "       scale_color_manual(values = c(\"#FFFFFFFF\", \"#FFFFFFFF\")) +\n",
    "       annotate(\"text\", x = 1.5, y = max(p1[[6]]$data[,1])*0.9, label = p.values[6])\n",
    "    ) +\n",
    "    (p1[[7]] + \n",
    "      theme_3+\n",
    "      scale_fill_manual(values = c(\"#afafaf\", \"#a3260f\")) +\n",
    "      scale_color_manual(values = c(\"#FFFFFFFF\", \"#FFFFFFFF\")) +\n",
    "      annotate(\"text\", x = 1.5, y = max(p1[[7]]$data[,1])*0.9, label = p.values[7])\n",
    "    ) +\n",
    "    (p1[[8]] +\n",
    "      theme(axis.title.y = element_blank())+\n",
    "      scale_fill_manual(values = c(\"#afafaf\", \"#a3260f\")) +\n",
    "      scale_color_manual(values = c(\"#FFFFFFFF\", \"#FFFFFFFF\")) +\n",
    "      annotate(\"text\", x = 1.5, y = max(p1[[8]]$data[,1])*0.9, label = p.values[8])\n",
    "    )+\n",
    "    (p1[[9]] +\n",
    "      theme_3+\n",
    "      scale_fill_manual(values = c(\"#afafaf\", \"#a3260f\")) +\n",
    "      scale_color_manual(values = c(\"#FFFFFFFF\", \"#FFFFFFFF\")) +\n",
    "      annotate(\"text\", x = 1.5, y = max(p1[[9]]$data[,1])*0.9, label = p.values[9])\n",
    "    )+\n",
    "    (p1[[10]] +\n",
    "      theme_3+\n",
    "      scale_fill_manual(values = c(\"#afafaf\", \"#a3260f\")) +\n",
    "      scale_color_manual(values = c(\"#FFFFFFFF\", \"#FFFFFFFF\")) +\n",
    "      annotate(\"text\", x = 1.5, y = max(p1[[10]]$data[,1])*0.9, label = p.values[10])\n",
    "    )\n",
    ")\n",
    "options(repr.plot.width = 10, repr.plot.height = 6, res = 100)\n",
    "(phigh + plot_layout(ncol = 5,guides = \"collect\"))/ (plow + plot_layout(ncol = 5,guides = \"collect\"))  & theme(legend.position = \"top\") \n",
    "\n",
    "ggsave(\"tme_analysis/figure_prep/pVln_selected_genes.pdf\", width = 10, height = 6)"
   ]
  }
 ],
 "metadata": {
  "language_info": {
   "name": "python"
  }
 },
 "nbformat": 4,
 "nbformat_minor": 2
}
