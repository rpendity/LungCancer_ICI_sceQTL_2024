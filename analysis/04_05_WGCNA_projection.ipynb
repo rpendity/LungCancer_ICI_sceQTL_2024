{
 "cells": [
  {
   "cell_type": "markdown",
   "metadata": {},
   "source": [
    "## projection of WGCNA\n",
    "\n",
    "some part of this script needs scRNA-seq object of each dataset."
   ]
  },
  {
   "cell_type": "code",
   "execution_count": 1,
   "metadata": {
    "vscode": {
     "languageId": "r"
    }
   },
   "outputs": [
    {
     "data": {
      "text/html": [
       "<ol>\n",
       "\t<li>TRUE</li>\n",
       "\t<li>TRUE</li>\n",
       "\t<li>TRUE</li>\n",
       "\t<li>FALSE</li>\n",
       "\t<li>FALSE</li>\n",
       "\t<li>TRUE</li>\n",
       "\t<li>TRUE</li>\n",
       "\t<li>TRUE</li>\n",
       "\t<li>FALSE</li>\n",
       "\t<li>FALSE</li>\n",
       "\t<li>FALSE</li>\n",
       "\t<li>FALSE</li>\n",
       "</ol>\n"
      ],
      "text/latex": [
       "\\begin{enumerate}\n",
       "\\item TRUE\n",
       "\\item TRUE\n",
       "\\item TRUE\n",
       "\\item FALSE\n",
       "\\item FALSE\n",
       "\\item TRUE\n",
       "\\item TRUE\n",
       "\\item TRUE\n",
       "\\item FALSE\n",
       "\\item FALSE\n",
       "\\item FALSE\n",
       "\\item FALSE\n",
       "\\end{enumerate}\n"
      ],
      "text/markdown": [
       "1. TRUE\n",
       "2. TRUE\n",
       "3. TRUE\n",
       "4. FALSE\n",
       "5. FALSE\n",
       "6. TRUE\n",
       "7. TRUE\n",
       "8. TRUE\n",
       "9. FALSE\n",
       "10. FALSE\n",
       "11. FALSE\n",
       "12. FALSE\n",
       "\n",
       "\n"
      ],
      "text/plain": [
       "[[1]]\n",
       "[1] TRUE\n",
       "\n",
       "[[2]]\n",
       "[1] TRUE\n",
       "\n",
       "[[3]]\n",
       "[1] TRUE\n",
       "\n",
       "[[4]]\n",
       "[1] FALSE\n",
       "\n",
       "[[5]]\n",
       "[1] FALSE\n",
       "\n",
       "[[6]]\n",
       "[1] TRUE\n",
       "\n",
       "[[7]]\n",
       "[1] TRUE\n",
       "\n",
       "[[8]]\n",
       "[1] TRUE\n",
       "\n",
       "[[9]]\n",
       "[1] FALSE\n",
       "\n",
       "[[10]]\n",
       "[1] FALSE\n",
       "\n",
       "[[11]]\n",
       "[1] FALSE\n",
       "\n",
       "[[12]]\n",
       "[1] FALSE\n"
      ]
     },
     "metadata": {},
     "output_type": "display_data"
    }
   ],
   "source": [
    "vlib = c(\"tidyverse\", \"ggpubr\", \"patchwork\",\"tidyseurat\", \"ggrastr\", \"ggsci\",\n",
    "  \"future.apply\", \"arrow\", \"pheatmap\", \"ggrastr\",  \"Seurat\", \"hdWGCNA\")\n",
    "lapply(vlib, require, character.only = TRUE, quietly = TRUE) |> suppressMessages()\n",
    "\n",
    "base_dir = \".\"\n",
    "\n",
    "setwd(base_dir)\n",
    "\n",
    "saveRDS.gz <- function(object, file, threads=4) {\n",
    "  con <- pipe(paste0(\"pigz -p\", threads, \" > \", file), \"wb\")\n",
    "  saveRDS(object, file = con)\n",
    "  close(con)\n",
    "}\n",
    "readRDS.gz <- function(file, threads = parallel::detectCores()) {\n",
    "  con <- pipe(paste0(\"pigz -d -c -p\", threads, \" \", file))\n",
    "  object <- readRDS(file = con)\n",
    "  close(con)\n",
    "  return(object)\n",
    "}\n"
   ]
  },
  {
   "cell_type": "code",
   "execution_count": null,
   "metadata": {
    "vscode": {
     "languageId": "r"
    }
   },
   "outputs": [],
   "source": [
    "## shared object\n",
    "\n",
    "seurat_obj.ref = readRDS.gz(\"seurat_obj/seurat_obj_wgcna_CD8.RNA.RDS\")"
   ]
  },
  {
   "cell_type": "markdown",
   "metadata": {},
   "source": [
    "## preprocessing each dataset (needs seurat object)"
   ]
  },
  {
   "cell_type": "markdown",
   "metadata": {},
   "source": [
    "### 1. aida\n",
    "\n",
    "for replication, please see 04_04_WGCNA_replication.ipynb"
   ]
  },
  {
   "cell_type": "code",
   "execution_count": null,
   "metadata": {
    "vscode": {
     "languageId": "r"
    }
   },
   "outputs": [],
   "source": [
    "seurat_obj.aida = readRDS.gz(\"seurat_obj/seurat_obj.aida.v5.RDS\") \n",
    "seurat_obj.aida <- RunAzimuth(seurat_obj.aida, reference = \"pbmcref\")\n",
    "\n",
    "DefaultAssay(seurat_obj.aida) = \"RNA\"\n",
    "seurat_obj.aida <- ProjectModules(\n",
    "  seurat_obj = seurat_obj.aida,\n",
    "  seurat_ref = seurat_obj.ref,\n",
    "  # vars.to.regress = c(), # optionally regress covariates when running ScaleData\n",
    "  group.by.vars = \"orig.ident\", # column in seurat_query to run harmony on\n",
    "  wgcna_name_proj=\"projection\", # name of the new hdWGCNA experiment in the query dataset\n",
    "  wgcna_name = \"wgcna\" # name of the hdWGCNA experiment in the ref dataset\n",
    ")\n",
    "\n",
    "seurat_obj.aida <- ModuleConnectivity(\n",
    "  seurat_obj.aida,\n",
    "  group.by = 'predicted.celltype.l1', group_name = 'CD8 T'\n",
    ")\n",
    "\n",
    "seurat_obj.aida <- ModuleExprScore(\n",
    "  seurat_obj.aida,\n",
    "  method='UCell'\n",
    ")\n",
    "projected_hMEs <- GetModules(seurat_obj.aida)\n",
    "projected_hMEs %>% write_delim(\"assets/projected_aida.module_kME.txt.gz\")\n",
    "seurat_obj.aida %>% saveRDS.gz(\"seurat_obj/seurat_obj.aida.v5.azimuth.wgcna.RDS\")\n",
    "\n",
    "df_ME.aida = read_delim(\"scRNAseq_downstream_scenic/projected_aida.module_kME.txt.gz\", delim = \"\\t\") %>%\n",
    "  filter(cellID %in% df_meta_cd8_aida$cellID) %>%\n",
    "  mutate(data = \"AIDA_CTRL\")\n",
    "df_ME.ref = GetMEs(seurat_obj.ref) %>%\n",
    "  as.data.frame() %>%\n",
    "  rownames_to_column(\"cellID\") %>%\n",
    "  filter(cellID %in% df_meta_cd8_ref$cellID) %>%\n",
    "  mutate(data = \"LungCancer\")"
   ]
  },
  {
   "cell_type": "markdown",
   "metadata": {},
   "source": [
    "### 2. TNBC dataset"
   ]
  },
  {
   "cell_type": "code",
   "execution_count": null,
   "metadata": {
    "vscode": {
     "languageId": "r"
    }
   },
   "outputs": [],
   "source": [
    "expression_matrix = Read10X(data.dir=\"GSE169246_TNBC\",  gene.column=1)\n",
    "\n",
    "seurat_obj = CreateSeuratObject(counts = expression_matrix)\n",
    "\n",
    "df_md_original = seurat_obj@meta.data %>%\n",
    "  as.data.frame() %>%\n",
    "  rownames_to_column(\"cellID\")\n",
    "\n",
    "df_md = read_delim(\"GSE169246_TNBC/GSE169246_meta.txt.gz\", delim = \"\\t\") %>%\n",
    "  select(-nCount_RNA, -nFeature_RNA) %>%\n",
    "  as.data.frame()\n",
    "\n",
    "df_md = inner_join(df_md_original, df_md, by = c(\"cellID\"))\n",
    "seurat_obj = subset(seurat_obj, cells = df_md$cellID)\n",
    "seurat_obj@meta.data = df_md %>% as.data.frame() %>% column_to_rownames(\"cellID\")\n",
    "\n",
    "df_md %>% filter(grepl(\"CD8\", celltype_l2)) %>% distinct(celltype_l2) # CD8 T cell types.\n",
    "\n",
    "DefaultAssay(seurat_obj) = \"RNA\"\n",
    "seurat_obj = seurat_obj %>% \n",
    "    NormalizeData() %>%\n",
    "    FindVariableFeatures() %>%\n",
    "    ScaleData()\n",
    "\n",
    "seurat_obj <- RunPCA(seurat_obj)\n",
    "seurat_obj <- FindNeighbors(seurat_obj, dims = 1:30, reduction = \"pca\")\n",
    "seurat_obj <- FindClusters(seurat_obj, resolution = 0.4, cluster.name = \"unintegrated_clusters\")\n",
    "seurat_obj <- RunAzimuth(seurat_obj, reference = \"pbmcref\")\n",
    "\n",
    "seurat_obj[[\"RNA\"]] <- split(seurat_obj[[\"RNA\"]], f = seurat_obj$sample)\n",
    "\n",
    "seurat_obj <- IntegrateLayers(\n",
    "  object = seurat_obj, method = HarmonyIntegration,\n",
    "  orig.reduction = \"pca\", new.reduction = \"harmony\",\n",
    "  verbose = FALSE\n",
    ")\n",
    "\n",
    "seurat_obj <- ProjectModules(\n",
    "  seurat_obj = seurat_obj,\n",
    "  seurat_ref = seurat_obj.ref,\n",
    "  # vars.to.regress = c(), # optionally regress covariates when running ScaleData\n",
    "  group.by.vars = \"sample\", # column in seurat_query to run harmony on\n",
    "  wgcna_name_proj=\"projected\", # name of the new hdWGCNA experiment in the query dataset\n",
    "  wgcna_name = \"wgcna\" # name of the hdWGCNA experiment in the ref dataset\n",
    ")\n",
    "\n",
    "seurat_obj <- ModuleConnectivity(\n",
    "  seurat_obj,\n",
    "  group.by = 'predicted.celltype.l1', group_name = 'CD8 T'\n",
    ")\n",
    "\n",
    "seurat_obj <- ModuleExprScore(\n",
    "  seurat_obj,\n",
    "  method='UCell'\n",
    ")\n",
    "\n",
    "projected_hMEs <- GetModules(seurat_obj)\n",
    "\n",
    "projected_hMEs %>% write_delim(\"seurat_obj/GSE169246_TNBC/projected_hMEs.txt.gz\", delim = \"\\t\")\n",
    "seurat_obj %>% saveRDS.gz(\"seurat_obj/GSE169246_TNBC/seurat_obj_raw_azimuth_GSE169246.RDS\")\n",
    "\n",
    "seurat_obj_GSE169246@meta.data %>% distinct(tissue, response, time, regimen)\n",
    "df_meta_cd8_GSE169246  = seurat_obj_GSE169246@meta.data %>%\n",
    "  rownames_to_column(\"cellID\") %>%\n",
    "  filter(predicted.celltype.l1 == \"CD8 T\", tissue == \"blood\", time == \"Pre-treatment\")\n",
    "\n",
    "df_ME.GSE169246 = GetMEs(seurat_obj_GSE169246) %>%\n",
    "  as.data.frame() %>%\n",
    "  rownames_to_column(\"cellID\") %>%\n",
    "  filter(cellID %in% df_meta_cd8_GSE169246$cellID) %>%\n",
    "  mutate(data = \"TNBC\")"
   ]
  },
  {
   "cell_type": "markdown",
   "metadata": {},
   "source": [
    "### 3. HNSCC dataset"
   ]
  },
  {
   "cell_type": "code",
   "execution_count": null,
   "metadata": {
    "vscode": {
     "languageId": "r"
    }
   },
   "outputs": [],
   "source": [
    "seurat_obj = readRDS.gz(\"GSE200996/seurat_obj.merged.RDS\")\n",
    "seurat_obj = seurat_obj %>%\n",
    "  NormalizeData() %>%\n",
    "  FindVariableFeatures() %>%\n",
    "  ScaleData() %>%\n",
    "  RunPCA()\n",
    "\n",
    "seurat_obj = IntegrateLayers(\n",
    "  object = seurat_obj, method = HarmonyIntegration,\n",
    "  orig.reduction = \"pca\", new.reduction = \"harmony\",\n",
    "  verbose = FALSE\n",
    ")\n",
    "\n",
    "seurat_obj = FindNeighbors(seurat_obj, dims = 1:30, reduction = \"pca\")\n",
    "seurat_obj = FindClusters(seurat_obj, resolution = 0.4, cluster.name = \"harmony_integrated\")\n",
    "seurat_obj = RunUMAP(seurat_obj, reduction = \"harmony\", dims = 1:30, reduction.name = \"umap.harmony\")\n",
    "seurat_obj = JoinLayers(seurat_obj)\n",
    "seurat_obj = RunAzimuth(seurat_obj, reference = \"pbmcref\")\n",
    "\n",
    "seurat_obj <- ProjectModules(\n",
    "  seurat_obj = seurat_obj,\n",
    "  seurat_ref = seurat_obj.ref,\n",
    "  # vars.to.regress = c(), # optionally regress covariates when running ScaleData\n",
    "  group.by.vars = \"sample_id\", # column in seurat_query to run harmony on\n",
    "  wgcna_name_proj=\"projected\", # name of the new hdWGCNA experiment in the query dataset\n",
    "  wgcna_name = \"wgcna\" # name of the hdWGCNA experiment in the ref dataset\n",
    ")\n",
    "\n",
    "seurat_obj <- ModuleConnectivity(\n",
    "  seurat_obj,\n",
    "  group.by = 'predicted.celltype.l1', group_name = 'CD8 T'\n",
    ")\n",
    "\n",
    "seurat_obj <- ModuleExprScore(\n",
    "  seurat_obj,\n",
    "  method='UCell'\n",
    ")\n",
    "\n",
    "projected_hMEs <- GetModules(seurat_obj)\n",
    "\n",
    "projected_hMEs %>% write_delim(\"seurat_obj/GSE200996/projected_hMEs.txt.gz\", delim = \"\\t\")\n",
    "seurat_obj %>% saveRDS.gz(\"seurat_obj/GSE200996/seurat_obj.mergedRDS\")\n",
    "\n",
    "df_meta_add.GSE200996 = read_delim(\"scRNA_wgcna_replication/GSE200996/supplementary_metadata.txt\")\n",
    "\n",
    "df_meta_cd8_GSE200996  = seurat_obj@meta.data %>%\n",
    "  rownames_to_column(\"cellID\") %>%\n",
    "  left_join(., df_meta_add.GSE200996) %>%\n",
    "  filter(predicted.celltype.l1 == \"CD8 T\", time == \"baseline\")\n",
    "\n",
    "df_ME.GSE200996 = GetMEs(seurat_obj) %>%\n",
    "  as.data.frame() %>%\n",
    "  rownames_to_column(\"cellID\") %>%\n",
    "  filter(cellID %in% df_meta_cd8_GSE200996$cellID) %>%\n",
    "  mutate(data = \"HNSCC\")"
   ]
  },
  {
   "cell_type": "markdown",
   "metadata": {},
   "source": [
    "### TME analysis"
   ]
  },
  {
   "cell_type": "code",
   "execution_count": null,
   "metadata": {
    "vscode": {
     "languageId": "r"
    }
   },
   "outputs": [],
   "source": [
    "seurat_obj.tme = readRDS.gz(\"tme_analysis/seurat_obj_sct_harmony_immuneOnly_anno_241028.RDS\")\n",
    "DefaultAssay(seurat_obj.tme) = \"RNA\"\n",
    "\n",
    "seurat_obj.tme <- ProjectModules(\n",
    "  seurat_obj = seurat_obj.tme,\n",
    "  seurat_ref = seurat_obj.ref,\n",
    "  # vars.to.regress = c(), # optionally regress covariates when running ScaleData\n",
    "  group.by.vars = \"ID\", # column in seurat_query to run harmony on\n",
    "  wgcna_name_proj=\"wgcna_projection\", # name of the new hdWGCNA experiment in the query dataset\n",
    "  wgcna_name = \"wgcna\" # name of the hdWGCNA experiment in the ref dataset\n",
    ")\n",
    "seurat_obj.tme <- ModuleConnectivity(\n",
    "  seurat_obj.tme,\n",
    "  group.by = 'anno_l1', group_name = 'CD8_T'\n",
    ")\n",
    "\n",
    "seurat_obj.tme <- ModuleExprScore(\n",
    "  seurat_obj.tme,\n",
    "  method='UCell'\n",
    ")\n",
    "\n",
    "projected_hMEs <- GetModules(seurat_obj.tme)\n",
    "df_anno = read_delim(\"tme_analysis/cluster_anno_harmony_clusters1_NKTonly.txt\")\n",
    "new_md = seurat_obj.tme@meta.data %>%\n",
    "  rownames_to_column(\"CellID\") %>%\n",
    "  select(-anno_l1, -anno_l2) %>%\n",
    "  mutate(harmony_clusters1 = as.numeric(as.character(harmony_clusters1))) %>%\n",
    "  left_join(df_anno) %>%\n",
    "  column_to_rownames(\"CellID\")"
   ]
  },
  {
   "cell_type": "markdown",
   "metadata": {
    "vscode": {
     "languageId": "r"
    }
   },
   "source": [
    "## SF6C"
   ]
  },
  {
   "cell_type": "code",
   "execution_count": null,
   "metadata": {
    "vscode": {
     "languageId": "r"
    }
   },
   "outputs": [],
   "source": [
    "p1 = rbind(df_ME.aida, df_ME.ref) %>%\n",
    "  rbind(., df_ME.GSE169246) %>%\n",
    "  rbind(., df_ME.GSE200996) %>%\n",
    "  mutate(\n",
    "    data = factor(data, levels = c(\"AIDA_CTRL\", \"TNBC\", \"HNSCC\", \"LungCancer\")),\n",
    "    projected = ifelse(data == \"LungCancer\", \"our results\", \"projected\")\n",
    "  ) %>%\n",
    "  ggplot(aes(x = data, y = brown)) +\n",
    "  geom_violin(width = 0.85) +\n",
    "  geom_boxplot(width = 0.30, alpha = 0.5, outlier.shape = NA) +\n",
    "  xlab(\"Dataset\") +\n",
    "  ylab(\"Brown module expression in CD8 \") +\n",
    "  facet_grid(~projected, scales = \"free_x\", space = \"free\") +\n",
    "  theme_pubr() +\n",
    "  theme(\n",
    "    axis.title = element_text(size = 15),\n",
    "    axis.text = element_text(size = 13),\n",
    "  )\n",
    "options(repr.plot.width = 5, repr.plot.height = 4, repr.plot.res = 300)\n",
    "p1\n",
    "\n",
    "p1 %>% ggsave(\n",
    "  \"figure_prep/supplementary/sf6C_compareAIDA_CD8.pdf\",\n",
    "  ., height = 4, width = 5, dpi = 300\n",
    ")\n",
    "\n"
   ]
  },
  {
   "cell_type": "markdown",
   "metadata": {},
   "source": [
    "## SF6B"
   ]
  },
  {
   "cell_type": "code",
   "execution_count": null,
   "metadata": {
    "vscode": {
     "languageId": "r"
    }
   },
   "outputs": [],
   "source": [
    "df_pairwise_test = left_join(df_ME.GSE200996, df_meta_cd8_GSE200996) \n",
    "pairwise.wilcox.test(df_pairwise_test$brown, df_pairwise_test$Patho_Bins, p.adjust.method = \"bonferroni\", correct = FALSE)"
   ]
  },
  {
   "cell_type": "code",
   "execution_count": null,
   "metadata": {
    "vscode": {
     "languageId": "r"
    }
   },
   "outputs": [],
   "source": [
    "options(repr.plot.width = 4, repr.plot.height = 4, repr.plot.res = 300)\n",
    "p_sf6_hnscc = left_join(df_ME.GSE200996, df_meta_cd8_GSE200996) %>%\n",
    "mutate(Patho_Bins = factor(Patho_Bins, levels = c( \"High\",\"Medium\",\"Low\"))) %>%\n",
    "filter(is.na(Patho_Bins) == FALSE) %>%\n",
    "ggplot(aes(x = Patho_Bins, y = brown)) +\n",
    "  geom_violin(width = 0.85) +\n",
    "  geom_boxplot(width = 0.30, alpha = 0.5, outlier.shape = NA) +\n",
    "  stat_compare_means() +\n",
    "  xlab(\"pathological response\") +\n",
    "  ylab(\"GSE200996, CD8 Brown Module\") +\n",
    "  theme_pubr()\n",
    "\n",
    "p_sf6_hnscc %>% ggsave(\n",
    "  \"figure_prep/supplementary/sf6_wgcna_projection_hgcna.pdf\",\n",
    "  ., height = 4, width = 4, dpi = 300\n",
    ")"
   ]
  },
  {
   "cell_type": "markdown",
   "metadata": {},
   "source": [
    "## SF6D"
   ]
  },
  {
   "cell_type": "code",
   "execution_count": null,
   "metadata": {
    "vscode": {
     "languageId": "r"
    }
   },
   "outputs": [],
   "source": [
    "p2 = read_delim(\"assets/cell_proportion.projected_sets.txt.gz\", delim = \"\\t\") %>%\n",
    "  mutate(CD8_subtype = str_replace(CD8_subtype, \"_\", \" \")) %>%\n",
    "  filter(!CD8_subtype == \"CD8 Proliferating\") %>%\n",
    "  ggplot(aes(x = data, y = n, fill = CD8_subtype)) +\n",
    "    geom_bar(stat = \"identity\", position = \"fill\") +\n",
    "    theme_pubr(x.text.angle = 45, legend = \"right\") +\n",
    "    scale_fill_simpsons()\n",
    "options(repr.plot.width = 4, repr.plot.height = 4, repr.plot.res = 300)\n",
    "p2 %>% ggsave(\n",
    "  \"figure_prep/supplementary/sf6_tem_proportion.pdf\",\n",
    "  ., height = 4, width = 4, dpi = 300\n",
    ")"
   ]
  },
  {
   "cell_type": "markdown",
   "metadata": {},
   "source": [
    "### figure 6D"
   ]
  },
  {
   "cell_type": "code",
   "execution_count": null,
   "metadata": {
    "vscode": {
     "languageId": "r"
    }
   },
   "outputs": [],
   "source": [
    "options(repr.plot.width = 3, repr.plot.height = 4, repr.plot.res = 200)\n",
    "left_join(df_ME, df_md) %>%\n",
    "  filter(anno_l1 == \"CD8_T\") %>%\n",
    "  mutate(Binary_response = factor(Binary_response, levels= c(\"Responder\", \"Non-responder\"))) %>%\n",
    "  ggplot(aes(x = anno_l1, y = brown, color = Binary_response)) +\n",
    "    geom_violin(width = 0.80, aes(fill = Binary_response), linewidth = 0) +\n",
    "    geom_boxplot(\n",
    "      width = 0.30, fill = \"white\",\n",
    "      position = position_dodge(width = 0.80),\n",
    "      outlier.shape = NA,\n",
    "      alpha = 0.80\n",
    "    ) +\n",
    "    scale_fill_manual(values = c(\"#afafaf\", \"#a3260f\")) +\n",
    "    scale_color_manual(values = c(\"grey30\", \"grey30\")) +\n",
    "    stat_compare_means() +\n",
    "    theme_pubr()"
   ]
  },
  {
   "cell_type": "markdown",
   "metadata": {},
   "source": [
    "### figure 6E"
   ]
  },
  {
   "cell_type": "code",
   "execution_count": null,
   "metadata": {
    "vscode": {
     "languageId": "r"
    }
   },
   "outputs": [],
   "source": [
    "p1 = left_join(df_ME, df_md) %>%\n",
    "  filter(anno_l1 == \"CD8_T\") %>%\n",
    "  mutate(Binary_response = factor(Binary_response, levels= c(\"Responder\", \"Non-responder\"))) %>%\n",
    "  ggplot(aes(x = anno_l2, y = brown, color = Binary_response)) +\n",
    "    geom_violin(width = 0.80, aes(fill = Binary_response), linewidth = 0) +\n",
    "    geom_boxplot(\n",
    "      width = 0.30, fill = \"white\",\n",
    "      position = position_dodge(width = 0.80),\n",
    "      outlier.shape = NA,\n",
    "      alpha = 0.80\n",
    "    ) +\n",
    "    scale_fill_manual(values = c(\"#afafaf\", \"#a3260f\")) +\n",
    "    scale_color_manual(values = c(\"grey30\", \"grey30\")) +\n",
    "    stat_compare_means(aes(label = after_stat(p.signif))) +\n",
    "    theme_pubr()"
   ]
  }
 ],
 "metadata": {
  "kernelspec": {
   "display_name": "R",
   "language": "R",
   "name": "ir"
  },
  "language_info": {
   "codemirror_mode": "r",
   "file_extension": ".r",
   "mimetype": "text/x-r-source",
   "name": "R",
   "pygments_lexer": "r",
   "version": "4.4.3"
  }
 },
 "nbformat": 4,
 "nbformat_minor": 2
}
