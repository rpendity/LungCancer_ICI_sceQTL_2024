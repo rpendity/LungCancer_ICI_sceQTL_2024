{
 "cells": [
  {
   "cell_type": "code",
   "execution_count": null,
   "metadata": {
    "vscode": {
     "languageId": "r"
    }
   },
   "outputs": [],
   "source": [
    "# use R with following packages.\n",
    "vlib = c(\"tidyverse\", \"arrow\", \"ggVennDiagram\", \"ggpubr\")\n",
    "lapply(vlib, require, character.only = TRUE, quietly = TRUE) |> suppressMessages()\n",
    "\n",
    "\n",
    "base_dir = \".\"\n",
    "setwd(base_dir)\n",
    "\n",
    "df_meta = read_delim(\"assets/file_meta.txt\",\n",
    "                     col_names = c(\"levels\", \"time\", \"cluster_name\")) %>%\n",
    "  mutate(prefix_file = paste0(levels, \"_\", time, \"_\", cluster_name))"
   ]
  },
  {
   "cell_type": "markdown",
   "metadata": {},
   "source": [
    "## figure 3A"
   ]
  },
  {
   "cell_type": "code",
   "execution_count": null,
   "metadata": {
    "vscode": {
     "languageId": "r"
    }
   },
   "outputs": [],
   "source": [
    "df_shared_proportion = read_delim(\"assets/compare_studies/shareproportions.txt.gz\", delim = \"\\t\")\n",
    "p1 = df_shared_proportion %>% \n",
    "  pivot_longer(cols = 2:9) %>%\n",
    "  mutate(name = factor(name, levels = c(\"B\", \"CD4T\", \"CD8T\", \"DC\", \"monocyte\", \"NK\")),\n",
    "         cluster_name = factor(cluster_name, levels = c(\"B\", \"CD4\", \"CD8\", \"DC\", \"Mono\", \"NK\")),\n",
    "         time = factor(ifelse(time == \"base\", \"baseline\", \"treatment\"), levels = c(\"baseline\", \"treatment\"))) %>%\n",
    "  na.omit() %>%\n",
    "  ggplot(aes(x = cluster_name, y = name, fill = value)) +\n",
    "  geom_tile() +\n",
    "  scale_fill_gradient2(low = \"#2345CA\", mid = \"#F7E7CA\", high = \"#CA3423\", midpoint = 0.45) +\n",
    "  facet_wrap(~time) +\n",
    "  xlab(\"Our study\") +\n",
    "  ylab(\"label from 1M-bloodNL study\")+\n",
    "  theme_pubr(legend = \"bottom\", x.text.angle = 45)+\n",
    "  theme(axis.title.x = element_text(size = 14),\n",
    "        axis.title.y = element_text(size = 14, vjust = 0.5),\n",
    "        axis.line.x = element_blank(),\n",
    "        axis.line.y = element_blank(),\n",
    "        strip.background = element_rect(fill = \"white\",linewidth = 1),\n",
    "        strip.text = element_text(size = 12),\n",
    "        legend.key.height = unit(0.4, \"cm\"),\n",
    "        legend.key.width= unit(1.4, \"cm\"),\n",
    "        panel.background = element_rect(fill = \"white\", colour = \"black\", linewidth = 1))\n",
    "p1\n",
    "ggsave(\"figure_prep/p_shared_proportion_with_sceqtlgen.pdf\", width = 18, height = 12, units = \"cm\", dpi = 600)"
   ]
  },
  {
   "cell_type": "markdown",
   "metadata": {},
   "source": [
    "## figure 3B"
   ]
  },
  {
   "cell_type": "code",
   "execution_count": null,
   "metadata": {
    "vscode": {
     "languageId": "r"
    }
   },
   "outputs": [],
   "source": [
    "df_gtex_wholeblood = read_delim(\"assets/compare_studies/gtex/whole_blood_significant.txt.gz\")\n",
    "df_map_cis = read_delim(\"assets/02_mashr/joined_all_results.txt.gz\")\n",
    "df_onek1k = read_delim(\"assets/compare_studies/OneK1K/eGene_list_OneK1K.txt.gz\")\n",
    "\n",
    "df_map_cis_eGenes = df_map_cis %>%\n",
    "  filter(lfsr < 0.05) %>%\n",
    "  select(phenotype_id) %>%\n",
    "  distinct() %>%\n",
    "  mutate(group = \"ours\")\n",
    "df_gtex_wholeblood_eGenes = df_gtex_wholeblood %>%\n",
    "  filter(gtex_significance == TRUE) %>%\n",
    "  select(phenotype_id) %>%\n",
    "  select(phenotype_id) %>%\n",
    "  mutate(group = \"gtex\")\n",
    "df_onek1k_eGenes = df_onek1k %>%\n",
    "  filter(onek1k_significance == TRUE) %>%\n",
    "  distinct(phenotype_id) %>%\n",
    "  select(phenotype_id) %>%\n",
    "  mutate(group = \"onek1k\")\n",
    "\n",
    "\n",
    "rbind(df_map_cis_eGenes, df_gtex_wholeblood_eGenes, df_onek1k_eGenes) %>%\n",
    "  group_by(phenotype_id, group) %>%\n",
    "  distinct() %>%\n",
    "  mutate(value = 1) %>%\n",
    "  pivot_wider(names_from = group) %>% head()\n",
    "\n",
    "x <- list(ours = df_map_cis_eGenes$phenotype_id,\n",
    "          gtex= df_gtex_wholeblood_eGenes$phenotype_id,\n",
    "          onek1k = df_onek1k_eGenes$phenotype_id)\n",
    "\n",
    "library(ggVennDiagram)\n",
    "\n",
    "p = ggVennDiagram::ggVennDiagram(x, label_alpha = 0)+ scale_fill_gradient(low = \"#FFFFFF\", high = \"#4981BF\")\n",
    "p\n",
    "p %>% ggsave(\"./figure_prep/pCompare_studies.pdf\", ., width = 10, height = 10, dpi = 300, units = \"cm\")"
   ]
  },
  {
   "cell_type": "markdown",
   "metadata": {},
   "source": [
    "## figure 3C."
   ]
  },
  {
   "cell_type": "code",
   "execution_count": null,
   "metadata": {
    "vscode": {
     "languageId": "r"
    }
   },
   "outputs": [],
   "source": [
    "unique_gene_list = rbind(df_map_cis_eGenes, df_gtex_wholeblood_eGenes, df_onek1k_eGenes) %>%\n",
    "  group_by(phenotype_id, group) %>%\n",
    "  distinct() %>%\n",
    "  mutate(value = 1) %>%\n",
    "  pivot_wider(names_from = group, values_fill = 0) %>%\n",
    "  filter(ours == 1, gtex == 0, onek1k == 0) %>%\n",
    "  pull(phenotype_id)\n",
    "\n",
    "library(enrichR)\n",
    "dbs = c(\"GO_Biological_Process_2023\", \"GO_Cellular_Component_2023\", \"GO_Molecular_Function_2023\",\n",
    "        \"KEGG_2021_Human\", \"MSigDB_Hallmark_2020\", \"Reactome_2022\")\n",
    "test_df = enrichr(unique_gene_list, dbs)"
   ]
  },
  {
   "cell_type": "code",
   "execution_count": null,
   "metadata": {
    "vscode": {
     "languageId": "r"
    }
   },
   "outputs": [],
   "source": [
    "p_GO_uniqueGenes = test_df %>%\n",
    "  bind_rows(.id = \"db\") %>%\n",
    "  filter(db == \"KEGG_2021_Human\")\n",
    "  group_by(db) %>%\n",
    "  top_n(n = 10, Combined.Score)  %>%\n",
    "  arrange(Adjusted.P.value) %>%\n",
    "  mutate(Term = factor(Term, levels = rev(unique(.$Term)))) %>% \n",
    "  ggplot(aes(x = -log10(Adjusted.P.value), y = Term)) +\n",
    "  geom_bar(stat = \"identity\") +\n",
    "  geom_vline(xintercept = -log10(0.05))+\n",
    "  xlab(\"-log 10 of Adjusted p-value\") +\n",
    "  ylab(\"KEGG Pathway\") +\n",
    "  theme_pubr() \n",
    "\n",
    "\n",
    "options(repr.plot.width = 18, repr.plot.height = 12, repr.plot.res = 150)\n",
    "p_GO_uniqueGenes\n",
    "\n",
    "ggsave(\"./figure_prep/pCompare_studies_GO.pdf\", p_GO_uniqueGenes, width = 20, height = 10, dpi = 300, units = \"cm\")"
   ]
  },
  {
   "cell_type": "markdown",
   "metadata": {
    "vscode": {
     "languageId": "r"
    }
   },
   "source": [
    "## supplementary figure 2"
   ]
  },
  {
   "cell_type": "code",
   "execution_count": null,
   "metadata": {
    "vscode": {
     "languageId": "r"
    }
   },
   "outputs": [],
   "source": [
    "options(repr.plot.width = 5, repr.plot.height = 5, repr.plot.res = 200)\n",
    "read_delim(\"correlation_mapping_onek1k/sharedproportions.parsed.txt\", col_names = FALSE) %>%\n",
    "  ggplot(aes(x = X2, y = X1)) +\n",
    "  geom_violin() +\n",
    "  theme_pubr() +\n",
    "  geom_point() +\n",
    "  geom_boxplot(outlier.shape = NA, alpha = 0.5, width = 0.25) +\n",
    "  xlab(\"label\") +\n",
    "  ylab(\"shared proportion from mashr\") +\n",
    "  scale_y_continuous(limits = c(0,1), breaks = c(0, 0.5, 1))+\n",
    "  stat_compare_means(label.x.npc = \"middle\", hjust = 0.5)"
   ]
  }
 ],
 "metadata": {
  "language_info": {
   "name": "python"
  }
 },
 "nbformat": 4,
 "nbformat_minor": 2
}
