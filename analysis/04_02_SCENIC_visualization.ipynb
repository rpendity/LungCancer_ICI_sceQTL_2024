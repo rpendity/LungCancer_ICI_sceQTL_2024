{
 "cells": [
  {
   "cell_type": "code",
   "execution_count": null,
   "metadata": {
    "vscode": {
     "languageId": "r"
    }
   },
   "outputs": [],
   "source": [
    "vlib =  c(\"tidyverse\", \"ggpubr\", \"arrow\", \"ComplexHeatmap\", \"Seurat\",\n",
    "         \"tidyseurat\", \"enrichR\", \"ComplexHeatmap\", , \"enrichR\",\n",
    "         \"presto\", \"patchwork\", \"ggpmisc\", \"ggrepel\", \"broom\", \"viridis\")\n",
    "lapply(vlib, require, character.only = TRUE, quietly = TRUE) |> suppressMessages()\n",
    "\n",
    "base_dir = \".\"\n",
    "setwd(base_dir)\n",
    "\n",
    "saveRDS.gz <- function(object, file, threads = 4) {\n",
    "  con <- pipe(paste0(\"pigz -p\", threads, \" > \", file), \"wb\")\n",
    "  saveRDS(object, file = con)\n",
    "  close(con)\n",
    "}\n",
    "readRDS.gz <- function(file, threads = parallel::detectCores()) {\n",
    "  con <- pipe(paste0(\"pigz -d -c -p\", threads, \" \", file))\n",
    "  object <- readRDS(file = con)\n",
    "  close(con)\n",
    "  return(object)\n",
    "}"
   ]
  },
  {
   "cell_type": "markdown",
   "metadata": {},
   "source": [
    "## figure 4D\n",
    "due to large size of SCENIC GRN matrix, we provide a DE-GRN matrix for visualization."
   ]
  },
  {
   "cell_type": "code",
   "execution_count": null,
   "metadata": {
    "vscode": {
     "languageId": "r"
    }
   },
   "outputs": [],
   "source": [
    "df_diff_grn = read_delim(\"assets/SCENIC/scenic_DE_GRN.txt.gz\")"
   ]
  },
  {
   "cell_type": "code",
   "execution_count": null,
   "metadata": {
    "vscode": {
     "languageId": "r"
    }
   },
   "outputs": [],
   "source": [
    "c_cluster = \"CD8\"\n",
    "df_map_cis = read_delim(\"assets/02_mashr/joined_all_results.txt.gz\")\n",
    "df_eGene = df_map_cis %>% filter(lfsr < 0.05)\n",
    "c_eGene = df_eGene %>% filter(grepl(c_cluster, condition)) %>% distinct(phenotype_id) %>% pull()\n",
    "c_noteGene = df_map_cis %>%\n",
    "  filter(!phenotype_id %in% c_eGene) %>%\n",
    "  filter(grepl(c_cluster, condition)) %>%\n",
    "  distinct(phenotype_id) %>%\n",
    "  pull()"
   ]
  },
  {
   "cell_type": "code",
   "execution_count": null,
   "metadata": {
    "vscode": {
     "languageId": "r"
    }
   },
   "outputs": [],
   "source": [
    "adj_mtx = read_delim(\"ssets/SCENIC/adj.csv\")\n",
    "\n",
    "df_cd8_regulone_enriched = adj_mtx %>%\n",
    "  mutate(eGene = ifelse(target %in% c_eGene, \"eGene\",\n",
    "                        ifelse(target %in% c_noteGene, \"not_eGene\", NA))) %>%\n",
    "  na.omit() %>%\n",
    "  group_by(TF, eGene) %>%\n",
    "  summarise(n = n()) %>%\n",
    "  pivot_wider(names_from = \"eGene\", values_from = n) %>%\n",
    "  filter(TF %in% str_sub(c_cd8_scenic_regulon, 1, -4)) %>%\n",
    "  mutate(ratio = eGene/(eGene + not_eGene)) %>%\n",
    "  arrange(-ratio)"
   ]
  },
  {
   "cell_type": "code",
   "execution_count": null,
   "metadata": {
    "vscode": {
     "languageId": "r"
    }
   },
   "outputs": [],
   "source": [
    "pSCENIC_DEGRN = df_diff_grn %>%\n",
    "  filter(group == \"PD base CD8\") %>%\n",
    "  mutate(feature = str_sub(feature, 1, -4)) %>%\n",
    "  left_join(df_cd8_regulone_enriched, by = c(\"feature\" = \"TF\"))  %>%\n",
    "  arrange(padj) %>%\n",
    "  mutate(label = ifelse((abs(logFC) > 0.005), feature, \"\")) %>%\n",
    "  na.omit() %>%\n",
    "  ggplot(aes(x = logFC, y = -log10(padj))) +\n",
    "  geom_vline(xintercept = c(-0.005, 0.005), color = \"grey90\") +\n",
    "  geom_hline(yintercept = c(-log10(1e-5)), color = \"grey90\")+\n",
    "  geom_point() +\n",
    "  geom_text_repel(aes(label = label)) +\n",
    "  theme_pubr()\n",
    "\n",
    "options(repr.plot.width = 4, repr.plot.height = 4, repr.plot.res = 300)\n",
    "pSCENIC_DEGRN\n",
    "ggsave(\"figure_prep/pSCENIC_DEGRN.pdf\",pSCENIC_DEGRN, width = 4, height = 4, dpi = 300)"
   ]
  },
  {
   "cell_type": "markdown",
   "metadata": {
    "vscode": {
     "languageId": "r"
    }
   },
   "source": [
    "## figure 4E"
   ]
  },
  {
   "cell_type": "code",
   "execution_count": null,
   "metadata": {
    "vscode": {
     "languageId": "r"
    }
   },
   "outputs": [],
   "source": [
    "fname_module_score = \"analysis/assets/wgcna/module_gene_scored.CD8.RNA.txt.gz\"\n",
    "df_module_score = read_delim(fname_module_score, delim = \"\\t\")\n",
    "list_adj_moduleScore = left_join(adj_mtx, df_module_score, by = c(\"target\" = \"gene_name\")) %>%\n",
    "  filter(TF %in% str_sub(c_cd8_scenic_regulon, 1, -4)) %>%\n",
    "  group_by(TF, color) %>%\n",
    "  group_split()"
   ]
  },
  {
   "cell_type": "code",
   "execution_count": null,
   "metadata": {
    "vscode": {
     "languageId": "r"
    }
   },
   "outputs": [],
   "source": [
    "list_res_tidy = vector(mode = \"list\", length = length(list_adj_moduleScore))\n",
    "list_res_glance = vector(mode = \"list\", length = length(list_adj_moduleScore))\n",
    "for (i in seq_along(list_adj_moduleScore)){\n",
    "  tryCatch({\n",
    "    each_lm = list_adj_moduleScore[[i]] %>%\n",
    "      lm(importance ~ value, data = .)\n",
    "    list_res_tidy[[i]] = each_lm %>%\n",
    "      broom::tidy() %>%\n",
    "      mutate(TF = list_adj_moduleScore[[i]]$TF[1],\n",
    "             color = list_adj_moduleScore[[i]]$color[1])\n",
    "    list_res_glance[[i]] = each_lm %>%\n",
    "      broom::glance() %>%\n",
    "      mutate(TF = list_adj_moduleScore[[i]]$TF[1],\n",
    "             color = list_adj_moduleScore[[i]]$color[1])\n",
    "  },\n",
    "  error = function(e) {\n",
    "    list_res_tidy[[i]] = NA\n",
    "    list_res_glance[[i]] = NA\n",
    "  }\n",
    "  )\n",
    "}\n",
    "\n",
    "df_res_tidy = list_res_tidy %>% bind_rows()\n",
    "df_res_glance = list_res_glance %>% bind_rows()"
   ]
  },
  {
   "cell_type": "code",
   "execution_count": null,
   "metadata": {
    "vscode": {
     "languageId": "r"
    }
   },
   "outputs": [],
   "source": [
    "df_diff_grn_significant = df_diff_grn %>%\n",
    "  filter(feature %in% c_cd8_scenic_regulon,\n",
    "    group == \"PD base CD8\",\n",
    "    abs(logFC) > 0.005\n",
    "  )\n",
    "\n",
    "p_heatmap_padj = df_res_tidy %>% \n",
    "  mutate(p.adj = p.adjust(p.value, method= \"BH\")) %>%\n",
    "  filter(term == \"value\",\n",
    "         TF %in% str_sub(df_diff_grn_significant$feature, 1, -4)) %>%\n",
    "  select(p.adj, TF, color) %>%\n",
    "  mutate(p.adj = ifelse(p.adj < 0.05, -log10(p.adj), \n",
    "                        ifelse(is.na(p.adj) == TRUE, 0, 0))) %>%\n",
    "  pivot_wider(names_from = TF, values_from = p.adj, values_fill = 0) %>%\n",
    "  as.data.frame() %>%\n",
    "  column_to_rownames(\"color\") %>%\n",
    "  t() %>%\n",
    "  Heatmap(\n",
    "    heatmap_legend_param = list(\n",
    "      title = \"p.adj\"\n",
    "    ),\n",
    "    col = colorRamp2(c(0, -log10(0.05), 10), c(\"#53799d\", \"white\", \"#E23222\")),\n",
    "    column_dend_height = unit(0.5, \"cm\"),\n",
    "    row_dend_width = unit(0.5, \"cm\")\n",
    "  )\n",
    "  p_heatmap_padj\n",
    "\n",
    "pdf(\"figure_prep/pSCENIC_heatmap_padj.pdf\", width = 5, height = 5)\n",
    "p_heatmap_padj\n",
    "dev.off()"
   ]
  },
  {
   "cell_type": "markdown",
   "metadata": {},
   "source": [
    "## figure 4F"
   ]
  },
  {
   "cell_type": "code",
   "execution_count": null,
   "metadata": {
    "vscode": {
     "languageId": "r"
    }
   },
   "outputs": [],
   "source": [
    "df_cd8_MEs = read_delim(\"analysis/assets/wgcna/CD8_MEs.txt.gz\")\n",
    "df_scenic_module_merged = left_join(df_cd8_MEs, seurat_obj_aucmtx) %>%\n",
    "  select(cellID, anno_l1, anno_l2, brown, `TBX21(+)`, `EOMES(+)`)"
   ]
  }
 ],
 "metadata": {
  "language_info": {
   "name": "python"
  }
 },
 "nbformat": 4,
 "nbformat_minor": 2
}
