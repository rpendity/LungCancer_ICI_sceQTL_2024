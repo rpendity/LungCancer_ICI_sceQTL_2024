{
 "cells": [
  {
   "cell_type": "code",
   "execution_count": null,
   "metadata": {
    "vscode": {
     "languageId": "r"
    }
   },
   "outputs": [],
   "source": [
    "vlib = c(\"tidyverse\", \"arrow\", \"ggsci\", \"ggpubr\", \"ggrepel\",\n",
    "         \"scales\", \"ComplexUpset\", \"mashr\", \"patchwork\", \"pheatmap\")\n",
    "lapply(vlib, require, character.only = TRUE, quietly = TRUE) |>\n",
    "  suppressMessages()\n",
    "\n",
    "base_dir = \".\"\n",
    "setwd(base_dir)\n",
    "\n",
    "df_meta_target = read_delim(\"assets/file_meta.txt\",\n",
    "                     col_names = c(\"levels\", \"time\", \"cluster_name\")) %>%\n",
    "  mutate(prefix_file = paste0(levels, \"_\", time, \"_\", cluster_name))\n",
    "\n",
    "\n",
    "df_map_cis = read_delim(\"assets/02_mashr/joined_all_results.txt.gz\")"
   ]
  },
  {
   "cell_type": "markdown",
   "metadata": {},
   "source": [
    "## figure 1F, upset plot"
   ]
  },
  {
   "cell_type": "code",
   "execution_count": null,
   "metadata": {
    "vscode": {
     "languageId": "r"
    }
   },
   "outputs": [],
   "source": [
    "df_significant_upset_long = df_map_cis %>%\n",
    "  filter(lfsr < 0.05) %>%\n",
    "  left_join(df_meta_target, by = c(\"condition\" = \"prefix_file\")) %>%\n",
    "  select(name, condition, lfsr, time, cluster_name) %>%\n",
    "  group_by(name, cluster_name) %>%\n",
    "  mutate(lfsr = TRUE, time = ifelse(n() == 2, \"both\", ifelse(time == \"base\", \"before\", \"after\"))) %>%\n",
    "  ungroup()\n",
    "\n",
    "df_upset_time_information = df_significant_upset_long %>%\n",
    "  distinct(name, cluster_name, time)\n",
    "\n",
    "df_significant_upset_wide = df_significant_upset_long %>%\n",
    "  distinct(name, lfsr, cluster_name, time) %>%\n",
    "  select(1:4) %>%\n",
    "  pivot_wider(names_from = cluster_name, values_from = lfsr, values_fill= FALSE) %>%\n",
    "  mutate(time = factor(time, levels = rev(c(\"both\", \"before\", \"after\"))))\n",
    "\n",
    "c_intersections = colnames(df_significant_upset_wide)[3:ncol(df_significant_upset_wide)]\n",
    "\n",
    "p_upset_full = upset(\n",
    "  df_significant_upset_wide,\n",
    "  c_intersections,\n",
    "  sort_intersections = \"descending\",\n",
    "  min_size = 10,\n",
    "  base_annotations = list(\"Intersection size\" = (\n",
    "    intersection_size(\n",
    "      text = list(size = 3)\n",
    "    )\n",
    "    + theme(plot.background = element_rect(fill = NA),\n",
    "            axis.text.y = element_text(size = 13))\n",
    "    + ylab(\"Number of intersection\")\n",
    "  )),\n",
    "  set_sizes = (\n",
    "    upset_set_size(\n",
    "      geom = geom_bar(aes(x = group, fill = time), width = 0.8), position = \"right\"\n",
    "    ) +\n",
    "      geom_text(aes(label = after_stat(count)), hjust = -0.2, stat = \"count\") +\n",
    "      expand_limits(y = 2200) +\n",
    "      scale_fill_manual(values = c(\"#9EB384\", \"#526D82\", \"#45474B\"))\n",
    "  ),\n",
    "  height_ratio=0.9,\n",
    "  themes = upset_modify_themes(list(\"intersections_matrix\" =\n",
    "                                      theme(text = element_text(size = 15, face = \"bold\"))))\n",
    ") &\n",
    "  theme(plot.background=element_rect(fill = \"transparent\", color = NA),\n",
    "        panel.grid = element_blank(),\n",
    "        legend.position = \"top\")\n",
    "\n",
    "print(p_upset_full)\n",
    "\n",
    "ggsave(\"figure_prep/upset_plots/upset_time_all_full.pdf\",\n",
    "       p_upset_full,\n",
    "       width = 27, height = 18, units = \"cm\", dpi = 300)"
   ]
  },
  {
   "cell_type": "markdown",
   "metadata": {},
   "source": [
    "## figure 2A, sharing heatmap"
   ]
  },
  {
   "cell_type": "code",
   "execution_count": null,
   "metadata": {
    "vscode": {
     "languageId": "r"
    }
   },
   "outputs": [],
   "source": [
    "\n",
    "df_sharing = read_delim(\"assets/mash_sharing_stats.txt.gz\")\n",
    "c_heatmap_scale = colorRampPalette(c(\"#53799d\",\"white\",\"#E23222\"), bias = 1.12)(21)\n",
    "\n",
    "p_sharing = df_sharing %>%\n",
    "  pheatmap(fontsize = 13,\n",
    "    treeheight_row = 25,\n",
    "    treeheight_col = 25,\n",
    "    color = c_heatmap_scale\n",
    "  )\n",
    "\n",
    "print(p_sharing)\n",
    "\n",
    "p_sharing\n",
    "pdf(\"figure_prep/mashr_sharing_heatmap.pdf\", width = 7.25, height = 7)\n",
    "print(p_sharing)\n",
    "dev.off()\n"
   ]
  },
  {
   "cell_type": "markdown",
   "metadata": {},
   "source": [
    "## figure 2B kegg-based heatmap"
   ]
  },
  {
   "cell_type": "code",
   "execution_count": null,
   "metadata": {
    "vscode": {
     "languageId": "r"
    }
   },
   "outputs": [],
   "source": [
    "df_selected_genes_kegg = read_delim(\"assets/240414_kegg_selected_genes.txt\",\n",
    "                               delim = \"\\t\", col_names = F) %>%\n",
    "  mutate(X1 = factor(X1, levels = unique(df_selected_genes_stats$phenotype_id))) %>%\n",
    "  arrange(X1)\n",
    "\n",
    "\n",
    "p_beta_heatmap = df_map_cis %>% \n",
    "    filter(phenotype_id %in% df_selected_genes_kegg$X1\n",
    "           ) %>% \n",
    "    group_by(phenotype_id) %>% mutate(min_lfsr = min(lfsr)) %>%\n",
    "    filter(min_lfsr < 0.05) %>%\n",
    "    arrange(-lfsr) %>% \n",
    "    mutate(PosteriorMean = ifelse(lfsr < 0.20, PosteriorMean, 0),\n",
    "           slope = ifelse(lfsr < 0.20, slope, 0)) %>%\n",
    "    left_join(df_meta_target, by = c(\"condition\" = \"prefix_file\")) %>%\n",
    "    mutate(condition = paste0(cluster_name, \" \", ifelse(time == \"base\", \"Before\", \"After\"))) %>%\n",
    "  select(phenotype_id, condition, PosteriorMean) %>%\n",
    "  pivot_wider(names_from = condition, values_from = PosteriorMean, values_fill = 0) %>% \n",
    "  as.data.frame() %>% \n",
    "  column_to_rownames(\"phenotype_id\") %>% \n",
    "  select(c(\"B Before\", \"B After\", \"DC Before\", \"DC After\",\n",
    "           \"Mono Before\", \"Mono After\", \"NK Before\", \"NK After\",\n",
    "           \"CD4 Before\", \"CD4 After\", \"CD8 Before\", \"CD8 After\",\n",
    "           \"Other_T Before\", \"Other_T After\", \"Other Before\", \"Other After\")) %>%\n",
    "  as.matrix() %>%\n",
    "  Heatmap(.,\n",
    "          col = colorRamp2(c(-0.5, 0, 0.5), c(\"#53799d\",'white','#E23222')),\n",
    "          cluster_columns = F,\n",
    "          row_split = df_selected_genes_kegg$X2)\n",
    "\n",
    "print(p_beta_heatmap)\n",
    "\n",
    "\n",
    "pdf(\"figure_prep/p_beta_heatmap.pdf\", width = 7.25, height = 15)\n",
    "print(p_beta_heatmap); dev.off()"
   ]
  },
  {
   "cell_type": "markdown",
   "metadata": {},
   "source": [
    "## figure 2D, time-dependency"
   ]
  },
  {
   "cell_type": "code",
   "execution_count": null,
   "metadata": {
    "vscode": {
     "languageId": "r"
    }
   },
   "outputs": [],
   "source": [
    "# shared variables\n",
    "annot_sharing = data.frame(\n",
    "  color = c(\"TRUE-NA\", \"TRUE-FALSE\", \"TRUE-TRUE\", \"FALSE-TRUE\", \"NA-TRUE\"),\n",
    "  eGene_category = c(\"before-spare\", \"before-only\", \"consistant\", \"after-only\", \"after_sparse\")\n",
    ")\n",
    "c_cluster = c(\"B\", \"DC\", \"Other\", \"Other_T\", \"CD4\",  \"CD8\", \"NK\", \"Mono\")\n",
    "\n",
    "df_map_cis_non_sparse = left_join(df_map_cis, df_meta_target, by = c(\"condition\" = \"prefix_file\")) %>%\n",
    "  select(cluster_name, name, time, lfsr) %>%\n",
    "  mutate(significance = ifelse(lfsr < 0.05, TRUE, FALSE)) %>%\n",
    "  select(-lfsr) %>%\n",
    "  pivot_wider(names_from = time, values_from = significance) %>%\n",
    "  mutate(color = factor(paste0(base, \"-\", `1st`),\n",
    "                        levels = c(\"TRUE-FALSE\", \"TRUE-TRUE\", \"FALSE-TRUE\"))) %>%\n",
    "  filter(!is.na(color)) %>%\n",
    "  select(-3,-4)\n",
    "\n",
    "\n",
    "# time-dep stats \n",
    "df_map_cis_time_dependent = left_join(df_map_cis, df_meta_target, by = c(\"condition\" = \"prefix_file\")) %>%\n",
    "  select(cluster_name, name, time, PosteriorMean) %>%\n",
    "  filter(name %in% df_map_cis_non_sparse$name) %>%\n",
    "  mutate(time = ifelse(time == \"1st\", \"after\", \"before\")) %>%\n",
    "  pivot_wider(names_from = time, values_from = PosteriorMean) %>%\n",
    "  left_join(., df_map_cis_non_sparse) %>%\n",
    "  #na.omit(color) %>%\n",
    "  left_join(., annot_sharing) %>%\n",
    "  mutate(eGene_category = factor(eGene_category, levels = c(\"before-only\", \"after-only\", \"consistant\"))) %>%\n",
    "  group_by(cluster_name, name) %>%\n",
    "  mutate(slope_ratio = max((abs(after) / abs(before)), (abs(before) / abs(after)))) %>%\n",
    "  mutate(significance = ifelse((slope_ratio > 2 &\n",
    "                                  (((abs(after) > abs(before)) & abs(after) > 0.5) |\n",
    "                                     ((abs(before) > abs(after)) & abs(before) > 0.5))),\n",
    "                               \"time-dependent\", \"not-significant\"))\n",
    "\n",
    "df_map_cis_time_dependent %>%\n",
    "  write_delim(\"assets/df_map_cis_time_dependent_signals.txt.gz\", delim = \"\\t\")\n",
    "\n",
    "p_shared_beta = df_map_cis_time_dependent %>%\n",
    "  ggplot(aes(x= before, y = after, color = significance)) +\n",
    "  geom_point( shape = 16, size = 2) + \n",
    "  scale_x_continuous(limits = c(-2,2)) +\n",
    "  scale_y_continuous(limits = c(-1.8, 1.8)) +\n",
    "  scale_color_manual(values = c(alpha(\"grey70\", 0.5), \"#526D82\")) +\n",
    "  xlab(\"Posterior beta from before ICI treatment\") +\n",
    "  ylab(\"Posterior beta from after ICI treatment\") +\n",
    "  theme_pubr() +\n",
    "  theme(\n",
    "    plot.title = element_text(size = 18, hjust = 0),\n",
    "    axis.title = element_text(size = 16),\n",
    "    axis.text = element_text(size = 14),\n",
    "    axis.line = element_blank(),\n",
    "    legend.text = element_text(size = 14),\n",
    "    legend.key.size = unit(2, \"mm\"),\n",
    "    panel.grid.major = element_line(color = \"grey80\",\n",
    "                                    linewidth = 0.5,\n",
    "                                    linetype = 2),\n",
    "    strip.background = element_rect(fill = NA),\n",
    "    strip.text = element_text(size = 16),\n",
    "    panel.border = element_rect(linewidth = 1, fill = NA, color = \"black\")\n",
    "  )\n",
    "\n",
    "print(p_shared_beta)\n",
    "\n",
    "p_shared_beta %>%\n",
    "  ggsave(\"figure_prep/p_possible_time_dep.pdf\", .,\n",
    "         width = 14, height = 15, dpi = 300, units = \"cm\")"
   ]
  },
  {
   "cell_type": "markdown",
   "metadata": {},
   "source": [
    "## figure 2C, 2E, 3E\n",
    "we cannot provide the source data due to privacy issue. following code was used for drawing eQTL plots."
   ]
  },
  {
   "cell_type": "code",
   "execution_count": null,
   "metadata": {
    "vscode": {
     "languageId": "r"
    }
   },
   "outputs": [],
   "source": [
    "library(pgenlibr)\n",
    "pvar <- pgenlibr::NewPvar(\"path_to_pvar\")\n",
    "pgen <- pgenlibr::NewPgen(\"path_to_pgen\",\n",
    "                          pvar = pvar)\n",
    "sample_id = read_delim(\"path_to_psam\") %>%\n",
    "  pull(IID)\n",
    "gtf = read_delim(\"assets/gencode.v43.basic.tss_bed.txt\")\n",
    "\n",
    "c_colors = c(\n",
    "  \"B\" = \"#C0392BFF\",\n",
    "  \"CD4\" = \"#D35400FF\", \n",
    "  \"CD8\" = \"#F39C12FF\",\n",
    "  \"DC\" = \"#27AE60FF\",\n",
    "  \"Mono\" = \"#16A085FF\",\n",
    "  \"NK\" = \"#2980B9FF\",\n",
    "  \"Other\" = \"#8E44ADFF\",\n",
    "  \"Other_T\" = \"#2C3E50FF\"\n",
    ")\n",
    "  "
   ]
  },
  {
   "cell_type": "code",
   "execution_count": null,
   "metadata": {
    "vscode": {
     "languageId": "r"
    }
   },
   "outputs": [],
   "source": [
    "name = \"CTSW_chr11:65879634:A:G\" # example.\n",
    "target_id = str_split(name, \"_\")[[1]][1]\n",
    "target_variant  = str_split(name, \"_\")[[1]][2]\n",
    "target_chr = gtf %>% filter(gene_id == target_id) %>% pull(`#chr`)\n",
    "\n",
    "var_id = c()\n",
    "for (each in target_variant){\n",
    "  var_id = append(var_id, GetVariantsById(pvar, each))\n",
    "}\n",
    "\n",
    "geno_mat <- pgenlibr::ReadList(pgen, var_id)\n",
    "colnames(geno_mat) = target_variant\n",
    "rownames(geno_mat) = sample_id\n",
    "\n",
    "allele_extraction = str_split(target_variant, \":\")\n",
    "lab = c(paste0(allele_extraction[[1]][3],allele_extraction[[1]][3]),\n",
    "        paste0(allele_extraction[[1]][3],allele_extraction[[1]][4]),\n",
    "        paste0(allele_extraction[[1]][4],allele_extraction[[1]][4]))"
   ]
  },
  {
   "cell_type": "code",
   "execution_count": null,
   "metadata": {
    "vscode": {
     "languageId": "r"
    }
   },
   "outputs": [],
   "source": [
    "df_meta_nominal = df_meta_target %>%\n",
    "  mutate(nominal = paste0(\"tensorqtl_nominal/\", prefix_file, \".cis_qtl_pairs.\", target_chr,\".parquet\"),\n",
    "         exprs_raw = paste0(\"pseudobulk_pipeline/exprs_matrix_raw/\", prefix_file, \".bed\"),\n",
    "         exprs = paste0(\"pseudobulk_pipeline/exprs_matrix/\", prefix_file, \".bed.gz\"))\n",
    "\n",
    "list_bed_exprs = vector(mode = \"list\", length = nrow(df_meta_nominal))\n",
    "list_bed_exprs = lapply(df_meta_nominal$exprs, read_delim)\n",
    "names(list_bed_exprs) = df_meta_nominal$prefix_file\n",
    "\n",
    "df_long_exprs = list_bed_exprs %>%\n",
    "  bind_rows(.id = \"prefix_file\") %>%\n",
    "  filter(phenotype_id == target_id) %>%\n",
    "  select(-2, -3, -4) %>%\n",
    "  pivot_longer(cols = 3:ncol(.), names_to = \"sample_id\", values_to = \"exprs\") %>%\n",
    "  left_join(df_meta) %>%\n",
    "  select(-1, -levels)"
   ]
  },
  {
   "cell_type": "code",
   "execution_count": null,
   "metadata": {
    "vscode": {
     "languageId": "r"
    }
   },
   "outputs": [],
   "source": [
    "df_si = read_delim(\"assets/sample_information.txt\") %>%\n",
    "  select(sample, time, Pathology, Age, Response) %>%\n",
    "  mutate(time = factor(time, levels = c(\"before\", \"after\")))"
   ]
  },
  {
   "cell_type": "code",
   "execution_count": null,
   "metadata": {
    "vscode": {
     "languageId": "r"
    }
   },
   "outputs": [],
   "source": [
    "df_max = df_long_exprs %>%\n",
    "  na.omit() %>%\n",
    "  group_by(cluster_name, time) %>%\n",
    "  summarise(max_y = max(exprs)) %>%\n",
    "  mutate(time = ifelse(time == \"base\", \"before\", \"after\")) %>%\n",
    "  mutate(time = factor(time, levels = c(\"before\", \"after\")))\n",
    "\n",
    "df_parquet = df_map_cis %>% filter(phenotype_id == target_id)\n",
    "df_summary = left_join(df_parquet, df_meta_target) %>%\n",
    "  select(PosteriorMean, PosteriorSD, lfsr, cluster_name, time) %>%\n",
    "  mutate(value = 0, exprs = 0) %>%\n",
    "  mutate(time = ifelse(time == \"base\", \"before\", \"after\")) %>%\n",
    "  mutate(time = factor(time, levels = c(\"before\", \"after\"))) %>%\n",
    "  mutate(value = as.factor(value)) %>%\n",
    "  left_join(df_max) %>%\n",
    "  na.omit()\n",
    "\n",
    "dbl_max_y = max(na.omit(df_summary$max_y))"
   ]
  },
  {
   "cell_type": "code",
   "execution_count": null,
   "metadata": {
    "vscode": {
     "languageId": "r"
    }
   },
   "outputs": [],
   "source": [
    "p_eachQTL = geno_mat %>% as.data.frame() %>% rownames_to_column(\"sample_id\") %>%\n",
    "  pivot_longer(cols = 2:ncol(.)) %>%\n",
    "  left_join(df_long_exprs) %>%\n",
    "  filter(name == target_variant) %>%\n",
    "  mutate(time = ifelse(time == \"base\", \"before\", \"after\")) %>%\n",
    "  mutate(time = factor(time, levels = c(\"before\", \"after\"))) %>%\n",
    "  mutate(value = as.factor(value)) %>%\n",
    "  left_join(df_si, by = c(\"sample_id\" = \"sample\", \"time\")) %>%\n",
    "  ggplot(aes(x = value, y = exprs)) +\n",
    "  geom_text(data = df_summary,\n",
    "            aes(y = dbl_max_y * 1.05,\n",
    "                label = paste0(\"beta = \", format(PosteriorMean, digits = 3))),\n",
    "            hjust = 0.1, vjust = 1, size = 3) +\n",
    "  geom_smooth(aes(x = as.numeric(value), y = exprs), method =\"lm\", se = F) +\n",
    "  geom_jitter(aes(color = cluster_name), size = 2,  shape = 16, alpha = 0.5,\n",
    "              position= position_jitterdodge(jitter.width = 0.30, dodge.width = 0.85)) +\n",
    "  geom_violin(aes(fill = cluster_name), width = 1, alpha = 0.3, linewidth = 0) +\n",
    "  geom_boxplot(aes(fill = cluster_name), alpha = 0.2,\n",
    "               width = 0.4, position = position_dodge(width = 1)) +\n",
    "  facet_grid(time ~ cluster_name, scales = \"free_y\") + theme_pubr() +\n",
    "  scale_x_discrete(label = lab) +\n",
    "  scale_fill_manual(values = c_colors) +\n",
    "  scale_color_manual(values = c_colors) +\n",
    "  xlab(target_variant) +\n",
    "  ylab(paste0(target_id,\" expression (Normalized)\")) +\n",
    "  theme(\n",
    "    plot.title = element_text(size = 20, hjust = 0),\n",
    "    axis.title.x = element_text(hjust = 0.5, size = 16),\n",
    "    axis.title.y = element_text(hjust = 0.5, size = 16),\n",
    "    axis.text.x =  element_text(size = 12),\n",
    "    axis.text.y =  element_text(size = 12),\n",
    "    strip.background = element_blank(),\n",
    "    strip.text = element_text(size = 16),\n",
    "    legend.text = element_text(size = 12),\n",
    "    legend.key.size = unit(2, \"mm\"),\n",
    "    legend.position = \"right\"\n",
    "  )\n",
    "p_eachQTL\n",
    "# automatic saving determ.\n",
    "#ggsave(paste0(\"visualization_eachQTL/time_dep/\", name, \"_eQTLplot.pdf\"), p_sharing,\n",
    "#       height = 15, width = (3 + 3 * length(unique(df_long_exprs$cluster_name))), units = \"cm\")"
   ]
  }
 ],
 "metadata": {
  "language_info": {
   "name": "python"
  }
 },
 "nbformat": 4,
 "nbformat_minor": 2
}
