{
 "cells": [
  {
   "cell_type": "markdown",
   "metadata": {},
   "source": []
  },
  {
   "cell_type": "code",
   "execution_count": null,
   "metadata": {},
   "outputs": [],
   "source": [
    "\n",
    "import os\n",
    "import numpy as np\n",
    "import pandas as pd\n",
    "import scanpy as sc\n",
    "import loompy as lp\n",
    "import matplotlib.pyplot as plt\n",
    "\n",
    "\n",
    "os.chdir(\"scRNA_Preprocessing_scanpy_231020\")"
   ]
  },
  {
   "cell_type": "code",
   "execution_count": null,
   "metadata": {},
   "outputs": [],
   "source": [
    "f_anndata_path_SCTcount = \"adata_raw.h5ad\"\n",
    "f_anndata_path_hamony = \"adata_harmony.h5ad\"\n",
    "f_loom_path_SCTcount = \"231020_PBMC_LC_SCTransformed_count.loom\""
   ]
  },
  {
   "cell_type": "code",
   "execution_count": null,
   "metadata": {},
   "outputs": [],
   "source": [
    "adata_raw = sc.read_loom(f_loom_path_SCTcount)\n",
    "#adata = adata_raw"
   ]
  },
  {
   "cell_type": "code",
   "execution_count": null,
   "metadata": {},
   "outputs": [],
   "source": [
    "# import sample IDs from metadata and update it to adata\n",
    "\n",
    "df_md = pd.read_csv(\"scRNA_Preprocessing_scanpy_231020/md_dataframe.txt.gz\", sep = \"\\t\")\n",
    "df_md[\"cell\"] = df_md[\"file\"].astype(str)+'_'+df_md[\"cell_barcode\"].astype(str)\n",
    "df_md[\"sample_time\"] = df_md[\"sample\"].astype(str)+'-'+df_md[\"time\"].astype(str)\n",
    "df_md = df_md.set_index(\"cell\")\n",
    "df_md = df_md.rename_axis(\"CellID\")\n",
    "df_obs = adata.obs\n",
    "adata.obs = pd.merge(df_obs, df_md, left_index = True, right_index = True)"
   ]
  },
  {
   "cell_type": "code",
   "execution_count": null,
   "metadata": {},
   "outputs": [],
   "source": [
    "# modified zheng17 procedure\n",
    "sc.pp.filter_genes(adata, min_counts=1)\n",
    "sc.pp.log1p(adata)\n",
    "# do not normalize per cell. it is already corrected.\n",
    "sc.pp.highly_variable_genes(adata, min_mean=0.0125, max_mean=3, min_disp=0.5)\n",
    "\n",
    "# need HVG for calculating PCA\n",
    "sc.tl.pca(adata, svd_solver='arpack')\n",
    "sc.pl.pca_variance_ratio(adata, log=True, n_pcs=50) \n",
    "# add pca and save it to preprocessed, not integrated anndata h5ad files\n",
    "# adata.write(f_anndata_path_SCTcount)"
   ]
  },
  {
   "cell_type": "code",
   "execution_count": null,
   "metadata": {},
   "outputs": [],
   "source": [
    "adata = sc.read_h5ad(\"./adata_raw.h5ad\")\n",
    "### previously done\n",
    "sc.external.pp.harmony_integrate(adata, 'sample_time', max_iter_harmony = 20)\n",
    "### neighborhood graph of cells (determine optimal number of PCs here)\n",
    "sc.pp.neighbors(adata, n_neighbors=15, n_pcs=30, use_rep = \"X_pca_harmony\")\n",
    "### compute UMAP\n",
    "sc.tl.umap(adata)\n",
    "### find leiden cluster \n",
    "sc.tl.leiden(adata, resolution= 1.5)\n",
    "# adata.write(f_anndata_path_hamony)"
   ]
  },
  {
   "cell_type": "code",
   "execution_count": null,
   "metadata": {},
   "outputs": [],
   "source": [
    "## export cluster, umap information for R\n",
    "adata= sc.read_h5ad(f_anndata_path_hamony)\n",
    "pd.DataFrame(adata.obs['leiden']).to_csv(\"./leiden_res1.tsv\", sep = \"\\t\")\n",
    "pd.DataFrame(adata.obsm[\"X_umap\"], index=adata.obs_names).to_csv(\"./umap.tsv\", sep = \"\\t\")"
   ]
  },
  {
   "cell_type": "code",
   "execution_count": null,
   "metadata": {},
   "outputs": [],
   "source": [
    "fig, axs = plt.subplots(1, 2, figsize=(15,6),constrained_layout=True)\n",
    "sc.pl.umap(adata, color=\"file\", title=\"Harmony umap\", ax=axs[0], show=False)\n",
    "sc.pl.umap(adata, color=\"time\", title=\"Harmony umap\", ax=axs[1], show=False)"
   ]
  },
  {
   "cell_type": "code",
   "execution_count": null,
   "metadata": {},
   "outputs": [],
   "source": [
    "sc.pl.umap(adata, color=\"leiden\", title=\"Harmony umap\", show=False, legend_loc='on data')\n",
    "adata_raw.obs = adata.obs"
   ]
  },
  {
   "cell_type": "code",
   "execution_count": null,
   "metadata": {},
   "outputs": [],
   "source": [
    "# myeloid includes : 0,1,5,11,16,19,25,29,31,34,36\n",
    "f_anndata_path_harmony_myeloid = \"./adata_harmony_myeloid.h5ad\"\n",
    "# group2 includes : proliferating cells, Plasmablast, B, Eryth - 13, 18, 22, 26 30, 32, 35\n",
    "f_anndata_path_harmony_group2 = \"./adata_harmony_group2.h5ad\"\n",
    "# group3 include : lymphoid level 1\n",
    "f_anndata_path_harmony_group3a = \"./adata_harmony_group3a.h5ad\"\n",
    "f_anndata_path_harmony_group3b = \"./adata_harmony_group3b.h5ad\"\n",
    "f_anndata_path_harmony_group3c = \"./adata_harmony_group3c.h5ad\""
   ]
  },
  {
   "cell_type": "code",
   "execution_count": null,
   "metadata": {},
   "outputs": [],
   "source": [
    "adata_myeloid = adata_raw[adata_raw.obs.leiden.isin([str(i) for i in [0, 1, 5, 11 ,16 ,19 ,25 ,29 ,31 ,34 ,36]]) == True]\n",
    "# adata_myeloid.write(f_anndata_path_harmony_myeloid)\n",
    "adata_group2 = adata_raw[adata_raw.obs.leiden.isin([str(i) for i in [13, 18, 22, 26, 30, 32, 35]]) == True]\n",
    "# adata_group2.write(f_anndata_path_harmony_group2)\n",
    "adata_group3a = adata_raw[adata_raw.obs.leiden.isin([str(i) for i in [2,3,6,8,10,14,15,21,23,24,27]]) == True]\n",
    "# adata_group3a.write(f_anndata_path_harmony_group3a)\n",
    "adata_group3b = adata_raw[adata_raw.obs.leiden.isin([str(i) for i in [4,7,9,12,17,20,28,33]]) == True]\n",
    "# adata_group3c.write(f_anndata_path_harmony_group3b)"
   ]
  },
  {
   "cell_type": "markdown",
   "metadata": {},
   "source": [
    "### 1. adata_myeloid"
   ]
  },
  {
   "cell_type": "code",
   "execution_count": null,
   "metadata": {},
   "outputs": [],
   "source": [
    "sc.pp.filter_genes(adata_myeloid, min_counts=1)\n",
    "sc.pp.scale(adata_myeloid)\n",
    "sc.tl.pca(adata_myeloid, svd_solver='arpack')\n",
    "sc.external.pp.harmony_integrate(adata_myeloid 'sample_time', max_iter_harmony = 20)\n",
    "# neighborhood graph of cells (determine optimal number of PCs here)\n",
    "sc.pp.neighbors(adata_myeloid, n_neighbors=15, n_pcs=30, use_rep = \"X_pca_harmony\")\n",
    "# compute UMAP\n",
    "sc.tl.umap(adata_myeloid)\n",
    "sc.tl.leiden(adata_myeloid, resolution= 0.5, key_added = \"group1_res05\")"
   ]
  },
  {
   "cell_type": "code",
   "execution_count": null,
   "metadata": {},
   "outputs": [],
   "source": [
    "# plotting code\n",
    "sc.tl.rank_genes_groups(adata_myeloid, 'group1_res05', method='t-test')\n",
    "sc.pl.rank_genes_groups(adata_myeloid, n_genes=25, sharey=False)\n",
    "\n",
    "df_de = sc.get.rank_genes_groups_df(adata_myeloid, None)\n",
    "def get_top25(x):\n",
    "    return x.sort_values('scores').nlargest(25, columns = 'scores', keep = 'all')\n",
    "\n",
    "(\n",
    "    df_de\n",
    "    .sort_values(by='scores', axis = 0, ascending = False)\n",
    "    .groupby(by='group')\n",
    "    .apply(get_top25)[['group', 'names', 'scores']]\n",
    "    .to_csv(\"./DE_group1.tsv\", sep = \"\\t\")\n",
    ")\n",
    "\n",
    "df_obs_group1 = adata_myeloid.obs[['group1_res05']]\n",
    "df_obs_group1.group1_res05 = df_obs_group1.loc[:,\"group1_res05\"].astype(int)\n",
    "df_obs_group1[\"CellID\"] = df_obs_group1.index\n",
    "\n",
    "fig, axs = plt.subplots(1, 2, figsize=(10,4),constrained_layout=True)\n",
    "sc.pl.umap(adata_myeloid, color=\"time\", title=\"Harmony umap\", ax=axs[0], show=False)\n",
    "sc.pl.umap(adata_myeloid, color=\"group1_res05\", ax = axs[1], show = False)\n"
   ]
  },
  {
   "cell_type": "code",
   "execution_count": null,
   "metadata": {},
   "outputs": [],
   "source": [
    "anno_group1 = pd.read_csv(\"group1.txt\", sep = \"\\t\") # in assets\n",
    "df_merged = pd.merge(df_obs_group1, anno_group1, how = \"left\")\n",
    "df_merged = df_merged.drop('group1_res05', axis = 1)\n",
    "df_merged.to_csv(\"group1_id.txt.gz\", sep = \"\\t\")\n",
    "df_newobs = pd.merge(adata.obs, df_merged.set_index(\"CellID\"), left_index = True, right_index = True)\n",
    "df_newobs\n",
    "adata_myeloid = df_newobs\n",
    "sc.pl.umap(adata_myeloid, color = [\"anno_l2\", \"anno_c1\", \"group1_res05\"])\n",
    "adata_myeloid.write(f_anndata_path_harmony_myeloid)"
   ]
  },
  {
   "cell_type": "code",
   "execution_count": null,
   "metadata": {},
   "outputs": [],
   "source": [
    "### 2. Eryth, B, Plasmablast, Proliferating cells"
   ]
  },
  {
   "cell_type": "code",
   "execution_count": null,
   "metadata": {},
   "outputs": [],
   "source": [
    "sc.pp.filter_genes(adata_group2, min_counts=1)\n",
    "sc.pp.scale(adata_group2)\n",
    "sc.tl.pca(adata_group2, svd_solver='arpack')\n",
    "sc.external.pp.harmony_integrate(adata_group2, 'sample_time', max_iter_harmony = 20)\n",
    "# neighborhood graph of cells (determine optimal number of PCs here)\n",
    "sc.pp.neighbors(adata_group2, n_neighbors=15, n_pcs=30, use_rep = \"X_pca_harmony\")\n",
    "# compute UMAP\n",
    "sc.tl.umap(adata_group2)\n",
    "sc.tl.leiden(adata_group2, resolution= 0.5, key_added = \"group2_res05\")\n",
    "sc.tl.leiden(adata_group2, resolution= 1, key_added = \"group2_res10\")\n",
    "sc.tl.leiden(adata_group2, resolution= 1.3, key_added = \"group2_res13\")\n",
    "\n",
    "fig, axs = plt.subplots(2, 2, figsize=(10,8), constrained_layout=True)\n",
    "sc.pl.umap(adata_group2, color=\"leiden\", title=\"Harmony umap leiden\", ax=axs[0,0], show=False, legend_loc='on data')\n",
    "sc.pl.umap(adata_group2, color=\"group2_res05\", title=\"Harmony umap 0.5\", ax=axs[0,1], show=False, legend_loc='on data')\n",
    "sc.pl.umap(adata_group2, color=\"group2_res10\", title=\"Harmony umap 1.0\", ax=axs[1,0], show=False, legend_loc='on data') \n",
    "sc.pl.umap(adata_group2, color=\"group2_res13\", title=\"Harmony umap 1.3\", ax=axs[1,1], show=False, legend_loc='on data') "
   ]
  },
  {
   "cell_type": "code",
   "execution_count": null,
   "metadata": {},
   "outputs": [],
   "source": [
    "# plotting code\n",
    "\n",
    "sc.tl.rank_genes_groups(adata_group2, 'group2_res05', method='t-test')\n",
    "sc.pl.rank_genes_groups(adata_group2, n_genes=25, sharey=False)\n",
    "\n",
    "df_de = sc.get.rank_genes_groups_df(adata_group2, None)\n",
    "def get_top25(x):\n",
    "    return x.sort_values('scores').nlargest(25, columns = 'scores', keep = 'all')\n",
    "\n",
    "(\n",
    "    df_de\n",
    "    .sort_values(by='scores', axis = 0, ascending = False)\n",
    "    .groupby(by='group')\n",
    "    .apply(get_top25)[['group', 'names', 'scores']]\n",
    "    .to_csv(\"./DE_group2.tsv\", sep = \"\\t\")\n",
    ")\n",
    "\n",
    "df_obs_group2 = adata_group2.obs[['group2_res05']]\n",
    "df_obs_group2.group2_res05 = df_obs_group2.loc[:,\"group2_res05\"].astype(int)\n",
    "df_obs_group2[\"CellID\"] = df_obs_group2.index\n",
    "\n",
    "fig, axs = plt.subplots(1, 2, figsize=(10,4),constrained_layout=True)\n",
    "sc.pl.umap(adata_group2, color=\"time\", title=\"Harmony umap\", ax=axs[0], show=False)\n",
    "sc.pl.umap(adata_group2, color=\"group2_res05\", ax = axs[1], show = False)\n"
   ]
  },
  {
   "cell_type": "code",
   "execution_count": null,
   "metadata": {},
   "outputs": [],
   "source": [
    "markers = ['ITM2C', 'PLD4', 'SERPINF1', 'LILRA4', 'IL3RA', 'TPM2', 'MZB1', 'SPIB', 'IRF4', 'AFF3', 'group2_res05', 'leiden']\n",
    "with plt.rc_context({'figure.figsize': (3, 3)}):\n",
    "    sc.pl.umap(adata_group2, color = markers,\n",
    "               legend_loc = 'on data')\n",
    "sc.pl.dotplot(adata_group2, markers[0:10], groupby='group2_res05')"
   ]
  },
  {
   "cell_type": "code",
   "execution_count": null,
   "metadata": {},
   "outputs": [],
   "source": [
    "anno_group2 = pd.read_csv(\"group2.txt\", sep = \"\\t\")\n",
    "df_obs_group2 = adata_group2.obs[['group2_res05']]\n",
    "df_obs_group2.group2_res05 = df_obs_group2.loc[:,\"group2_res05\"].astype(int)\n",
    "df_obs_group2[\"CellID\"] = df_obs_group2.index\n",
    "\n",
    "df_merged = pd.merge(df_obs_group2, anno_group2, how = \"left\")\n",
    "df_merged = df_merged.drop('group2_res05', axis = 1)\n",
    "df_merged\n",
    "\n",
    "df_merged.to_csv(\"group2_id.txt.gz\", sep = \"\\t\")\n",
    "\n",
    "df_newobs = pd.merge(adata_group2.obs, df_merged.set_index(\"CellID\"), left_index = True, right_index = True)\n",
    "adata_group2.obs = df_newobs\n",
    "sc.pl.umap(adata, color = [\"anno_l2\",\"anno_c1\", \"group2_res05\"])\n",
    "adata_group2.write(f_anndata_path_harmony_group2)"
   ]
  },
  {
   "cell_type": "markdown",
   "metadata": {},
   "source": [
    "### 3a. Lymphoid A"
   ]
  },
  {
   "cell_type": "code",
   "execution_count": null,
   "metadata": {},
   "outputs": [],
   "source": [
    "# note : this code part is not well reproduced. so please don't save them directly.\n",
    "sc.pp.filter_genes(adata_group3a, min_counts=1)\n",
    "sc.pp.scale(adata_group3a)\n",
    "sc.tl.pca(adata_group3a, svd_solver='arpack')\n",
    "sc.external.pp.harmony_integrate(adata_group3a, 'sample_time', max_iter_harmony = 20)\n",
    "# neighborhood graph of cells (determine optimal number of PCs here)\n",
    "sc.pp.neighbors(adata_group3a, n_neighbors=15, n_pcs=30, use_rep = \"X_pca_harmony\")\n",
    "# compute UMAP\n",
    "sc.tl.umap(adata_group3a)\n",
    "sc.tl.leiden(adata_group3a, resolution= 0.5, key_added = \"group3_res05\")\n",
    "sc.tl.leiden(adata_group3a, resolution= 1, key_added = \"group3_res10\")\n",
    "sc.tl.leiden(adata_group3a, resolution= 1.3, key_added = \"group3_res13\")\n",
    "\n",
    "fig, axs = plt.subplots(2, 2, figsize=(10,8), constrained_layout=True)\n",
    "sc.pl.umap(adata_group3a, color=\"leiden\", title=\"Harmony umap leiden\", ax=axs[0,0], show=False, legend_loc='on data')\n",
    "sc.pl.umap(adata_group3a, color=\"group3_res05\", title=\"Harmony umap 0.5\", ax=axs[0,1], show=False, legend_loc='on data')\n",
    "sc.pl.umap(adata_group3a, color=\"group3_res10\", title=\"Harmony umap 1.0\", ax=axs[1,0], show=False, legend_loc='on data') \n",
    "sc.pl.umap(adata_group3a, color=\"group3_res13\", title=\"Harmony umap 1.3\", ax=axs[1,1], show=False, legend_loc='on data') "
   ]
  },
  {
   "cell_type": "code",
   "execution_count": null,
   "metadata": {},
   "outputs": [],
   "source": [
    "# plotting code\n",
    "\n",
    "sc.tl.rank_genes_groups(adata_group3a, 'group3_res10', method='t-test')\n",
    "sc.pl.rank_genes_groups(adata_group3a, n_genes=25, sharey=False)\n",
    "\n",
    "df_de = sc.get.rank_genes_groups_df(adata_group3a, None)\n",
    "def get_top25(x):\n",
    "    return x.sort_values('scores').nlargest(25, columns = 'scores', keep = 'all')\n",
    "\n",
    "(\n",
    "    df_de\n",
    "    .sort_values(by='scores', axis = 0, ascending = False)\n",
    "    .groupby(by='group')\n",
    "    .apply(get_top25)[['group', 'names', 'scores']]\n",
    "    .to_csv(\"./DE_group3a.tsv\", sep = \"\\t\")\n",
    ")\n",
    "\n",
    "df_obs_group3a = adata_group3a.obs[['group3_res10']]\n",
    "df_obs_group3a.group3_res10 = df_obs_group3a.loc[:,\"group3_res10\"].astype(int)\n",
    "df_obs_group3a[\"CellID\"] = df_obs_group3a.index\n",
    "\n",
    "fig, axs = plt.subplots(1, 2, figsize=(10,4),constrained_layout=True)\n",
    "sc.pl.umap(adata_group3a, color=\"time\", title=\"Harmony umap\", ax=axs[0], show=False)\n",
    "sc.pl.umap(adata_group3a, color=\"group3_res10\", ax = axs[1], show = False)\n",
    "\n",
    "adata_group3a.write(f_anndata_path_harmony_group3a)"
   ]
  },
  {
   "cell_type": "code",
   "execution_count": null,
   "metadata": {},
   "outputs": [],
   "source": [
    "anno_group3a = pd.read_csv(\"group3a.txt\", sep = \"\\t\")\n",
    "df_obs_group3a = adata_group3a.obs[['group3_res10']]\n",
    "df_obs_group3a.group3_res10 = df_obs_group3a.loc[:,\"group3_res10\"].astype(int)\n",
    "df_obs_group3a[\"CellID\"] = df_obs_group3a.index\n",
    "\n",
    "df_merged = pd.merge(df_obs_group3a, anno_group3a, how = \"left\")\n",
    "df_merged = df_merged.drop('group3_res10', axis = 1)\n",
    "df_merged\n",
    "\n",
    "df_merged.to_csv(\"group3a_id.txt.gz\", sep = \"\\t\")\n",
    "\n",
    "df_newobs = pd.merge(adata_group3a.obs, df_merged.set_index(\"CellID\"), left_index = True, right_index = True)\n",
    "adata_group3a.obs = df_newobs\n"
   ]
  },
  {
   "cell_type": "markdown",
   "metadata": {},
   "source": [
    "### 3b-c. Lymphoid A"
   ]
  },
  {
   "cell_type": "code",
   "execution_count": null,
   "metadata": {},
   "outputs": [],
   "source": [
    "sc.pp.filter_genes(adata_group3b, min_counts=1)\n",
    "sc.pp.scale(adata_group3b)\n",
    "sc.tl.pca(adata_group3b, svd_solver='arpack')\n",
    "sc.external.pp.harmony_integrate(adata_group3b, 'sample_time', max_iter_harmony = 20)\n",
    "# neighborhood graph of cells (determine optimal number of PCs here)\n",
    "sc.pp.neighbors(adata_group3b, n_neighbors=15, n_pcs=30, use_rep = \"X_pca_harmony\")\n",
    "# compute UMAP\n",
    "sc.tl.umap(adata_group3b)\n",
    "sc.tl.leiden(adata_group3b, resolution= 0.5, key_added = \"group3_res05\")\n",
    "sc.tl.leiden(adata_group3b, resolution= 1, key_added = \"group3_res10\")\n",
    "sc.tl.leiden(adata_group3b, resolution= 1.3, key_added = \"group3_res13\")\n",
    "\n",
    "fig, axs = plt.subplots(2, 2, figsize=(10,8), constrained_layout=True)\n",
    "sc.pl.umap(adata_group3b, color=\"leiden\", title=\"Harmony umap leiden\", ax=axs[0,0], show=False, legend_loc='on data')\n",
    "sc.pl.umap(adata_group3b, color=\"group3_res05\", title=\"Harmony umap 0.5\", ax=axs[0,1], show=False, legend_loc='on data')\n",
    "sc.pl.umap(adata_group3b, color=\"group3_res10\", title=\"Harmony umap 1.0\", ax=axs[1,0], show=False, legend_loc='on data') \n",
    "sc.pl.umap(adata_group3b, color=\"group3_res13\", title=\"Harmony umap 1.3\", ax=axs[1,1], show=False, legend_loc='on data') "
   ]
  },
  {
   "cell_type": "code",
   "execution_count": null,
   "metadata": {},
   "outputs": [],
   "source": [
    "# plotting code\n",
    "\n",
    "sc.tl.rank_genes_groups(adata_group3b, 'group3_res10', method='t-test')\n",
    "sc.pl.rank_genes_groups(adata_group3b, n_genes=25, sharey=False)\n",
    "\n",
    "df_de = sc.get.rank_genes_groups_df(adata_group3b, None)\n",
    "def get_top25(x):\n",
    "    return x.sort_values('scores').nlargest(25, columns = 'scores', keep = 'all')\n",
    "\n",
    "(\n",
    "    df_de\n",
    "    .sort_values(by='scores', axis = 0, ascending = False)\n",
    "    .groupby(by='group')\n",
    "    .apply(get_top25)[['group', 'names', 'scores']]\n",
    "    .to_csv(\"./DE_group3b.tsv\", sep = \"\\t\")\n",
    ")\n",
    "\n",
    "df_obs_group3b = adata_group3b.obs[['group3_res10']]\n",
    "df_obs_group3b.group3_res10 = df_obs_group3b.loc[:,\"group3_res10\"].astype(int)\n",
    "df_obs_group3b[\"CellID\"] = df_obs_group3b.index\n",
    "\n",
    "fig, axs = plt.subplots(1, 2, figsize=(10,4),constrained_layout=True)\n",
    "sc.pl.umap(adata_group3b, color=\"time\", title=\"Harmony umap\", ax=axs[0], show=False)\n",
    "sc.pl.umap(adata_group3b, color=\"group3_res10\", ax = axs[1], show = False)\n",
    "\n",
    "adata_group3b.write(f_anndata_path_harmony_group3b)"
   ]
  },
  {
   "cell_type": "code",
   "execution_count": null,
   "metadata": {},
   "outputs": [],
   "source": [
    "sc.pp.filter_genes(adata_group3c, min_counts=1)\n",
    "sc.pp.scale(adata_group3c)\n",
    "sc.tl.pca(adata_group3c, svd_solver='arpack')\n",
    "sc.external.pp.harmony_integrate(adata_group3c, 'sample_time', max_iter_harmony = 20)\n",
    "# neighborhood graph of cells (determine optimal number of PCs here)\n",
    "sc.pp.neighbors(adata_group3c, n_neighbors=15, n_pcs=30, use_rep = \"X_pca_harmony\")\n",
    "# compute UMAP\n",
    "sc.tl.umap(adata_group3c)\n",
    "sc.tl.leiden(adata_group3c, resolution= 0.5, key_added = \"group3_res05\")\n",
    "sc.tl.leiden(adata_group3c, resolution= 1, key_added = \"group3_res10\")\n",
    "sc.tl.leiden(adata_group3c, resolution= 1.3, key_added = \"group3_res13\")\n",
    "\n",
    "fig, axs = plt.subplots(2, 2, figsize=(10,8), constrained_layout=True)\n",
    "sc.pl.umap(adata_group3c, color=\"leiden\", title=\"Harmony umap leiden\", ax=axs[0,0], show=False, legend_loc='on data')\n",
    "sc.pl.umap(adata_group3c, color=\"group3_res05\", title=\"Harmony umap 0.5\", ax=axs[0,1], show=False, legend_loc='on data')\n",
    "sc.pl.umap(adata_group3c, color=\"group3_res10\", title=\"Harmony umap 1.0\", ax=axs[1,0], show=False, legend_loc='on data') \n",
    "sc.pl.umap(adata_group3c, color=\"group3_res13\", title=\"Harmony umap 1.3\", ax=axs[1,1], show=False, legend_loc='on data') "
   ]
  },
  {
   "cell_type": "code",
   "execution_count": null,
   "metadata": {},
   "outputs": [],
   "source": [
    "# plotting code\n",
    "\n",
    "sc.tl.rank_genes_groups(adata_group3c, 'group3_res10', method='t-test')\n",
    "sc.pl.rank_genes_groups(adata_group3c, n_genes=25, sharey=False)\n",
    "\n",
    "df_de = sc.get.rank_genes_groups_df(adata_group3c, None)\n",
    "def get_top25(x):\n",
    "    return x.sort_values('scores').nlargest(25, columns = 'scores', keep = 'all')\n",
    "\n",
    "(\n",
    "    df_de\n",
    "    .sort_values(by='scores', axis = 0, ascending = False)\n",
    "    .groupby(by='group')\n",
    "    .apply(get_top25)[['group', 'names', 'scores']]\n",
    "    .to_csv(\"./DE_group3b.tsv\", sep = \"\\t\")\n",
    ")\n",
    "\n",
    "df_obs_group3c = adata_group3c.obs[['group3_res10']]\n",
    "df_obs_group3c.group3_res10 = df_obs_group3c.loc[:,\"group3_res10\"].astype(int)\n",
    "df_obs_group3c[\"CellID\"] = df_obs_group3c.index\n",
    "\n",
    "fig, axs = plt.subplots(1, 2, figsize=(10,4),constrained_layout=True)\n",
    "sc.pl.umap(adata_group3c, color=\"time\", title=\"Harmony umap\", ax=axs[0], show=False)\n",
    "sc.pl.umap(adata_group3c, color=\"group3_res10\", ax = axs[1], show = False)\n",
    "\n",
    "adata_group3c.write(f_anndata_path_harmony_group3c)"
   ]
  },
  {
   "cell_type": "code",
   "execution_count": null,
   "metadata": {},
   "outputs": [],
   "source": [
    "df_group3c = pd.read_csv(\"./group3c_id.txt.gz\", sep = \"\\t\")\n",
    "df_obs_group3b = adata.obs[adata.obs.group3_res10.isin([str(i) for i in [3,6,9,10,11,15]]) == False]\n",
    "df_obs_group3b = df_obs_group3b[['group3_res10']]"
   ]
  },
  {
   "cell_type": "markdown",
   "metadata": {},
   "source": [
    "## gathering_results"
   ]
  },
  {
   "cell_type": "code",
   "execution_count": null,
   "metadata": {},
   "outputs": [],
   "source": [
    "df_1 = pd.read_csv(\"./group1_id.txt.gz\", sep = \"\\t\").iloc[:,1:5]\n",
    "df_2 = pd.read_csv(\"./group2_id.txt.gz\", sep = \"\\t\").iloc[:,1:5]\n",
    "df_3a = pd.read_csv(\"./group3a_id.txt.gz\", sep = \"\\t\").iloc[:,1:5]\n",
    "df_3b = pd.read_csv(\"./group3b_id.txt.gz\", sep = \"\\t\").iloc[:,1:5]\n",
    "df_3c = pd.read_csv(\"./group3c_id.txt.gz\", sep = \"\\t\").iloc[:,0:5]"
   ]
  },
  {
   "cell_type": "code",
   "execution_count": null,
   "metadata": {},
   "outputs": [],
   "source": [
    "df_ALL = pd.concat([df_1,df_2,df_3a,df_3b,df_3c]).set_index(\"CellID\")\n",
    "df_ALL.to_csv(\"./groupALL_merged_cellAnno.txt.gz\", sep = \"\\t\")"
   ]
  },
  {
   "cell_type": "code",
   "execution_count": null,
   "metadata": {},
   "outputs": [],
   "source": [
    "df_newobs = pd.merge(adata.obs.iloc[:,0:8], df_ALL, left_index = True, right_index = True, how='left', )"
   ]
  },
  {
   "cell_type": "code",
   "execution_count": null,
   "metadata": {},
   "outputs": [],
   "source": [
    "adata.obs = df_newobs\n",
    "adata.write(f_anndata_path_hamony)\n",
    "sc.pl.umap(adata, color = [\"anno_l1\", \"anno_c1\", \"leiden\"], legend_loc=\"on data\")"
   ]
  },
  {
   "cell_type": "code",
   "execution_count": null,
   "metadata": {},
   "outputs": [],
   "source": [
    "df_md = adata.obs.reset_index()\n",
    "df_md.to_csv(\"./md_dataframe.txt.gz\", index=False, sep = \"\\t\")"
   ]
  }
 ],
 "metadata": {
  "language_info": {
   "name": "python"
  }
 },
 "nbformat": 4,
 "nbformat_minor": 2
}
