{
 "cells": [
  {
   "cell_type": "code",
   "execution_count": null,
   "metadata": {
    "vscode": {
     "languageId": "r"
    }
   },
   "outputs": [],
   "source": [
    "vlib =  c(\"tidyverse\", \"ggpubr\", \"arrow\", \"ComplexHeatmap\", \"Seurat\",\n",
    "         \"tidyseurat\", \"enrichR\", \"ComplexHeatmap\", , \"enrichR\",\n",
    "         \"presto\", \"patchwork\", \"ggpmisc\", \"ggrepel\", \"broom\", \"viridis\")\n",
    "lapply(vlib, require, character.only = TRUE, quietly = TRUE) |> suppressMessages()\n",
    "\n",
    "base_dir = \".\"\n",
    "setwd(base_dir)\n",
    "\n",
    "saveRDS.gz <- function(object, file, threads = 4) {\n",
    "  con <- pipe(paste0(\"pigz -p\", threads, \" > \", file), \"wb\")\n",
    "  saveRDS(object, file = con)\n",
    "  close(con)\n",
    "}\n",
    "readRDS.gz <- function(file, threads = parallel::detectCores()) {\n",
    "  con <- pipe(paste0(\"pigz -d -c -p\", threads, \" \", file))\n",
    "  object <- readRDS(file = con)\n",
    "  close(con)\n",
    "  return(object)\n",
    "}"
   ]
  },
  {
   "cell_type": "markdown",
   "metadata": {},
   "source": [
    "## figure 4J"
   ]
  },
  {
   "cell_type": "code",
   "execution_count": null,
   "metadata": {
    "vscode": {
     "languageId": "r"
    }
   },
   "outputs": [],
   "source": [
    "df_surv = read_delim(\"assets/wgcna/survdata.txt\")"
   ]
  },
  {
   "cell_type": "code",
   "execution_count": null,
   "metadata": {
    "vscode": {
     "languageId": "r"
    }
   },
   "outputs": [],
   "source": [
    "fit = survfit(Surv(PFS, PFS_CENSOR) ~ CD8_brown_binary_ratio, data = df_surv)\n",
    "p1 = ggsurvplot(fit,\n",
    "           pval = TRUE,\n",
    "           palette = c(\"#C65E5A\", \"grey70\"),\n",
    "           legend.labs = c(\"high_BMS\", \"low_BMS\")) +\n",
    "  ggtitle(\"ratio of high-CD8.PFS\")\n",
    "ggsave(\"figure_prep/p_surv_highbrown_CD8_ratio_PFS.pdf\",p1$plot, width = 3.5, height = 4.5, dpi = 300)\n",
    "\n",
    "\n",
    "fit = survfit(Surv(OS, OS_CENSOR) ~ CD8_brown_binary_ratio, data = df_surv)\n",
    "p2 = ggsurvplot(fit,\n",
    "           pval = TRUE,\n",
    "           palette = c(\"#C65E5A\", \"grey70\"),\n",
    "           legend.labs = c(\"high_BMS\", \"low_BMS\")) +\n",
    "  ggtitle(\"ratio of high-CD8.OS\")\n",
    "ggsave(\"figure_prep/p_surv_highbrown_CD8_ratio_OS.pdf\",p2$plot, width = 3.5, height = 4.5, dpi = 300)"
   ]
  },
  {
   "cell_type": "markdown",
   "metadata": {},
   "source": [
    "## supplementary figure S7"
   ]
  },
  {
   "cell_type": "code",
   "execution_count": null,
   "metadata": {
    "vscode": {
     "languageId": "r"
    }
   },
   "outputs": [],
   "source": [
    "fit = survfit(Surv(PFS, PFS_CENSOR) ~ CD8_TEM_binary_ratio, data = df_surv)\n",
    "\n",
    "p1 = ggsurvplot(fit,\n",
    "           pval = TRUE,\n",
    "           risk.table = TRUE,\n",
    "           palette = c(\"#C65E5A\", \"grey70\"),\n",
    "           legend.labs = c(\"high_CD8TEM\", \"low_CD8TEM\")) +\n",
    "  ggtitle(\"ratio of CD8TEM/CD8.PFS\")\n",
    "\n",
    "pdf(\"figure_prep/p_surv_CD8_TEM_PFS.pdf\", width = 5, height = 7)\n",
    "p1; dev.off()\n",
    "\n",
    "fit = survfit(Surv(OS, OS_CENSOR) ~ CD8_TEM_binary_ratio, data = df_surv)\n",
    "\n",
    "p2 = ggsurvplot(fit,\n",
    "           pval = TRUE,\n",
    "           risk.table = TRUE,\n",
    "           palette = c(\"#C65E5A\", \"grey70\"),\n",
    "           legend.labs = c(\"high_CD8TEM\", \"low_CD8TEM\")) +\n",
    "  ggtitle(\"ratio of CD8TEM/CD8.OS\")\n",
    "\n",
    "\n",
    "pdf(\"figure_prep/p_surv_CD8_TEM_OS.pdf\", width = 5, height =7)\n",
    "p2; dev.off()"
   ]
  }
 ],
 "metadata": {
  "language_info": {
   "name": "python"
  }
 },
 "nbformat": 4,
 "nbformat_minor": 2
}
