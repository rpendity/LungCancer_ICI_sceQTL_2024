{
 "cells": [
  {
   "cell_type": "code",
   "execution_count": null,
   "metadata": {
    "vscode": {
     "languageId": "r"
    }
   },
   "outputs": [],
   "source": [
    "vlib = c(\"tidyverse\", \"ggpubr\", \"patchwork\",\"tidyseurat\",\"ggrastr\", \"ggsci\")\n",
    "lapply(vlib, require, character.only = TRUE, quietly = TRUE) |> suppressMessages()\n",
    "\n",
    "if (length(list.files(\"/data/podo\")) == 0) {\n",
    "  base_dir = \"/data/nfs_dell/project_HS/\"\n",
    "} else {\n",
    "  base_dir = \"/data/podo/Projects/project_HS/\"\n",
    "}\n",
    "\n",
    "chr_wd = paste0(base_dir, \"202310-sceqtl_v6/\")\n",
    "setwd(chr_wd)\n",
    "\n",
    "saveRDS.gz <- function(object, file, threads=4) {\n",
    "  con <- pipe(paste0(\"pigz -p\", threads, \" > \", file), \"wb\")\n",
    "  saveRDS(object, file = con)\n",
    "  close(con)\n",
    "}\n",
    "readRDS.gz <- function(file, threads = parallel::detectCores()) {\n",
    "  con <- pipe(paste0(\"pigz -d -c -p\", threads, \" \", file))\n",
    "  object <- readRDS(file = con)\n",
    "  close(con)\n",
    "  return(object)\n",
    "}"
   ]
  },
  {
   "cell_type": "markdown",
   "metadata": {
    "vscode": {
     "languageId": "r"
    }
   },
   "source": [
    "## SF6C"
   ]
  },
  {
   "cell_type": "code",
   "execution_count": null,
   "metadata": {
    "vscode": {
     "languageId": "r"
    }
   },
   "outputs": [],
   "source": [
    "df_ME.aida = read_delim(\"scRNAseq_downstream_scenic/projected_aida.module_kME.txt.gz\", delim = \"\\t\") %>%\n",
    "  filter(cellID %in% df_meta_cd8_aida$cellID) %>%\n",
    "  mutate(data = \"AIDA_CTRL\")\n",
    "df_ME.ref = GetMEs(seurat_obj.ref) %>%\n",
    "  as.data.frame() %>%\n",
    "  rownames_to_column(\"cellID\") %>%\n",
    "  filter(cellID %in% df_meta_cd8_ref$cellID) %>%\n",
    "  mutate(data = \"LungCancer\")"
   ]
  },
  {
   "cell_type": "code",
   "execution_count": null,
   "metadata": {
    "vscode": {
     "languageId": "r"
    }
   },
   "outputs": [],
   "source": [
    "seurat_obj_GSE169246@meta.data %>% distinct(tissue, response, time, regimen)\n",
    "df_meta_cd8_GSE169246  = seurat_obj_GSE169246@meta.data %>%\n",
    "  rownames_to_column(\"cellID\") %>%\n",
    "  filter(predicted.celltype.l1 == \"CD8 T\", tissue == \"blood\", time == \"Pre-treatment\")\n",
    "\n",
    "df_ME.GSE169246 = GetMEs(seurat_obj_GSE169246) %>%\n",
    "  as.data.frame() %>%\n",
    "  rownames_to_column(\"cellID\") %>%\n",
    "  filter(cellID %in% df_meta_cd8_GSE169246$cellID) %>%\n",
    "  mutate(data = \"TNBC\")"
   ]
  },
  {
   "cell_type": "code",
   "execution_count": null,
   "metadata": {
    "vscode": {
     "languageId": "r"
    }
   },
   "outputs": [],
   "source": [
    "seurat_obj_GSE200996 = readRDS.gz(\"scRNA_wgcna_replication/GSE200996/seurat_obj.merged.RDS\")\n",
    "df_meta_add.GSE200996 = read_delim(\"scRNA_wgcna_replication/GSE200996/supplementary_metadata.txt\")"
   ]
  },
  {
   "cell_type": "code",
   "execution_count": null,
   "metadata": {
    "vscode": {
     "languageId": "r"
    }
   },
   "outputs": [],
   "source": [
    "df_meta_cd8_GSE200996  = seurat_obj_GSE200996@meta.data %>%\n",
    "  rownames_to_column(\"cellID\") %>%\n",
    "  left_join(., df_meta_add.GSE200996) %>%\n",
    "  filter(predicted.celltype.l1 == \"CD8 T\", time == \"baseline\")\n",
    "\n",
    "df_ME.GSE200996 = GetMEs(seurat_obj_GSE200996) %>%\n",
    "  as.data.frame() %>%\n",
    "  rownames_to_column(\"cellID\") %>%\n",
    "  filter(cellID %in% df_meta_cd8_GSE200996$cellID) %>%\n",
    "  mutate(data = \"HNSCC\")"
   ]
  },
  {
   "cell_type": "code",
   "execution_count": null,
   "metadata": {
    "vscode": {
     "languageId": "r"
    }
   },
   "outputs": [],
   "source": [
    "p1 = rbind(df_ME.aida, df_ME.ref) %>%\n",
    "  rbind(., df_ME.GSE169246) %>%\n",
    "  rbind(., df_ME.GSE200996) %>%\n",
    "  mutate(\n",
    "    data = factor(data, levels = c(\"AIDA_CTRL\", \"TNBC\", \"HNSCC\", \"LungCancer\")),\n",
    "    projected = ifelse(data == \"LungCancer\", \"our results\", \"projected\")\n",
    "  ) %>%\n",
    "  ggplot(aes(x = data, y = brown)) +\n",
    "  geom_violin(width = 0.85) +\n",
    "  geom_boxplot(width = 0.30, alpha = 0.5, outlier.shape = NA) +\n",
    "  xlab(\"Dataset\") +\n",
    "  ylab(\"Brown module expression in CD8 \") +\n",
    "  facet_grid(~projected, scales = \"free_x\", space = \"free\") +\n",
    "  theme_pubr() +\n",
    "  theme(\n",
    "    axis.title = element_text(size = 15),\n",
    "    axis.text = element_text(size = 13),\n",
    "  )\n",
    "options(repr.plot.width = 5, repr.plot.height = 4, repr.plot.res = 300)\n",
    "p1\n",
    "\n",
    "p1 %>% ggsave(\n",
    "  \"figure_prep/supplementary/sf6C_compareAIDA_CD8.pdf\",\n",
    "  ., height = 4, width = 5, dpi = 300\n",
    ")"
   ]
  },
  {
   "cell_type": "markdown",
   "metadata": {},
   "source": [
    "## SF6B"
   ]
  },
  {
   "cell_type": "code",
   "execution_count": null,
   "metadata": {
    "vscode": {
     "languageId": "r"
    }
   },
   "outputs": [],
   "source": [
    "df_pairwise_test = left_join(df_ME.GSE200996, df_meta_cd8_GSE200996) \n",
    "pairwise.wilcox.test(df_pairwise_test$brown, df_pairwise_test$Patho_Bins, p.adjust.method = \"bonferroni\", correct = FALSE)"
   ]
  },
  {
   "cell_type": "code",
   "execution_count": null,
   "metadata": {
    "vscode": {
     "languageId": "r"
    }
   },
   "outputs": [],
   "source": [
    "options(repr.plot.width = 4, repr.plot.height = 4, repr.plot.res = 300)\n",
    "p_sf6_hnscc = left_join(df_ME.GSE200996, df_meta_cd8_GSE200996) %>%\n",
    "mutate(Patho_Bins = factor(Patho_Bins, levels = c( \"High\",\"Medium\",\"Low\"))) %>%\n",
    "filter(is.na(Patho_Bins) == FALSE) %>%\n",
    "ggplot(aes(x = Patho_Bins, y = brown)) +\n",
    "  geom_violin(width = 0.85) +\n",
    "  geom_boxplot(width = 0.30, alpha = 0.5, outlier.shape = NA) +\n",
    "  stat_compare_means() +\n",
    "  xlab(\"pathological response\") +\n",
    "  ylab(\"GSE200996, CD8 Brown Module\") +\n",
    "  theme_pubr()\n",
    "\n",
    "p_sf6_hnscc %>% ggsave(\n",
    "  \"figure_prep/supplementary/sf6_wgcna_projection_hgcna.pdf\",\n",
    "  ., height = 4, width = 4, dpi = 300\n",
    ")"
   ]
  },
  {
   "cell_type": "code",
   "execution_count": null,
   "metadata": {
    "vscode": {
     "languageId": "r"
    }
   },
   "outputs": [],
   "source": [
    "p2 = read_delim(\"assets/cell_proportion.projected_sets.txt.gz\", delim = \"\\t\") %>%\n",
    "  mutate(CD8_subtype = str_replace(CD8_subtype, \"_\", \" \")) %>%\n",
    "  filter(!CD8_subtype == \"CD8 Proliferating\") %>%\n",
    "  ggplot(aes(x = data, y = n, fill = CD8_subtype)) +\n",
    "    geom_bar(stat = \"identity\", position = \"fill\") +\n",
    "    theme_pubr(x.text.angle = 45, legend = \"right\") +\n",
    "    scale_fill_simpsons()\n",
    "options(repr.plot.width = 4, repr.plot.height = 4, repr.plot.res = 300)\n",
    "p2 %>% ggsave(\n",
    "  \"figure_prep/supplementary/sf6_tem_proportion.pdf\",\n",
    "  ., height = 4, width = 4, dpi = 300\n",
    ")"
   ]
  },
  {
   "cell_type": "code",
   "execution_count": null,
   "metadata": {
    "vscode": {
     "languageId": "r"
    }
   },
   "outputs": [],
   "source": []
  }
 ],
 "metadata": {
  "language_info": {
   "name": "python"
  }
 },
 "nbformat": 4,
 "nbformat_minor": 2
}
