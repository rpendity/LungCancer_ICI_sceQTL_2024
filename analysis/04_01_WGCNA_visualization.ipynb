{
 "cells": [
  {
   "cell_type": "code",
   "execution_count": null,
   "metadata": {
    "vscode": {
     "languageId": "r"
    }
   },
   "outputs": [],
   "source": [
    "vlib = c(\"tidyverse\", \"ggpubr\", \"arrow\", \"ComplexHeatmap\", \"Seurat\",\n",
    "         \"tidyseurat\", \"enrichR\", \"SeuratData\", \"fgsea\", \"msigdbr\",\n",
    "         \"presto\", \"patchwork\", \"ggrepel\", \"hdWGCNA\")\n",
    "lapply(vlib, require, character.only = TRUE, quietly = TRUE) |> suppressMessages()\n",
    "\n",
    "base_dir = \".\"\n",
    "setwd(base_dir)\n",
    "\n",
    "saveRDS.gz <- function(object, file, threads = 4) {\n",
    "  con <- pipe(paste0(\"pigz -p\", threads, \" > \", file), \"wb\")\n",
    "  saveRDS(object, file = con)\n",
    "  close(con)\n",
    "}\n",
    "readRDS.gz <- function(file, threads = parallel::detectCores()) {\n",
    "  con <- pipe(paste0(\"pigz -d -c -p\", threads, \" \", file))\n",
    "  object <- readRDS(file = con)\n",
    "  close(con)\n",
    "  return(object)\n",
    "}"
   ]
  },
  {
   "cell_type": "markdown",
   "metadata": {
    "vscode": {
     "languageId": "r"
    }
   },
   "source": [
    "## figure 4A"
   ]
  },
  {
   "cell_type": "code",
   "execution_count": null,
   "metadata": {
    "vscode": {
     "languageId": "r"
    }
   },
   "outputs": [],
   "source": [
    "df_module = list.files(\"scRNAseq_downstream_scenic/DME_baseline/\", \".txt.gz\", full.names = TRUE)\n",
    "df_module = df_module[!grepl(\"pseudobulk\", df_module)] %>% lapply(read_delim)\n",
    "names(df_module) = c(\"B\", \"CD4\", \"CD8\", \"DC\", \"Mono\", \"NK\", \"Other_T\", \"Other\")\n",
    "c_colors = c(\n",
    "  \"B\" = \"#C0392BFF\",\n",
    "  \"CD4\" = \"#D35400FF\", \n",
    "  \"CD8\" = \"#F39C12FF\",\n",
    "  \"DC\" = \"#27AE60FF\",\n",
    "  \"Mono\" = \"#16A085FF\",\n",
    "  \"NK\" = \"#2980B9FF\",\n",
    "  \"Other\" = \"#8E44ADFF\",\n",
    "  \"Other_T\" = \"#2C3E50FF\"\n",
    ")\n",
    "\n",
    "p_DME = df_module %>% bind_rows(.id = \"cluster_name\") %>%\n",
    "  filter(cluster_name %in% c(\"B\", \"CD4\", \"CD8\", \"NK\", \"Mono\", \"Other_T\")) %>%\n",
    "  arrange(padj) %>%\n",
    "  mutate(label = ifelse(padj < 1e-50,\n",
    "                        paste0(cluster_name, \" \", feature),\n",
    "                        NA)) %>%\n",
    "  filter(group == \"PD\") %>%\n",
    "  mutate(feature = ifelse(padj < 1e-5, feature, NA)) %>%\n",
    "  ggplot(aes(y = -log10(padj), x = logFC)) +\n",
    "  geom_point(aes(color = cluster_name), size = 2.5, shape = 16) +\n",
    "  geom_text_repel(aes(label = label)) +\n",
    "  xlim(c(-2, 2)) +\n",
    "  xlab(\"estimate on PD\") +\n",
    "  ylab(\"-log10(adjusted pval)\") +\n",
    "  theme_pubr(legend = 'right') +\n",
    "  scale_color_manual(values = c_colors)\n",
    "\n",
    "p_DME %>%\n",
    "  ggsave(\"./figure_prep/p_DME_volcano.pdf\", ., width = 4, height = 3, dpi = 300)"
   ]
  },
  {
   "cell_type": "markdown",
   "metadata": {},
   "source": [
    "## figure 3B"
   ]
  },
  {
   "cell_type": "code",
   "execution_count": null,
   "metadata": {
    "vscode": {
     "languageId": "r"
    }
   },
   "outputs": [],
   "source": [
    "# gsea analysis\n",
    "library(fgsea)\n",
    "library(msigdbr)\n",
    "m_df = msigdbr(species = \"Homo sapiens\", category = \"H\") \n",
    "fgsea_sets =  m_df %>% split(x = .$gene_symbol, f = .$gs_name)\n",
    "\n",
    "df_gsea_res = read_delim(\"assets/wgcna/module_gene_scored.CD8.RNA.txt.gz\")\n",
    "  filter(color == \"brown\") %>%\n",
    "  select(gene_name, value) %>%\n",
    "  deframe() %>%\n",
    "  fgsea(fgsea_sets, ., scoreType = \"pos\") \n",
    "\n",
    "df_gsea_res_forPlot = df_gsea_res %>%\n",
    "  arrange(padj) %>%\n",
    "  top_n(n = 10, -pval) %>%\n",
    "  mutate(pathway = str_to_sentence(str_sub(pathway, 10, -1))) %>%\n",
    "  mutate(pathway = str_replace_all(pathway, \"_\", \" \"),\n",
    "         name = c_cluster) %>%\n",
    "  mutate(pathway = factor(pathway, levels = rev(unique(.$pathway))),\n",
    "         color_size = ifelse(padj > 0.05, NA, size))\n",
    "\n",
    "pGSEA_each = df_gsea_res_forPlot %>%\n",
    "  mutate(name = paste0(\"CD8_\", c_module)) %>%\n",
    "  ggplot(aes(x =  NES, size = -log10(padj), y = pathway, color = color_size)) +\n",
    "  geom_point() + scale_color_gradient2(low =\"#BCE4D8\",\n",
    "                                       mid = \"#3E9AB4\",\n",
    "                                       high = \"#2C5985\",\n",
    "                                       midpoint = 20,\n",
    "                                       na.value = \"grey70\") +\n",
    "  theme_pubr(legend = \"right\") +\n",
    "  facet_wrap(~name) +\n",
    "  theme(strip.background = element_rect(fill= NA, linewidth = 1),\n",
    "        strip.text = element_text(size = 13)) +\n",
    "  scale_x_continuous(limits = c(1, 2.5), breaks = c(1, 2.0))\n",
    "\n",
    "fname_out = paste0(\"figure_prep/p_DME_CD8_\", c_module, \"_gsea.pdf\")\n",
    "options(repr.plot.width = 7, repr.plot.height = 5, repr.plot.res = 150)\n",
    "pGSEA_each\n",
    "pGSEA_each %>% ggsave(fname_out, ., width = 18, height = 8, units = \"cm\", dpi = 300)"
   ]
  },
  {
   "cell_type": "code",
   "execution_count": null,
   "metadata": {
    "vscode": {
     "languageId": "r"
    }
   },
   "outputs": [],
   "source": [
    "pModuleExprs_byCondition = read_delim(\"assets/wgcna/CD8_MEs.txt.gz\", delim = \"\\t\") %>%\n",
    "  mutate(time = ifelse(time == \"base\", \"baseline\", \"treatment\")) %>%\n",
    "  mutate(group = factor(paste(Response, time), levels = c(\"PR baseline\", \"PD baseline\", \"PR treatment\", \"PD treatment\")),\n",
    "         grid_name = \"CD8 brown\") %>%\n",
    "  ggplot(aes(x = group, y = get(c_module))) +\n",
    "  xlab(\"group\") + ylab('module expression') +\n",
    "  theme_pubr(x.text.angle = 45) +\n",
    "  geom_violin(aes(fill = group)) +\n",
    "  geom_boxplot(width = 0.50, alpha = 0.5, outliers = FALSE) +\n",
    "  facet_wrap(~grid_name) +\n",
    "  scale_fill_manual(values = c(\"grey90\", \"#E0958C\", \"grey70\", \"#C65E5A\")) +\n",
    "  theme(strip.background = element_rect(fill= NA, linewidth = 1),\n",
    "        strip.text = element_text(size = 13))\n",
    "options(repr.plot.width = 4, repr.plot.height = 5, repr.plot.res = 150)\n",
    "pModuleExprs_byCondition\n",
    "pModuleExprs_byCondition %>%\n",
    "  ggsave(\"figure_prep/p_DME_byCondition.pdf\", ., width = 7,\n",
    "         height = 10, dpi = 300, units = \"cm\")"
   ]
  },
  {
   "cell_type": "code",
   "execution_count": null,
   "metadata": {
    "vscode": {
     "languageId": "r"
    }
   },
   "outputs": [],
   "source": []
  }
 ],
 "metadata": {
  "language_info": {
   "name": "python"
  }
 },
 "nbformat": 4,
 "nbformat_minor": 2
}
