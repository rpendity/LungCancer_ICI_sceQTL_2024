{
 "cells": [
  {
   "cell_type": "code",
   "execution_count": null,
   "metadata": {
    "vscode": {
     "languageId": "r"
    }
   },
   "outputs": [],
   "source": [
    "# use R with following packages.\n",
    "vlib = c(\"tidyverse\", \"arrow\", \"coloc\", \"ggpubr\", \"locuszoomr\",\n",
    "         \"ggsci\", \"AnnotationHub\", \"patchwork\", \"pheatmap\")\n",
    "lapply(vlib, require, character.only = TRUE, quietly = TRUE) |> suppressMessages()\n",
    "\n",
    "\n",
    "base_dir = \".\"\n",
    "setwd(base_dir)\n",
    "\n",
    "df_meta = read_delim(\"assets/file_meta.txt\",\n",
    "                     col_names = c(\"levels\", \"time\", \"cluster_name\")) %>%\n",
    "  mutate(prefix_file = paste0(levels, \"_\", time, \"_\", cluster_name))"
   ]
  },
  {
   "cell_type": "code",
   "execution_count": null,
   "metadata": {
    "vscode": {
     "languageId": "r"
    }
   },
   "outputs": [],
   "source": [
    "df_meta_target = df_meta %>%\n",
    "  mutate(coloc_asthma = paste0(\"assets/fine_mapping/asthma/\", prefix_file, \".coloc_abf.summary.txt.gz\"),\n",
    "         coloc_uc = paste0(\"assets/fine_mapping/IBD/\", prefix_file, \".coloc_abf.summary.txt.gz\"),\n",
    "         coloc_cd = paste0(\"assets/fine_mapping/crohn/\", prefix_file, \".coloc_abf.summary.txt.gz\"),\n",
    "         coloc_blood = paste0(\"assets/fine_mapping/blood_traits/\", prefix_file, \".coloc_abf.summary.txt.gz\"),\n",
    "         coloc_lc = paste0(\"assets/fine_mapping/LC_gwas/\", prefix_file, \".coloc_abf.summary.txt.gz\"),\n",
    "         coloc_chip = paste0(\"assets/fine_mapping/CHIP_GWAS/\", prefix_file, \".coloc_abf.summary.txt.gz\"),\n",
    "         coloc_t1d = paste0(\"assets/fine_mapping/t1d/\", prefix_file, \".coloc_abf.summary.txt.gz\"),\n",
    "         coloc_sle = paste0(\"assets/fine_mapping/sle/\", prefix_file, \".coloc_abf.summary.txt.gz\"),\n",
    "         coloc_ra = paste0(\"assets/fine_mapping/ra/\", prefix_file, \".coloc_abf.summary.txt.gz\"))\n"
   ]
  },
  {
   "cell_type": "code",
   "execution_count": null,
   "metadata": {
    "vscode": {
     "languageId": "r"
    }
   },
   "outputs": [],
   "source": [
    "collapse_coloc = function(c_fname_coloc_out, df_metadata) {\n",
    "  df_res =  lapply(c_fname_coloc_out, read_delim) %>% bind_rows() %>% rename(prefix_file = prefix) %>%\n",
    "    left_join(df_meta_target) %>% filter(PP.H4.abf >= 0.6) %>%\n",
    "    select(prefix_file, time, cluster_name, PP.H3.abf, PP.H4.abf, phenotype_id)\n",
    "  return(df_res)\n",
    "}"
   ]
  },
  {
   "cell_type": "code",
   "execution_count": null,
   "metadata": {
    "vscode": {
     "languageId": "r"
    }
   },
   "outputs": [],
   "source": [
    "list_coloc = vector(mode = \"list\", length = 9L)\n",
    "\n",
    "list_coloc$asthma = collapse_coloc(df_meta_target$coloc_asthma, df_metadata)\n",
    "list_coloc$uc = collapse_coloc(df_meta_target$coloc_uc, df_metadata)\n",
    "list_coloc$cd = collapse_coloc(df_meta_target$coloc_cd, df_metadata)\n",
    "list_coloc$blood = collapse_coloc(df_meta_target$coloc_blood, df_metadata)\n",
    "list_coloc$lc = collapse_coloc(df_meta_target$coloc_lc, df_metadata)\n",
    "list_coloc$chip = collapse_coloc(df_meta_target$coloc_chip, df_metadata)\n",
    "list_coloc$t1d = collapse_coloc(df_meta_target$coloc_t1d, df_metadata)\n",
    "list_coloc$sle = collapse_coloc(df_meta_target$coloc_sle, df_metadata)\n",
    "list_coloc$ra = collapse_coloc(df_meta_target$coloc_ra, df_metadata)"
   ]
  },
  {
   "cell_type": "code",
   "execution_count": null,
   "metadata": {
    "vscode": {
     "languageId": "r"
    }
   },
   "outputs": [],
   "source": [
    "df_map_cis = read_delim(\"02_mashr/joined_all_results.txt.gz\", delim = \"\\t\")"
   ]
  },
  {
   "cell_type": "code",
   "execution_count": null,
   "metadata": {
    "vscode": {
     "languageId": "r"
    }
   },
   "outputs": [],
   "source": [
    "p_coloc = list_coloc %>%\n",
    "  bind_rows(.id = \"trait\") %>%\n",
    "  mutate(trait = factor(trait,\n",
    "                        levels = rev(c(\"blood\", \"chip\", \"asthma\", \"uc\", \"cd\", \"sle\", \"lc\", \"ra\", \"t1d\"))),\n",
    "         time = ifelse(time == \"base\", \"before\", \"after\"),\n",
    "         time = factor(time, levels = c(\"before\", \"after\"))) %>%\n",
    "  group_by(time, cluster_name, trait) %>%\n",
    "  summarise(n = n()) %>%\n",
    "  ggplot(aes(x = cluster_name, y = trait, fill = n)) +\n",
    "  geom_tile() +\n",
    "  geom_text(aes(label = n), color = \"grey10\") +\n",
    "  scale_fill_gradient2(low = \"white\", high = \"#B23121\", midpoint = 0) +\n",
    "  theme_pubr(x.text.angle = 90) +\n",
    "  xlab(\"eQTL cluster\") +\n",
    "  ylab(\"GWAS Traits\") +\n",
    "  facet_wrap(~time) +\n",
    "  theme(axis.title.x = element_text(size = 14),\n",
    "        axis.text.x = element_text(vjust = 0.5),\n",
    "        axis.title.y = element_text(size = 14),\n",
    "        axis.line.x = element_blank(),\n",
    "        axis.line.y = element_blank(),\n",
    "        strip.background = element_rect(fill = \"white\", linewidth = 1),\n",
    "        strip.text = element_text(size = 12),\n",
    "        panel.background = element_rect(fill = \"white\", colour = \"black\", linewidth = 1),\n",
    "  )\n",
    "\n",
    "p_coloc\n",
    "p_coloc %>% ggsave(\"assets/figure_prep/p_coloc.pdf\", ., width = 15, height = 12, dpi = 400, units = \"cm\")"
   ]
  },
  {
   "cell_type": "code",
   "execution_count": null,
   "metadata": {
    "vscode": {
     "languageId": "r"
    }
   },
   "outputs": [],
   "source": [
    "df_coloc_meta = list_coloc %>%\n",
    "  bind_rows(.id = \"trait\") %>%\n",
    "  mutate(prefix_coloc_list = paste(sep = \"-\", trait, prefix_file, phenotype_id)) %>%\n",
    "  mutate(\n",
    "    # ugly modifiers.\n",
    "    trait_folder = ifelse(trait == \"uc\", \"IBD\", trait),\n",
    "    trait_folder = ifelse(trait_folder == \"lc\", \"LC_gwas\", trait_folder),\n",
    "    trait_folder = ifelse(trait_folder == \"cd\", \"crohn\", trait_folder),\n",
    "    trait_folder = ifelse(trait_folder == \"chip\", \"CHIP_GWAS\", trait_folder),\n",
    "    trait_folder = ifelse(trait_folder == \"blood\", \"blood_traits\", trait_folder),\n",
    "  ) %>%\n",
    "  mutate(candidate_coloc = paste0(\"assets/fine_mapping/\", trait_folder, \"/coloc_significant/\",\n",
    "    prefix_file, \"_\", phenotype_id, \"_df_coloc.txt.gz\"\n",
    "  ))"
   ]
  },
  {
   "cell_type": "code",
   "execution_count": null,
   "metadata": {
    "vscode": {
     "languageId": "r"
    }
   },
   "outputs": [],
   "source": [
    "list_candidate_coloc = lapply(df_coloc_meta$candidate_coloc, read_delim)\n",
    "names(list_candidate_coloc) = df_coloc_meta$prefix_coloc_list"
   ]
  },
  {
   "cell_type": "code",
   "execution_count": null,
   "metadata": {
    "vscode": {
     "languageId": "r"
    }
   },
   "outputs": [],
   "source": [
    "test_variant = read_delim(\"assets/fine_mapping/ccre/rsid_anno/all_possible_variants.vep.txt\", skip = 44) %>%\n",
    "  select(1,2,13) %>%\n",
    "  distinct()\n",
    "test_variant %>% \n",
    "  write_delim(\"assets/fine_mapping/ccre/rsid_anno/all_possible_variants.vep.parsed.txt.gz\", delim = \"\\t\")\n",
    "test_variant = read_delim(\"assets/fine_mapping/ccre/rsid_anno/all_possible_variants.vep.parsed.txt.gz\")\n",
    "colnames(test_variant) = c(\"eqtl_name\", \"location\", \"rsid\")"
   ]
  },
  {
   "cell_type": "code",
   "execution_count": null,
   "metadata": {
    "vscode": {
     "languageId": "r"
    }
   },
   "outputs": [],
   "source": [
    "# each_pipeline\n",
    "idx = 7\n",
    "df_candidate = list_candidate_coloc[[idx]] %>%\n",
    "    mutate(eqtl_name = paste(sep = \":\", chr, pos, A1, A2)) %>%\n",
    "    dplyr::select(-rsid, -ALT, -REF) %>%\n",
    "    mutate(chr = str_sub(chr, 4, -1)) %>%\n",
    "    left_join(test_variant) %>%\n",
    "    separate(rsid, sep = \",\", into = c(\"rsid\", \"discard\"), remove = FALSE) %>%\n",
    "    dplyr::select(-discard) %>%\n",
    "    mutate(rsid = ifelse(grepl(\"COSV|-|CR\", rsid), NA, rsid)) %>%\n",
    "    as.data.frame()\n",
    "c_eQTL_topSNP = df_map_cis %>% dplyr::filter(phenotype_id == \"GSDMB\") %>% distinct(variant_id) %>% pull()\n",
    "c_index_snp = df_candidate %>% dplyr::filter(eqtl_name == c_eQTL_topSNP) %>% pull(rsid)"
   ]
  },
  {
   "cell_type": "code",
   "execution_count": null,
   "metadata": {
    "vscode": {
     "languageId": "r"
    }
   },
   "outputs": [],
   "source": [
    "df_candidate %>% dplyr::filter(eqtl_name == c_eQTL_topSNP)"
   ]
  },
  {
   "cell_type": "code",
   "execution_count": null,
   "metadata": {
    "vscode": {
     "languageId": "r"
    }
   },
   "outputs": [],
   "source": [
    "for (idx in seq_along(list_candidate_coloc)){\n",
    "  df_candidate =  list_candidate_coloc[[idx]] %>%\n",
    "    mutate(eqtl_name = paste(sep = \":\", chr, pos, A1, A2)) %>%\n",
    "    dplyr::select(-rsid, -ALT, -REF) %>%\n",
    "    mutate(chr = str_sub(chr, 4, -1)) %>%\n",
    "    left_join(test_variant) %>%\n",
    "    separate(rsid, sep = \",\", into = c(\"rsid\", \"discard\"), remove = FALSE) %>%\n",
    "    dplyr::select(-discard) %>%\n",
    "    mutate(rsid = ifelse(grepl(\"COSV|-|CR\", rsid), NA, rsid)) %>%\n",
    "    as.data.frame()\n",
    "\n",
    "  c_index_snps = df_candidate %>%\n",
    "    top_n(n = 1, -pval_eqtl) %>%\n",
    "    top_n(n = 1, -pval) %>%\n",
    "    pull(rsid)\n",
    "  \n",
    "  print(c_index_snps)\n",
    "  index_snp = c_index_snps[1]\n",
    "  if (require(AnnotationHub)) {\n",
    "    ah = AnnotationHub()\n",
    "    ensDb = ah[[\"AH116291\"]]\n",
    "  }\n",
    "\n",
    "  if (grepl(\"rs\", index_snp) == TRUE){\n",
    "    loc_gwas <- locus(data = df_candidate,\n",
    "                    chrom = \"chr\",\n",
    "                    pos = \"pos\",\n",
    "                    p = \"pval\",\n",
    "                    labs = \"rsid\",\n",
    "                    gene = df_coloc_meta$phenotype_id[idx], flank = 2e5,\n",
    "                    ens_db = ensDb)\n",
    "    loc_gwas <- link_LD(loc_gwas, token = \"35e4b28160c6\")\n",
    "\n",
    "    loc_eqtl <- locus(data = df_candidate,\n",
    "                      chrom = \"chr\",\n",
    "                      pos = \"pos\",\n",
    "                      p = \"pval_eqtl\",\n",
    "                      labs = \"rsid\",\n",
    "                      gene = df_coloc_meta$phenotype_id[idx], flank = 2e5,\n",
    "                      ens_db = ensDb)\n",
    "    loc_eqtl$data$ld = loc_gwas$data$ld\n",
    "\n",
    "    p1 = gg_scatter(loc_gwas, index_snp = index_snp, lab = \"index\", nudge_x = 0.05)\n",
    "    p2 = gg_scatter(loc_eqtl, index_snp = index_snp, lab = \"index\")\n",
    "  } else {\n",
    "    loc_gwas <- locus(data = df_candidate,\n",
    "                    chrom = \"chr\",\n",
    "                    pos = \"pos\",\n",
    "                    p = \"pval\",\n",
    "                    labs = \"eqtl_name\",\n",
    "                    gene = df_coloc_meta$phenotype_id[idx], flank = 2e5,\n",
    "                    ens_db = ensDb)\n",
    "    loc_eqtl <- locus(data = df_candidate,\n",
    "                      chrom = \"chr\",\n",
    "                      pos = \"pos\",\n",
    "                      p = \"pval_eqtl\",\n",
    "                      labs = \"eqtl_name\",\n",
    "                      gene = df_coloc_meta$phenotype_id[idx], flank = 2e5,\n",
    "                      ens_db = ensDb)\n",
    "    p1 = gg_scatter(loc_gwas, lab = \"index\", nudge_x = 0.05)\n",
    "    p2 = gg_scatter(loc_eqtl, lab = \"index\")\n",
    "  }\n",
    "\n",
    "  pgene = gg_genetracks(loc_gwas)\n",
    "  patchwork = wrap_plots(p1, p2, pgene, ncol = 1, heights = c(2, 2, 1)) +\n",
    "    plot_annotation(\n",
    "      title = names(list_candidate_coloc)[idx],\n",
    "      subtitle = paste0(\"PP.H4 = \", format(df_coloc_meta$PP.H4.abf[idx], digits = 3),\n",
    "        \", Min. P_gwas = \", format(min(df_candidate$pval), digits = 3),\n",
    "        \", Min. P_eqtl = \", format(min(df_candidate$pval_eqtl), digits = 3)\n",
    "      )\n",
    "    )\n",
    "  ggsave(paste0(\"figure_prep/visualization_coloc/\", names(list_candidate_coloc)[idx], \".pdf\"),\n",
    "         patchwork, width = 18, height = 24, units = \"cm\", dpi = 300)\n",
    "}"
   ]
  }
 ],
 "metadata": {
  "language_info": {
   "name": "python"
  }
 },
 "nbformat": 4,
 "nbformat_minor": 2
}
