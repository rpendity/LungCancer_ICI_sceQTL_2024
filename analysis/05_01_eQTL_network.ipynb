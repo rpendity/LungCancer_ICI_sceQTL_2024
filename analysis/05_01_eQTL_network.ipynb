{
 "cells": [
  {
   "cell_type": "code",
   "execution_count": null,
   "metadata": {
    "vscode": {
     "languageId": "r"
    }
   },
   "outputs": [],
   "source": [
    "vlib = c(\"tidyverse\", \"ggpubr\", \"patchwork\", \"ggsci\", \"viridis\",\n",
    "         \"enrichR\", \"survival\", \"survminer\", \"arrow\", \"ggpmisc\")\n",
    "lapply(vlib, require, character.only = TRUE, quietly = TRUE) |> suppressMessages()\n",
    "\n",
    "base_dir = \".\"\n",
    "\n",
    "setwd(base_dir)\n",
    "\n",
    "saveRDS.gz <- function(object, file, threads=4) {\n",
    "  con <- pipe(paste0(\"pigz -p\", threads, \" > \", file), \"wb\")\n",
    "  saveRDS(object, file = con)\n",
    "  close(con)\n",
    "}\n",
    "readRDS.gz <- function(file, threads = parallel::detectCores()) {\n",
    "  con <- pipe(paste0(\"pigz -d -c -p\", threads, \" \", file))\n",
    "  object <- readRDS(file = con)\n",
    "  close(con)\n",
    "  return(object)\n",
    "}\n",
    "\n",
    "df_meta_target = read_delim(\"analysis/assets/file_meta.txt\",\n",
    "                     col_names = c(\"levels\", \"time\", \"cluster_name\")) %>% \n",
    "                     mutate(prefix_file = paste0(levels, \"_\", time, \"_\", cluster_name))"
   ]
  },
  {
   "cell_type": "code",
   "execution_count": null,
   "metadata": {
    "vscode": {
     "languageId": "r"
    }
   },
   "outputs": [],
   "source": [
    "path_map_cis = \"mashr_intra_eqtl/joined_all_results.txt.gz\"\n",
    "path_adj_mtx = \"scRNA_GRN_scenic/adj.csv\"\n",
    "path_compare_studies = \"compare_studies/unique_eGenes.txt.gz\"\n",
    "path_gene_modulescore = \"scRNAseq_downstream_scenic/module_gene_scored.CD8RNA.txt.gz\"\n",
    "df_map_cis = read_delim(path_map_cis, show_col_types = FALSE)\n",
    "df_adj_mtx = read_delim(path_adj_mtx, show_col_types = FALSE)\n",
    "df_gene_modulescore = read_delim(path_gene_modulescore, show_col_types = FALSE)\n",
    "df_compare_studies = read_delim(path_compare_studies, show_col_types = FALSE)"
   ]
  },
  {
   "cell_type": "code",
   "execution_count": null,
   "metadata": {
    "vscode": {
     "languageId": "r"
    }
   },
   "outputs": [],
   "source": [
    "# all_data_prep\n",
    "\n",
    "df_rss = read_delim(\"scRNA_GRN_scenic/rss_celltype.txt.gz\") %>%\n",
    "  rename(regulon_name = `...1`) %>%\n",
    "  pivot_longer(cols = 2:ncol(.)) %>%\n",
    "  filter(value > 0.30) %>%\n",
    "  mutate(regulon_name = str_replace(regulon_name, \"\\\\(\\\\+\\\\)\" , \"\"))\n",
    "\n",
    "df_adj_mtx_all = left_join(df_rss, df_adj_mtx, by = c(\"regulon_name\" = \"TF\")) %>%\n",
    "  select(-value) %>%\n",
    "  group_by(name, regulon_name) %>%\n",
    "  mutate(rank_importance = rank(importance) / n())\n",
    "\n",
    "df_map_cis_all = df_map_cis %>%\n",
    "  group_by(phenotype_id, condition) %>%\n",
    "  select(phenotype_id, condition, lfsr, PosteriorMean, PosteriorSD) %>%\n",
    "  top_n(-lfsr, n = 1) %>%\n",
    "  mutate(eGene = ifelse(lfsr < 0.05, \"eGene\", \"not eGene\")) %>%\n",
    "  left_join(df_meta_target, by = c(\"condition\" = \"prefix_file\")) %>%\n",
    "  mutate(condition = str_sub(condition, 9, -1)) %>%\n",
    "  mutate(condition = ifelse(grepl(\"1st\", condition),\n",
    "    paste0(\"treatment_\", cluster_name),\n",
    "    paste0(\"baseline_\", cluster_name)\n",
    "  )\n",
    "  )\n",
    "\n",
    "df_forplot_all = left_join(\n",
    "  df_adj_mtx_all,\n",
    "  df_map_cis_all,\n",
    "  by = c(\"name\" = \"cluster_name\", \"target\" = \"phenotype_id\")\n",
    ") %>%\n",
    "  na.omit()"
   ]
  },
  {
   "cell_type": "code",
   "execution_count": null,
   "metadata": {
    "vscode": {
     "languageId": "r"
    }
   },
   "outputs": [],
   "source": [
    "# filtering module\n",
    "c_cluster = c(\"CD8\")\n",
    "c_regulon = c(\"TBX21\")\n",
    "c_module = c(\"brown\")\n",
    "\n",
    "c_specific_regulon = df_rss %>% filter(name == c_cluster) %>% pull(regulon_name)\n",
    "\n",
    "df_adj_mtx_filtered = df_adj_mtx %>%\n",
    "  filter(TF %in% c_regulon) %>%\n",
    "  group_by(TF) %>%\n",
    "  mutate(rank_importance = rank(importance) / n())\n",
    "\n",
    "df_map_cis_filtered = df_map_cis_all %>%\n",
    "  dplyr::filter(grepl(c_cluster, condition))\n",
    "\n",
    "df_gene_modulescore_filtered = df_gene_modulescore %>%\n",
    "  filter(color %in% c_module) %>%\n",
    "  group_by(color) %>%\n",
    "  mutate(rank_module = rank(value) / n())\n",
    "\n",
    "df_joinned_forPlot = full_join(\n",
    "  df_adj_mtx_filtered,\n",
    "  df_gene_modulescore_filtered,\n",
    "  by = c(\"target\" = \"gene_name\")\n",
    ") %>%\n",
    "  select(target, TF, importance, rank_importance, color, value, rank_module) %>%\n",
    "  rename(phenotype_id = target)\n",
    "\n",
    "df_joinned_forPlot %>% head()"
   ]
  },
  {
   "cell_type": "code",
   "execution_count": null,
   "metadata": {
    "vscode": {
     "languageId": "r"
    }
   },
   "outputs": [],
   "source": [
    "df_gene_modulescore_filtered = df_gene_modulescore %>%\n",
    "  group_by(color) %>%\n",
    "  mutate(rank_module = rank(value) / n())\n",
    "\n",
    "df_joinned_forPlot = full_join(\n",
    "  df_adj_mtx_filtered,\n",
    "  df_gene_modulescore_filtered,\n",
    "  by = c(\"target\" = \"gene_name\")\n",
    ") %>%\n",
    "  select(target, TF, importance, rank_importance, color, value, rank_module) %>%\n",
    "  rename(phenotype_id = target)\n"
   ]
  },
  {
   "cell_type": "markdown",
   "metadata": {},
   "source": [
    "### figure 5A"
   ]
  },
  {
   "cell_type": "code",
   "execution_count": null,
   "metadata": {
    "vscode": {
     "languageId": "r"
    }
   },
   "outputs": [],
   "source": [
    "df_joined_forPlot_Ours = left_join(\n",
    "  df_joinned_forPlot,\n",
    "  df_map_cis_filtered,\n",
    "  by = \"phenotype_id\"\n",
    ") %>%\n",
    "  filter(!is.na(condition))\n",
    "\n",
    "p5a = df_joined_forPlot_Ours %>%\n",
    "  ggplot(aes(x = eGene, y = rank_module)) +\n",
    "  #ggplot(aes(x = eGene, y = importance)) +\n",
    "  facet_wrap(~condition) +\n",
    "  geom_violin(aes(fill = eGene), width = 0.60, color = \"#FFFFFF\") +\n",
    "  geom_boxplot(width = 0.25, alpha = 0.95) +\n",
    "  stat_compare_means(\n",
    "     hjust = -0.5,\n",
    "     aes(label = paste0(\"p = \", after_stat(p.format)))\n",
    "  ) +\n",
    "  ggtitle(\"A\") +\n",
    "  ylab(\"Rank in module\") +\n",
    "  scale_fill_manual(values = c(\"#708be9a4\", \"grey90\")) +\n",
    "  scale_y_continuous(breaks = c(0, 0.5, 1)) +\n",
    "  theme_pubr(legend = \"none\") +\n",
    "  theme(\n",
    "    axis.title = element_text(size = 15),\n",
    "    axis.text = element_text(size = 12.5),\n",
    "    strip.text = element_text(size = 14),\n",
    "    strip.background = element_rect(fill = NA)\n",
    "  )\n"
   ]
  },
  {
   "cell_type": "code",
   "execution_count": null,
   "metadata": {
    "vscode": {
     "languageId": "r"
    }
   },
   "outputs": [],
   "source": [
    "list_onek1k = list.files(\n",
    "  \"correlation_mapping_onek1k/eqtl_table/\",\n",
    "  \"eqtl_table.parquet\",\n",
    "  full.names = T)\n",
    "list_onek1k = lapply(list_onek1k, read_parquet)\n",
    "names(list_onek1k) = c(\"CD4_TEM\", \n",
    "                             \"CD4_Naive\", \n",
    "                             \"CD4_SOX4\",\n",
    "                             \"CD8_TEM\",\n",
    "                             \"CD8_Naive_TCM\",\n",
    "                             \"CD8_S100B_T\",\n",
    "                             \"Classic_Mono\",\n",
    "                             \"DC\",\n",
    "                             \"Memory_B\",\n",
    "                             \"Naive_B\",\n",
    "                             \"NK\",\n",
    "                             \"NK_recruiting\",\n",
    "                             \"Nonclassic_Mono\",\n",
    "                             \"Plasma\")\n",
    "df_onek1k = list_onek1k %>% \n",
    "  bind_rows(.id = \"cluster\") %>% \n",
    "  #filter(FDR < 0.05) %>% \n",
    "  ungroup() %>% \n",
    "  distinct(GENE, cluster, .keep_all = TRUE)\n",
    "\n",
    "df_onek1k = df_onek1k %>% \n",
    "  mutate(onek1k_significance = ifelse(FDR < 0.05, \"eGene\", \"non-eGene\")) %>%\n",
    "  select(GENE, cluster, onek1k_significance, FDR) %>%\n",
    "  dplyr::rename(phenotype_id = GENE, onek1k_fdr = FDR, onek1k_cluster = cluster)\n",
    "\n",
    "  df_onek1k_cd8 = df_onek1k %>%\n",
    "  filter(grepl(\"CD8\", onek1k_cluster)) "
   ]
  },
  {
   "cell_type": "code",
   "execution_count": null,
   "metadata": {
    "vscode": {
     "languageId": "r"
    }
   },
   "outputs": [],
   "source": [
    "df_joined_forPlot_onek1k = left_join(df_joinned_forPlot, df_onek1k_cd8, by = \"phenotype_id\") %>%\n",
    "  filter(!is.na(onek1k_significance)) %>%\n",
    "  rename(eGene = onek1k_significance)\n",
    "#df_joined_forPlot_onek1k"
   ]
  },
  {
   "cell_type": "markdown",
   "metadata": {},
   "source": [
    "### figure 5B"
   ]
  },
  {
   "cell_type": "code",
   "execution_count": null,
   "metadata": {
    "vscode": {
     "languageId": "r"
    }
   },
   "outputs": [],
   "source": [
    "options(repr.plot.height = 4, repr.plot.width = 9, repr.plot.res = 200)\n",
    "p5_11k = df_joined_forPlot_onek1k %>%\n",
    "  ggplot(aes(x = eGene, y = rank_module)) +\n",
    "  #ggplot(aes(x = eGene, y = importance)) +\n",
    "  facet_wrap(~onek1k_cluster) +\n",
    "  geom_violin(aes(fill = eGene), width = 0.60, color = \"#FFFFFF\") +\n",
    "  geom_boxplot(width = 0.25, alpha = 0.95) +\n",
    "  stat_compare_means(\n",
    "     hjust = -0.5,\n",
    "     aes(label = paste0(\"P = \", after_stat(p.format)))\n",
    "  ) +\n",
    "  ggtitle(\"C\") +\n",
    "  ylab(\"Rank in module\") +\n",
    "  scale_fill_manual(values = c(\"#708be9a4\", \"grey90\")) +\n",
    "  scale_y_continuous(breaks = c(0, 0.5, 1)) +\n",
    "  theme_pubr(legend = \"none\") +\n",
    "  theme(\n",
    "    axis.title = element_text(size = 15),\n",
    "    axis.text = element_text(size = 12.5),\n",
    "    strip.text = element_text(size = 14),\n",
    "    strip.background = element_rect(fill = NA)\n",
    "  )\n",
    "ggsave(\"figure_prep/pRank_onek1k_eQTLeffect_estimate.pdf\",  p5_11k, width = 8.5, height = 3.75)"
   ]
  },
  {
   "cell_type": "markdown",
   "metadata": {},
   "source": [
    "### figure 5C"
   ]
  },
  {
   "cell_type": "code",
   "execution_count": null,
   "metadata": {
    "vscode": {
     "languageId": "r"
    }
   },
   "outputs": [],
   "source": [
    "options(repr.plot.height = 4, repr.plot.width = 6, repr.plot.res = 200)\n",
    "pbeta = df_betaDistribution_forPlot_eGene %>%\n",
    "  mutate(rank_decile = as.factor(rank_decile)) %>%\n",
    "  ggplot(aes(x = rank_module * 10, y = log2(abs(PosteriorMean)))) +\n",
    "  #geom_jitter(\n",
    "  #  data = df_betaDistribution_forPlot_noteGene,\n",
    "  #  aes(x = rank_decile),\n",
    "  #  color = \"grey60\", shape = 16, alpha = 0.4\n",
    "#  ) +\n",
    "  stat_poly_eq(\n",
    "    formula = (x) / 10 ~ y,\n",
    "    aes(\n",
    "      label = paste(\n",
    "        after_stat(eq.label), \"P \", format(p.value, 3),\n",
    "        sep = \"*`,`~\"\n",
    "      )\n",
    "    ),\n",
    "    vjust = 0.1,\n",
    "    parse = TRUE\n",
    "  ) +\n",
    "  geom_jitter(\n",
    "    aes(x = rank_decile, color = \"eGene\"),\n",
    "    color = \"#385ee68f\", shape = 16\n",
    "  ) +\n",
    "    scale_x_discrete() +\n",
    "  geom_boxplot(\n",
    "    aes(x = as.factor(rank_decile)),\n",
    "    outlier.shape = NA,\n",
    "    width = 0.75,\n",
    "    alpha = 0.5,\n",
    "    linewidth = 0.5\n",
    "  ) +\n",
    "  geom_smooth(\n",
    "    aes(x = as.numeric(rank_module) * 10 + 0.5, y =  log2(abs(PosteriorMean))),\n",
    "    method = \"lm\",\n",
    "    se = FALSE,\n",
    "    color = \"#ca2f2f\",\n",
    "    linewidth = 0.75,\n",
    "    alpha = 0.8\n",
    "  ) +\n",
    "  facet_wrap(~condition, nrow = 1) +\n",
    "  xlab(\"Decile of module rank\") +\n",
    "  ylab(\"log2 of Absolute effect size\") +\n",
    "  theme_pubr(legend = \"top\") +\n",
    "  theme(\n",
    "    axis.title = element_text(size = 15),\n",
    "    axis.text = element_text(size = 13),\n",
    "    strip.text = element_text(size = 14),\n",
    "    strip.background = element_rect(fill = NA)\n",
    "  )\n"
   ]
  },
  {
   "cell_type": "markdown",
   "metadata": {},
   "source": [
    "### figure 5D"
   ]
  },
  {
   "cell_type": "code",
   "execution_count": null,
   "metadata": {
    "vscode": {
     "languageId": "r"
    }
   },
   "outputs": [],
   "source": [
    "df_map_cis = read_delim(\"joined_all_results.txt.gz\")\n",
    "df_eGene = df_map_cis %>% filter(lfsr < 0.05)\n",
    "c_cluster =\"CD8\"\n",
    "c_eGene = df_eGene %>% filter(grepl(c_cluster, condition)) %>% distinct(phenotype_id) %>% pull()"
   ]
  },
  {
   "cell_type": "code",
   "execution_count": null,
   "metadata": {
    "vscode": {
     "languageId": "r"
    }
   },
   "outputs": [],
   "source": [
    "library(fgsea)\n",
    "library(msigdbr)\n",
    "\n",
    "df_CD8_module_scored = read_delim(\"module_gene_scored.CD8.RNA.txt\")\n",
    "\n",
    "m_df<- msigdbr(species = \"Homo sapiens\", category = \"H\") \n",
    "fgsea_sets<- m_df %>% split(x = .$gene_symbol, f = .$gs_name)\n"
   ]
  },
  {
   "cell_type": "code",
   "execution_count": null,
   "metadata": {
    "vscode": {
     "languageId": "r"
    }
   },
   "outputs": [],
   "source": [
    "res = df_CD8_module_scored %>%\n",
    "  filter(color == \"brown\", gene_name %in% c_eGene) %>%\n",
    "  select(gene_name, value) %>% deframe()\n",
    "df_gsea_res_CD8_egene = fgsea(fgsea_sets, res, scoreType = \"pos\")\n",
    "\n",
    "pgsea_3 = df_gsea_res_CD8_egene %>% arrange(padj) %>% top_n(n = 10, -pval) %>% \n",
    "  mutate(pathway = str_sub(pathway, 10, -1)) %>%\n",
    "  mutate(pathway = str_replace_all(pathway, \"_\", \" \")) %>%\n",
    "  mutate(name = \"CD8\") %>%\n",
    "  mutate(pathway = factor(pathway, levels = rev(unique(.$pathway)))) %>% \n",
    "  mutate(color_size = ifelse(padj > 0.05 , NA, size)) %>%\n",
    "  ggplot(aes(x =  NES, size = -log10(padj), y = pathway, color = color_size)) + \n",
    "  geom_point() + scale_color_gradient2(low =\"#BCE4D8\",\n",
    "                                       mid = \"#3E9AB4\",\n",
    "                                       high = \"#2C5985\",\n",
    "                                       midpoint = 20,\n",
    "                                       na.value = \"grey70\") +\n",
    "  theme_pubr(legend = \"right\") +\n",
    "  facet_wrap(~name)+\n",
    "  theme(strip.background = element_rect(fill= NA, linewidth = 1),\n",
    "        strip.text = element_text(size = 13)) +\n",
    "  scale_x_continuous(limits = c(1,2.5), breaks = c(1,2.0, 2.5))\n",
    "\n",
    "\n",
    "pgsea_3 %>% ggsave(\"figure_prep/p_DME_eQTLsubset_module.pdf\",\n",
    "                   .,\n",
    "                   width = 16,\n",
    "                   height = 8,\n",
    "                   units = \"cm\",\n",
    "                   dpi = 300)\n",
    " df_gsea_res_CD8_egene %>% arrange(padj) %>% top_n(n = 10, -pval) "
   ]
  }
 ],
 "metadata": {
  "language_info": {
   "name": "python"
  }
 },
 "nbformat": 4,
 "nbformat_minor": 2
}
